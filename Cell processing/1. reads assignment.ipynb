{
 "cells": [
  {
   "cell_type": "markdown",
   "metadata": {},
   "source": [
    "# Reads Assignment"
   ]
  },
  {
   "cell_type": "markdown",
   "metadata": {},
   "source": [
    "2023-04-04"
   ]
  },
  {
   "cell_type": "code",
   "execution_count": null,
   "metadata": {},
   "outputs": [],
   "source": [
    "import sys\n",
    "import numpy as np\n",
    "import pandas as pd\n",
    "import seaborn as sns\n",
    "from starmap.sequencing import *\n",
    "from natsort import natsorted\n",
    "from scipy.io import loadmat, savemat\n",
    "from skimage.filters import threshold_otsu\n",
    "from skimage.color import label2rgb\n",
    "from tqdm import tqdm"
   ]
  },
  {
   "cell_type": "markdown",
   "metadata": {},
   "source": [
    "### Functions"
   ]
  },
  {
   "cell_type": "code",
   "execution_count": null,
   "metadata": {},
   "outputs": [],
   "source": [
    "from functools import wraps\n",
    "from time import time\n",
    "\n",
    "# Timer\n",
    "def timer(func):\n",
    "    @wraps(func)\n",
    "    def _time_it(*args, **kwargs):\n",
    "        start = int(round(time() * 1000))\n",
    "        try:\n",
    "            return func(*args, **kwargs)\n",
    "        finally:\n",
    "            end_ = int(round(time() * 1000)) - start\n",
    "            end_ = round(end_ / 1000, 4)\n",
    "            print(f\"Total execution time: {end_ if end_ > 0 else 0} s\")\n",
    "    return _time_it\n",
    "\n",
    "\n",
    "@timer\n",
    "# Load reads and their positions from mat file\n",
    "def load_reads(fpath, reads_file):\n",
    "    S = loadmat(os.path.join(fpath, reads_file))\n",
    "    bases = [str(i[0][0]) for i in S[\"merged_reads\"]]\n",
    "    points = S[\"merged_points\"]\n",
    "    temp = np.zeros(points.shape)\n",
    "    temp[:, 0] = np.round(points[:, 1]-1)\n",
    "    temp[:, 1] = np.round(points[:, 0]-1)\n",
    "    temp[:, 2] = np.round(points[:, 2]-1)\n",
    "    \n",
    "    print(f\"Number of reads: {len(bases)}\")\n",
    "    \n",
    "    return bases, temp\n",
    "\n",
    "\n",
    "# Load gene table from genes.csv\n",
    "def load_genes(fpath):\n",
    "    genes2seq = {}\n",
    "    seq2genes = {}\n",
    "    with open(os.path.join(fpath, \"genes.csv\"), encoding='utf-8-sig') as f:\n",
    "        for l in f:\n",
    "            fields = l.rstrip().split(\",\")\n",
    "            genes2seq[fields[0]] = \"\".join([str(s+1) for s in encode_SOLID(fields[1][::-1])])\n",
    "            seq2genes[genes2seq[fields[0]]] = fields[0]\n",
    "    return genes2seq, seq2genes"
   ]
  },
  {
   "cell_type": "markdown",
   "metadata": {},
   "source": [
    "## Input"
   ]
  },
  {
   "cell_type": "code",
   "execution_count": null,
   "metadata": {},
   "outputs": [],
   "source": [
    "# IO path \n",
    "base_path = 'Z:/Data/Analyzed/2021-07-16-Rena-Hela-EU/'\n",
    "out_path = os.path.join(base_path, 'output')\n",
    "if not os.path.exists(out_path):\n",
    "    os.mkdir(out_path)\n",
    "    \n",
    "sample_dict = {'20h_labeling': '20h labeling',\n",
    "               '1h_labeling_6h_wash': '1h labeling, 6h wash',\n",
    "               '1h_labeling_4h_wash': '1h labeling, 4h wash',\n",
    "               '1h_labeling_2h_wash': '1h labeling, 2h wash',\n",
    "               '1h_labeling_1h_wash': '1h labeling, 1h wash',\n",
    "               '1h_labeling': '1h labeling'}\n",
    "sample_dirs = list(sample_dict.keys())"
   ]
  },
  {
   "cell_type": "markdown",
   "metadata": {},
   "source": [
    "## Run pipeline for individual sample"
   ]
  },
  {
   "cell_type": "code",
   "execution_count": null,
   "metadata": {},
   "outputs": [],
   "source": [
    "# Iterate through each sample dir\n",
    "current_dir = sample_dirs[0]\n",
    "# print(test_dir)\n",
    "\n",
    "print(f\"Current sample: {current_dir}\")\n",
    "\n",
    "# Load genes\n",
    "genes2seqs, seqs2genes = load_genes(base_path)\n",
    "\n",
    "# Load reads \n",
    "bases, points = load_reads(os.path.join(base_path, current_dir), \"merged_goodPoints_max3d_new.mat\")\n",
    "bases = np.array(bases)\n",
    "points = np.array(points)"
   ]
  },
  {
   "cell_type": "code",
   "execution_count": null,
   "metadata": {},
   "outputs": [],
   "source": [
    "# structure_dict = {'whole_cell': 'cell.tif'}\n",
    "\n",
    "structure_dict = {'whole_cell': 'cell.tif',\n",
    "                 'nucleus': 'nuclei.tif',\n",
    "                 'cytoplasm': 'cyto.tif',\n",
    "                 'outer_cytoplasm': 'outer_cyto.tif',\n",
    "                 'er': 'er.tif'}\n",
    "\n",
    "total_cells = None\n",
    "expr_out_path = os.path.join(out_path, current_dir)\n",
    "if not os.path.exists(expr_out_path):\n",
    "    os.mkdir(expr_out_path)\n",
    "        \n",
    "expr_dict = {}\n",
    "for current_structure in structure_dict.keys():\n",
    "    print(f\"====Processing: {current_structure}====\")\n",
    "    # Path\n",
    "\n",
    "    # Load segmentation\n",
    "    current_seg = load_label_image(os.path.join(base_path, current_dir), fname=structure_dict[current_structure])\n",
    "\n",
    "    # Load image\n",
    "    current_img = load_label_image(os.path.join(base_path, current_dir), fname='overlay_label.tiff')\n",
    "    \n",
    "    # Set figsize\n",
    "    figsize = (np.floor(current_img.shape[1] / 1000 * 5), np.floor(current_img.shape[0] / 1000 * 5))\n",
    "\n",
    "#     # Plot cell number \n",
    "#     t_size = 10\n",
    "#     plt.figure(figsize=figsize)\n",
    "#     plt.imshow(current_img > 0)\n",
    "#     for i, region in enumerate(regionprops(current_seg)):\n",
    "#         plt.plot(region.centroid[1], region.centroid[0], '.', color='red', markersize=4)\n",
    "#         plt.text(region.centroid[1], region.centroid[0], str(region.label - 1), fontsize=t_size, color='red')\n",
    "#     plt.axis('off')\n",
    "#     plt.savefig(os.path.join(seg_path, f\"cell_nums_{current_structure}.png\"))\n",
    "#     plt.clf()\n",
    "#     plt.close()\n",
    "    \n",
    "    if current_structure == 'whole_cell':\n",
    "        # Plot dots on segmentation mask\n",
    "        plt.figure(figsize=figsize)\n",
    "        plt.imshow(current_img > 0, cmap='gray')\n",
    "        plt.plot(points[:, 1], points[:, 0], '.', color='red', markersize=1)\n",
    "        plt.axis('off')\n",
    "        print(f\"Saving points_seg.png\")\n",
    "        plt.savefig(os.path.join(expr_out_path, f\"points_seg_{current_structure}.png\"))\n",
    "        plt.clf()\n",
    "        plt.close()\n",
    "    \n",
    "    \n",
    "    # Reads assignment to current_structure\n",
    "    current_out_path = os.path.join(expr_out_path, current_structure)\n",
    "    if not os.path.exists(current_out_path):\n",
    "        os.mkdir(current_out_path)\n",
    "\n",
    "    points = points.astype(int)\n",
    "    reads_assignment = current_seg[points[:, 2], points[:, 0], points[:, 1]]\n",
    "\n",
    "    reads_info = pd.DataFrame({'x':points[:, 0], 'y':points[:, 1], 'z':points[:, 2], 'cell_label':reads_assignment})\n",
    "    reads_info = reads_info.astype(np.int32)\n",
    "    reads_info['orig_index'] = reads_info['cell_label'] - 1\n",
    "    reads_info['gene'] = bases\n",
    "    \n",
    "    reads_info.to_csv(os.path.join(current_out_path, 'reads-info.csv'))\n",
    "    \n",
    "    if not total_cells:\n",
    "        total_cells = len(np.unique(current_seg)) - 1\n",
    "        print(f\"Total number of cells: {total_cells}\")\n",
    "\n",
    "    genes = genes2seqs.keys()\n",
    "    cell_by_barcode = np.zeros((total_cells, len(genes)))\n",
    "    genes_to_index = {}  # map from sequence to index into matrix\n",
    "\n",
    "    for i, k in enumerate(genes):\n",
    "        genes_to_index[k] = i\n",
    "        \n",
    "    # Get region information \n",
    "    print('Getting region information...')\n",
    "    region_labels = []\n",
    "    areas_dict = []\n",
    "    cell_locs_dict = []\n",
    "    for i, region in enumerate(tqdm(regionprops(current_seg))):\n",
    "        # print(region.label)\n",
    "        region_labels.append(region.label)\n",
    "        areas_dict.append(region.area)\n",
    "        cell_locs_dict.append(region.centroid)\n",
    "        \n",
    "#         areas_dict[region.label] = region.area\n",
    "#         cell_locs_dict[region.label] = region.centroid\n",
    "    \n",
    "    # Iterate through cells\n",
    "    print('Iterate cells...')\n",
    "    areas = []\n",
    "    cell_locs = []\n",
    "    for i in tqdm(range(total_cells)):\n",
    "        current_label = i+1\n",
    "        if current_label in region_labels:\n",
    "            areas.append(areas_dict[region_labels.index(current_label)])\n",
    "            cell_locs.append(cell_locs_dict[region_labels.index(current_label)])\n",
    "        else:\n",
    "            areas.append(0)\n",
    "            cell_locs.append([0, 0, 0])\n",
    "            \n",
    "        assigned_reads = bases[np.argwhere(reads_assignment == current_label).flatten()]\n",
    "        for j in assigned_reads:\n",
    "            if j in genes_to_index:\n",
    "                cell_by_barcode[i, genes_to_index[j]] += 1\n",
    "\n",
    "    cell_locs = np.array(cell_locs).astype(int)\n",
    "    curr_meta = pd.DataFrame({'sample': current_dir, 'volume': areas,\n",
    "                              'x':cell_locs[:, 1], 'y':cell_locs[:, 2], 'z':cell_locs[:, 0]})\n",
    "\n",
    "    # Output\n",
    "    with open(os.path.join(current_out_path, \"log.txt\"), 'w') as f:\n",
    "        msg = \"{:.2%} percent [{} out of {}] reads were assigned to {} cells\".format(cell_by_barcode.sum()/len(bases), cell_by_barcode.sum(), len(bases), total_cells)\n",
    "        print(msg)\n",
    "        f.write(msg)\n",
    "    np.savetxt(os.path.join(current_out_path, \"cell_barcode_count.csv\"), cell_by_barcode.astype(np.int), delimiter=',', fmt=\"%d\")\n",
    "    cell_barcode_names = pd.DataFrame({'seq': list(seqs2genes.keys()), 'gene': list(seqs2genes.values())})\n",
    "    cell_barcode_names.to_csv(os.path.join(current_out_path, \"cell_barcode_names.csv\"), header=False)\n",
    "    curr_meta.to_csv(os.path.join(current_out_path, \"meta.csv\"))\n",
    "\n",
    "    expr_dict[current_structure] = cell_by_barcode\n",
    "    # print(curr_meta.head())\n",
    "    # sns.distplot(areas)"
   ]
  },
  {
   "cell_type": "code",
   "execution_count": null,
   "metadata": {},
   "outputs": [],
   "source": [
    "curr_meta"
   ]
  },
  {
   "cell_type": "code",
   "execution_count": null,
   "metadata": {},
   "outputs": [],
   "source": [
    "curr_meta.loc[curr_meta.volume == 0, ]"
   ]
  },
  {
   "cell_type": "markdown",
   "metadata": {},
   "source": [
    "## Check expression pattern"
   ]
  },
  {
   "cell_type": "code",
   "execution_count": null,
   "metadata": {},
   "outputs": [],
   "source": [
    "# Get assigned reads \n",
    "assigned_index = np.argwhere(reads_assignment != 0).flatten()\n",
    "assigned_bases = bases[assigned_index]\n",
    "assigned_points = points[assigned_index, :]"
   ]
  },
  {
   "cell_type": "code",
   "execution_count": null,
   "metadata": {},
   "outputs": [],
   "source": [
    "gene = 'MALAT1'\n",
    "curr_index = np.argwhere(assigned_bases == gene).flatten()\n",
    "curr_points = assigned_points[curr_index, :]\n",
    "print(f\"Number of reads: {curr_points.shape[0]}\")"
   ]
  },
  {
   "cell_type": "code",
   "execution_count": null,
   "metadata": {},
   "outputs": [],
   "source": [
    "# Plot dots on segmentation mask\n",
    "plt.figure(figsize=(10, 10))\n",
    "plt.imshow(cyto, cmap='gray')\n",
    "plt.plot(curr_points[:, 1], curr_points[:, 0], '.', color='red', markersize=.5)\n",
    "plt.axis('off')\n",
    "plt.show()"
   ]
  },
  {
   "cell_type": "code",
   "execution_count": null,
   "metadata": {},
   "outputs": [],
   "source": [
    "# Get read quantification for each gene after read assignemnt \n",
    "per_gene_expr = pd.DataFrame({'gene': list(genes), 'expr': cell_by_barcode.sum(axis=0)})\n",
    "per_gene_expr = per_gene_expr.sort_values('expr', ascending=False, ignore_index=True)\n",
    "per_gene_expr.head(20)"
   ]
  },
  {
   "cell_type": "code",
   "execution_count": null,
   "metadata": {},
   "outputs": [],
   "source": [
    "selected_genes = per_gene_expr.head(20).gene.to_list() + list(genes)[:7]\n",
    "expr_figure_out_path = os.path.join(expr_out_path, 'assigned_figures')\n",
    "if not os.path.exists(expr_figure_out_path):\n",
    "    os.mkdir(expr_figure_out_path)\n",
    "    \n",
    "for i, gene in enumerate(selected_genes):\n",
    "    \n",
    "    curr_index = np.argwhere(assigned_bases == gene).flatten()\n",
    "    curr_points = assigned_points[curr_index, :]\n",
    "    n_reads = curr_points.shape[0]\n",
    "\n",
    "    # Plot\n",
    "    plt.figure(figsize=(10, 10))\n",
    "    plt.imshow(cyto, cmap='gray')\n",
    "    plt.plot(curr_points[:, 1], curr_points[:, 0], '.', color='red', markersize=.5)\n",
    "    plt.axis('off')\n",
    "    expr_figure_path = os.path.join(expr_figure_out_path, f\"{i+1}.{gene}_{n_reads}.png\")\n",
    "    plt.savefig(expr_figure_path)\n",
    "    plt.clf()\n",
    "    plt.close()"
   ]
  },
  {
   "cell_type": "markdown",
   "metadata": {},
   "source": [
    "## Generate complete matrix for all samples"
   ]
  },
  {
   "cell_type": "code",
   "execution_count": null,
   "metadata": {},
   "outputs": [],
   "source": [
    "# Construct complete matrix\n",
    "\n",
    "for current_structure in structure_dict.keys():\n",
    "    print(f\"====Generating: {current_structure}====\")\n",
    "    cell_by_gene_complete = None\n",
    "    meta_complete = None\n",
    "    for i, d in enumerate(sample_dirs):\n",
    "        print(f\"Loading sample: {d}\")\n",
    "        current_expr_path = os.path.join(out_path, d, current_structure)\n",
    "        current_expr = np.loadtxt(os.path.join(current_expr_path, \"cell_barcode_count.csv\"), dtype=int, delimiter=',')\n",
    "        current_meta = pd.read_csv(os.path.join(current_expr_path, \"meta.csv\"))\n",
    "\n",
    "        # add to complete matrix\n",
    "        if cell_by_gene_complete is not None:\n",
    "            cell_by_gene_complete = np.concatenate((cell_by_gene_complete, current_expr))\n",
    "        else:\n",
    "            cell_by_gene_complete = current_expr\n",
    "\n",
    "        if meta_complete is not None:\n",
    "            meta_complete = pd.concat([meta_complete, current_meta])\n",
    "        else:\n",
    "            meta_complete = current_meta\n",
    "\n",
    "    current_output_path = os.path.join(out_path, current_structure)\n",
    "    if not os.path.exists(current_output_path):\n",
    "        os.mkdir(current_output_path)\n",
    "    np.savetxt(os.path.join(current_output_path, \"complete_cell_barcode_count.csv\"), cell_by_gene_complete.astype(np.int), delimiter=',', fmt=\"%d\")\n",
    "    meta_complete = meta_complete.reset_index(drop=True)\n",
    "    meta_complete = meta_complete.rename(columns={\"Unnamed: 0\": \"orig_index\"})\n",
    "    meta_complete.to_csv(os.path.join(current_output_path, \"complete_meta.csv\"))\n",
    "    cell_barcode_names.to_csv(os.path.join(current_output_path, \"cell_barcode_names.csv\"), header=False)"
   ]
  },
  {
   "cell_type": "code",
   "execution_count": null,
   "metadata": {},
   "outputs": [],
   "source": [
    "meta_complete.shape"
   ]
  },
  {
   "cell_type": "code",
   "execution_count": null,
   "metadata": {},
   "outputs": [],
   "source": [
    "cell_by_gene_complete.shape"
   ]
  },
  {
   "cell_type": "code",
   "execution_count": null,
   "metadata": {},
   "outputs": [],
   "source": [
    "meta_complete"
   ]
  },
  {
   "cell_type": "code",
   "execution_count": null,
   "metadata": {},
   "outputs": [],
   "source": [
    "sns.distplot(meta_complete['volume'])"
   ]
  }
 ],
 "metadata": {
  "kernelspec": {
   "display_name": "Python 3 (ipykernel)",
   "language": "python",
   "name": "python3"
  },
  "language_info": {
   "codemirror_mode": {
    "name": "ipython",
    "version": 3
   },
   "file_extension": ".py",
   "mimetype": "text/x-python",
   "name": "python",
   "nbconvert_exporter": "python",
   "pygments_lexer": "ipython3",
   "version": "3.8.12"
  }
 },
 "nbformat": 4,
 "nbformat_minor": 4
}
