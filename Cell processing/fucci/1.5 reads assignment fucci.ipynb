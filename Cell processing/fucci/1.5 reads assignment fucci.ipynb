{
 "cells": [
  {
   "cell_type": "markdown",
   "id": "196ef039-a6bb-4b95-8792-20d7c478b4aa",
   "metadata": {},
   "source": [
    "# Reads Assignment - FUCCI"
   ]
  },
  {
   "cell_type": "code",
   "execution_count": 1,
   "id": "29f68cd6-7e52-4e51-9781-08bee68d1807",
   "metadata": {},
   "outputs": [],
   "source": [
    "import sys\n",
    "import numpy as np\n",
    "import pandas as pd\n",
    "import seaborn as sns\n",
    "import scanpy as sc\n",
    "from starmap.sequencing import *\n",
    "from natsort import natsorted\n",
    "from scipy.io import loadmat, savemat\n",
    "from skimage.filters import threshold_otsu\n",
    "from skimage.color import label2rgb"
   ]
  },
  {
   "cell_type": "code",
   "execution_count": 2,
   "id": "86ba4316-5c90-4aec-ae1a-7061f4a316ce",
   "metadata": {},
   "outputs": [],
   "source": [
    "from tqdm.notebook import tqdm"
   ]
  },
  {
   "cell_type": "markdown",
   "id": "ff4949f6-b3d2-4831-a0ef-3ad5343b8d38",
   "metadata": {},
   "source": [
    "### Functions"
   ]
  },
  {
   "cell_type": "code",
   "execution_count": 3,
   "id": "e40368a2-1816-4b99-b8c9-c45ed2891688",
   "metadata": {},
   "outputs": [],
   "source": [
    "from functools import wraps\n",
    "from time import time\n",
    "\n",
    "# Timer\n",
    "def timer(func):\n",
    "    @wraps(func)\n",
    "    def _time_it(*args, **kwargs):\n",
    "        start = int(round(time() * 1000))\n",
    "        try:\n",
    "            return func(*args, **kwargs)\n",
    "        finally:\n",
    "            end_ = int(round(time() * 1000)) - start\n",
    "            end_ = round(end_ / 1000, 4)\n",
    "            print(f\"Total execution time: {end_ if end_ > 0 else 0} s\")\n",
    "    return _time_it\n",
    "\n",
    "\n",
    "@timer\n",
    "# Load reads and their positions from mat file\n",
    "def load_reads(fpath, reads_file):\n",
    "    S = loadmat(os.path.join(fpath, reads_file))\n",
    "    bases = [str(i[0][0]) for i in S[\"merged_reads\"]]\n",
    "    points = S[\"merged_points\"]\n",
    "    temp = np.zeros(points.shape)\n",
    "    temp[:, 0] = np.round(points[:, 1]-1)\n",
    "    temp[:, 1] = np.round(points[:, 0]-1)\n",
    "    temp[:, 2] = np.round(points[:, 2]-1)\n",
    "    \n",
    "    print(f\"Number of reads: {len(bases)}\")\n",
    "    \n",
    "    return bases, temp\n",
    "\n",
    "\n",
    "# Load gene table from genes.csv\n",
    "def load_genes(fpath):\n",
    "    genes2seq = {}\n",
    "    seq2genes = {}\n",
    "    with open(os.path.join(fpath, \"genes.csv\"), encoding='utf-8-sig') as f:\n",
    "        for l in f:\n",
    "            fields = l.rstrip().split(\",\")\n",
    "            genes2seq[fields[0]] = \"\".join([str(s+1) for s in encode_SOLID(fields[1][::-1])])\n",
    "            seq2genes[genes2seq[fields[0]]] = fields[0]\n",
    "    return genes2seq, seq2genes"
   ]
  },
  {
   "cell_type": "markdown",
   "id": "ba234b87-d507-4b8e-99f9-c49a02efe3a7",
   "metadata": {},
   "source": [
    "## Input"
   ]
  },
  {
   "cell_type": "code",
   "execution_count": 4,
   "id": "7e3c617d-9031-49e9-9f20-176697797945",
   "metadata": {},
   "outputs": [],
   "source": [
    "# IO path \n",
    "# base_path = './'\n",
    "input_path = 'Z:/Data/Analyzed/2022-02-02-Hu-Hela_FUCCI/'\n",
    "\n",
    "out_path = os.path.join(input_path, 'output')\n",
    "if not os.path.exists(out_path):\n",
    "    os.mkdir(out_path)"
   ]
  },
  {
   "cell_type": "markdown",
   "id": "510e9e6a-3ed0-491f-b896-e1c6cf2e8989",
   "metadata": {},
   "source": [
    "## Run pipeline for individual sample"
   ]
  },
  {
   "cell_type": "code",
   "execution_count": 5,
   "id": "748d3415-2f0c-41d5-9243-3bfb6fd18881",
   "metadata": {},
   "outputs": [
    {
     "name": "stdout",
     "output_type": "stream",
     "text": [
      "Current sample: ribomap\n",
      "Number of reads: 3107821\n",
      "Total execution time: 21.342 s\n"
     ]
    }
   ],
   "source": [
    "current_sample = 'ribomap'\n",
    "print(f\"Current sample: {current_sample}\")\n",
    "\n",
    "# Load genes\n",
    "genes2seqs, seqs2genes = load_genes(input_path)\n",
    "\n",
    "# Load reads \n",
    "bases, points = load_reads(os.path.join(input_path, 'merged_spots', current_sample), \"merged_goodPoints_max3d.mat\")\n",
    "bases = np.array([seqs2genes[x] for x in bases])\n",
    "points = np.array(points)"
   ]
  },
  {
   "cell_type": "code",
   "execution_count": 6,
   "id": "12b42abe-635f-4a1b-b93b-874e8646e984",
   "metadata": {},
   "outputs": [
    {
     "name": "stdout",
     "output_type": "stream",
     "text": [
      "====Processing: whole_cell====\n",
      "Total number of cells: 1949\n",
      "Getting region information...\n"
     ]
    },
    {
     "data": {
      "application/vnd.jupyter.widget-view+json": {
       "model_id": "e78a4e77dcc6420c97f8d21aa7effe8d",
       "version_major": 2,
       "version_minor": 0
      },
      "text/plain": [
       "  0%|          | 0/1949 [00:00<?, ?it/s]"
      ]
     },
     "metadata": {},
     "output_type": "display_data"
    },
    {
     "name": "stdout",
     "output_type": "stream",
     "text": [
      "Iterate cells...\n"
     ]
    },
    {
     "data": {
      "application/vnd.jupyter.widget-view+json": {
       "model_id": "fe5ba3a0ee344bdc839abcbef8af6585",
       "version_major": 2,
       "version_minor": 0
      },
      "text/plain": [
       "  0%|          | 0/1949 [00:00<?, ?it/s]"
      ]
     },
     "metadata": {},
     "output_type": "display_data"
    },
    {
     "name": "stdout",
     "output_type": "stream",
     "text": [
      "94.56% percent [2938866.0 out of 3107821] reads were assigned to 1949 cells\n"
     ]
    },
    {
     "name": "stderr",
     "output_type": "stream",
     "text": [
      "C:\\Users\\jiahao\\.conda\\envs\\bio38\\lib\\site-packages\\seaborn\\distributions.py:2557: FutureWarning: `distplot` is a deprecated function and will be removed in a future version. Please adapt your code to use either `displot` (a figure-level function with similar flexibility) or `histplot` (an axes-level function for histograms).\n",
      "  warnings.warn(msg, FutureWarning)\n"
     ]
    },
    {
     "name": "stdout",
     "output_type": "stream",
     "text": [
      "====Processing: nucleus====\n",
      "Getting region information...\n"
     ]
    },
    {
     "data": {
      "application/vnd.jupyter.widget-view+json": {
       "model_id": "11f645564ed8402ebe3c24fe25ebf065",
       "version_major": 2,
       "version_minor": 0
      },
      "text/plain": [
       "  0%|          | 0/1949 [00:00<?, ?it/s]"
      ]
     },
     "metadata": {},
     "output_type": "display_data"
    },
    {
     "name": "stdout",
     "output_type": "stream",
     "text": [
      "Iterate cells...\n"
     ]
    },
    {
     "data": {
      "application/vnd.jupyter.widget-view+json": {
       "model_id": "cdda524799544c2699d813f15dbe0b83",
       "version_major": 2,
       "version_minor": 0
      },
      "text/plain": [
       "  0%|          | 0/1949 [00:00<?, ?it/s]"
      ]
     },
     "metadata": {},
     "output_type": "display_data"
    },
    {
     "name": "stdout",
     "output_type": "stream",
     "text": [
      "12.03% percent [373791.0 out of 3107821] reads were assigned to 1949 cells\n"
     ]
    },
    {
     "name": "stderr",
     "output_type": "stream",
     "text": [
      "C:\\Users\\jiahao\\.conda\\envs\\bio38\\lib\\site-packages\\seaborn\\distributions.py:2557: FutureWarning: `distplot` is a deprecated function and will be removed in a future version. Please adapt your code to use either `displot` (a figure-level function with similar flexibility) or `histplot` (an axes-level function for histograms).\n",
      "  warnings.warn(msg, FutureWarning)\n"
     ]
    },
    {
     "name": "stdout",
     "output_type": "stream",
     "text": [
      "====Processing: cytoplasm====\n",
      "Getting region information...\n"
     ]
    },
    {
     "data": {
      "application/vnd.jupyter.widget-view+json": {
       "model_id": "ba3cab8dde3b498fb202ea3640d1bc12",
       "version_major": 2,
       "version_minor": 0
      },
      "text/plain": [
       "  0%|          | 0/1949 [00:00<?, ?it/s]"
      ]
     },
     "metadata": {},
     "output_type": "display_data"
    },
    {
     "name": "stdout",
     "output_type": "stream",
     "text": [
      "Iterate cells...\n"
     ]
    },
    {
     "data": {
      "application/vnd.jupyter.widget-view+json": {
       "model_id": "103f7f3e4ad34dfd8b218d46b91fe5ab",
       "version_major": 2,
       "version_minor": 0
      },
      "text/plain": [
       "  0%|          | 0/1949 [00:00<?, ?it/s]"
      ]
     },
     "metadata": {},
     "output_type": "display_data"
    },
    {
     "name": "stdout",
     "output_type": "stream",
     "text": [
      "82.54% percent [2565075.0 out of 3107821] reads were assigned to 1949 cells\n"
     ]
    },
    {
     "name": "stderr",
     "output_type": "stream",
     "text": [
      "C:\\Users\\jiahao\\.conda\\envs\\bio38\\lib\\site-packages\\seaborn\\distributions.py:2557: FutureWarning: `distplot` is a deprecated function and will be removed in a future version. Please adapt your code to use either `displot` (a figure-level function with similar flexibility) or `histplot` (an axes-level function for histograms).\n",
      "  warnings.warn(msg, FutureWarning)\n"
     ]
    },
    {
     "name": "stdout",
     "output_type": "stream",
     "text": [
      "====Processing: outer_cytoplasm====\n",
      "Getting region information...\n"
     ]
    },
    {
     "data": {
      "application/vnd.jupyter.widget-view+json": {
       "model_id": "76b7584a86d143268b6693ec9cda7218",
       "version_major": 2,
       "version_minor": 0
      },
      "text/plain": [
       "  0%|          | 0/1949 [00:00<?, ?it/s]"
      ]
     },
     "metadata": {},
     "output_type": "display_data"
    },
    {
     "name": "stdout",
     "output_type": "stream",
     "text": [
      "Iterate cells...\n"
     ]
    },
    {
     "data": {
      "application/vnd.jupyter.widget-view+json": {
       "model_id": "f52a558c732641ccb5f18af80a3c646f",
       "version_major": 2,
       "version_minor": 0
      },
      "text/plain": [
       "  0%|          | 0/1949 [00:00<?, ?it/s]"
      ]
     },
     "metadata": {},
     "output_type": "display_data"
    },
    {
     "name": "stdout",
     "output_type": "stream",
     "text": [
      "25.97% percent [807156.0 out of 3107821] reads were assigned to 1949 cells\n"
     ]
    },
    {
     "name": "stderr",
     "output_type": "stream",
     "text": [
      "C:\\Users\\jiahao\\.conda\\envs\\bio38\\lib\\site-packages\\seaborn\\distributions.py:2557: FutureWarning: `distplot` is a deprecated function and will be removed in a future version. Please adapt your code to use either `displot` (a figure-level function with similar flexibility) or `histplot` (an axes-level function for histograms).\n",
      "  warnings.warn(msg, FutureWarning)\n"
     ]
    },
    {
     "name": "stdout",
     "output_type": "stream",
     "text": [
      "====Processing: er====\n",
      "Getting region information...\n"
     ]
    },
    {
     "data": {
      "application/vnd.jupyter.widget-view+json": {
       "model_id": "8b21e84739d84c4294bbf819d61779cc",
       "version_major": 2,
       "version_minor": 0
      },
      "text/plain": [
       "  0%|          | 0/1949 [00:00<?, ?it/s]"
      ]
     },
     "metadata": {},
     "output_type": "display_data"
    },
    {
     "name": "stdout",
     "output_type": "stream",
     "text": [
      "Iterate cells...\n"
     ]
    },
    {
     "data": {
      "application/vnd.jupyter.widget-view+json": {
       "model_id": "ddd7faf83a58442d8e793b2d06b63190",
       "version_major": 2,
       "version_minor": 0
      },
      "text/plain": [
       "  0%|          | 0/1949 [00:00<?, ?it/s]"
      ]
     },
     "metadata": {},
     "output_type": "display_data"
    },
    {
     "name": "stdout",
     "output_type": "stream",
     "text": [
      "56.57% percent [1758037.0 out of 3107821] reads were assigned to 1949 cells\n"
     ]
    },
    {
     "name": "stderr",
     "output_type": "stream",
     "text": [
      "C:\\Users\\jiahao\\.conda\\envs\\bio38\\lib\\site-packages\\seaborn\\distributions.py:2557: FutureWarning: `distplot` is a deprecated function and will be removed in a future version. Please adapt your code to use either `displot` (a figure-level function with similar flexibility) or `histplot` (an axes-level function for histograms).\n",
      "  warnings.warn(msg, FutureWarning)\n"
     ]
    },
    {
     "data": {
      "image/png": "[encoded data removed]",
      "text/plain": [
       "<Figure size 432x288 with 1 Axes>"
      ]
     },
     "metadata": {
      "needs_background": "light"
     },
     "output_type": "display_data"
    }
   ],
   "source": [
    "structure_dict = {'whole_cell': 'cell.tif',\n",
    "                 'nucleus': 'nuclei.tif',\n",
    "                 'cytoplasm': 'cyto.tif',\n",
    "                 'outer_cytoplasm': 'outer_cyto.tif',\n",
    "                 'er': 'er.tif'}\n",
    "\n",
    "total_cells = None\n",
    "\n",
    "expr_out_path = os.path.join(out_path, current_sample)\n",
    "if not os.path.exists(expr_out_path):\n",
    "    os.mkdir(expr_out_path)\n",
    "        \n",
    "expr_dict = {}\n",
    "for current_structure in structure_dict.keys():\n",
    "    print(f\"====Processing: {current_structure}====\")\n",
    "    # Path\n",
    "    seg_path = os.path.join(input_path, 'segmentation', current_sample)\n",
    "    img_path = os.path.join(input_path, 'images', current_sample)\n",
    "\n",
    "    # Load segmentation\n",
    "    current_seg = load_label_image(seg_path, fname=structure_dict[current_structure])\n",
    "\n",
    "    # # Load fluro image\n",
    "    # fluro_ch01 = load_label_image(img_path, fname='fluro_ch01.tif')\n",
    "    # fluro_ch02 = load_label_image(img_path, fname='fluro_ch02.tif')\n",
    "    \n",
    "#     if current_structure == 'whole_cell':\n",
    "        \n",
    "#         # Load image\n",
    "#         current_img = load_label_image(seg_path, fname='overlay_label.tiff')\n",
    "\n",
    "#         # Set figsize\n",
    "#         figsize = (np.floor(current_img.shape[1] / 1000 * 5), np.floor(current_img.shape[0] / 1000 * 5))\n",
    "\n",
    "#         # Plot cell number \n",
    "#         t_size = 10\n",
    "#         plt.figure(figsize=figsize)\n",
    "#         plt.imshow(current_img > 0, cmap='Greys')\n",
    "#         for i, region in enumerate(regionprops(current_seg)):\n",
    "#             plt.plot(region.centroid[1], region.centroid[0], '.', color='red', markersize=4)\n",
    "#             plt.text(region.centroid[1], region.centroid[0], str(region.label - 1), fontsize=t_size, color='red')\n",
    "#         plt.axis('off')\n",
    "#         plt.savefig(os.path.join(seg_path, f\"cell_nums_{current_structure}.png\"))\n",
    "#         plt.clf()\n",
    "#         plt.close()\n",
    "    \n",
    "#         # Plot dots on segmentation mask\n",
    "#         plt.figure(figsize=figsize)\n",
    "#         plt.imshow(current_img > 0, cmap='gray')\n",
    "#         plt.plot(points[:, 1], points[:, 0], '.', color='red', markersize=1)\n",
    "#         plt.axis('off')\n",
    "#         print(f\"Saving points_seg.png\")\n",
    "#         plt.savefig(os.path.join(seg_path, f\"points_seg_{current_structure}.png\"))\n",
    "#         plt.clf()\n",
    "#         plt.close()\n",
    "    \n",
    "    \n",
    "    # Reads assignment to current_structure\n",
    "    current_out_path = os.path.join(expr_out_path, current_structure)\n",
    "    if not os.path.exists(current_out_path):\n",
    "        os.mkdir(current_out_path)\n",
    "\n",
    "    points = points.astype(int)\n",
    "    reads_assignment = current_seg[points[:, 2], points[:, 0], points[:, 1]]\n",
    "\n",
    "    if not total_cells:\n",
    "        total_cells = len(np.unique(current_seg)) - 1\n",
    "        print(f\"Total number of cells: {total_cells}\")\n",
    "\n",
    "    genes = genes2seqs.keys()\n",
    "    cell_by_barcode = np.zeros((total_cells, len(genes)))\n",
    "    genes_to_index = {}  # map from sequence to index into matrix\n",
    "\n",
    "    for i, k in enumerate(genes):\n",
    "        genes_to_index[k] = i\n",
    "        \n",
    "    # Get region information \n",
    "    print('Getting region information...')\n",
    "    region_labels = []\n",
    "    areas_dict = []\n",
    "    cell_locs_dict = []\n",
    "    for i, region in enumerate(tqdm(regionprops(current_seg))):\n",
    "        # print(region.label)\n",
    "        region_labels.append(region.label)\n",
    "        areas_dict.append(region.area)\n",
    "        cell_locs_dict.append(region.centroid)\n",
    "        \n",
    "#         areas_dict[region.label] = region.area\n",
    "#         cell_locs_dict[region.label] = region.centroid\n",
    "    \n",
    "    # Iterate through cells\n",
    "    print('Iterate cells...')\n",
    "    areas = []\n",
    "    cell_locs = []\n",
    "    for i in tqdm(range(total_cells)):\n",
    "        current_label = i+1\n",
    "        if current_label in region_labels:\n",
    "            areas.append(areas_dict[region_labels.index(current_label)])\n",
    "            cell_locs.append(cell_locs_dict[region_labels.index(current_label)])\n",
    "        else:\n",
    "            areas.append(0)\n",
    "            cell_locs.append([0, 0, 0])\n",
    "            \n",
    "        assigned_reads = bases[np.argwhere(reads_assignment == current_label).flatten()]\n",
    "        for j in assigned_reads:\n",
    "            if j in genes_to_index:\n",
    "                cell_by_barcode[i, genes_to_index[j]] += 1\n",
    "\n",
    "    cell_locs = np.array(cell_locs).astype(int)\n",
    "    curr_meta = pd.DataFrame({'sample': 'STARmap', 'area': areas,\n",
    "                              'x':cell_locs[:, 1], 'y':cell_locs[:, 2], 'z':cell_locs[:, 0]})\n",
    "\n",
    "    # Output\n",
    "    with open(os.path.join(current_out_path, \"log.txt\"), 'w') as f:\n",
    "        msg = \"{:.2%} percent [{} out of {}] reads were assigned to {} cells\".format(cell_by_barcode.sum()/len(bases), cell_by_barcode.sum(), len(bases), total_cells)\n",
    "        print(msg)\n",
    "        f.write(msg)\n",
    "    np.savetxt(os.path.join(current_out_path, \"cell_barcode_count.csv\"), cell_by_barcode.astype(np.int), delimiter=',', fmt=\"%d\")\n",
    "    cell_barcode_names = pd.DataFrame({'seq': list(seqs2genes.keys()), 'gene': list(seqs2genes.values())})\n",
    "    cell_barcode_names.to_csv(os.path.join(current_out_path, \"cell_barcode_names.csv\"), header=False)\n",
    "    curr_meta.to_csv(os.path.join(current_out_path, \"meta.csv\"))\n",
    "\n",
    "    expr_dict[current_structure] = cell_by_barcode\n",
    "    # print(curr_meta.head())\n",
    "    sns.distplot(areas)"
   ]
  },
  {
   "cell_type": "markdown",
   "id": "2d4d9c15-4663-44ae-aa54-4eac788ce3cd",
   "metadata": {},
   "source": [
    "## Generate complete matrix for all samples"
   ]
  },
  {
   "cell_type": "code",
   "execution_count": 8,
   "id": "49cb7733-6ccc-41f3-aee7-666958ff90cd",
   "metadata": {},
   "outputs": [
    {
     "name": "stdout",
     "output_type": "stream",
     "text": [
      "====Generating: whole_cell====\n",
      "Loading sample: ribomap\n",
      "Loading sample: starmap\n",
      "====Generating: nucleus====\n",
      "Loading sample: ribomap\n",
      "Loading sample: starmap\n",
      "====Generating: cytoplasm====\n",
      "Loading sample: ribomap\n",
      "Loading sample: starmap\n",
      "====Generating: outer_cytoplasm====\n",
      "Loading sample: ribomap\n",
      "Loading sample: starmap\n",
      "====Generating: er====\n",
      "Loading sample: ribomap\n",
      "Loading sample: starmap\n"
     ]
    }
   ],
   "source": [
    "# Construct complete matrix\n",
    "sample_dirs = ['ribomap', 'starmap']\n",
    "for current_structure in structure_dict.keys():\n",
    "    print(f\"====Generating: {current_structure}====\")\n",
    "    cell_by_gene_complete = None\n",
    "    meta_complete = None\n",
    "    for i, d in enumerate(sample_dirs):\n",
    "        print(f\"Loading sample: {d}\")\n",
    "        current_expr_path = os.path.join(out_path, d, current_structure)\n",
    "        current_expr = np.loadtxt(os.path.join(current_expr_path, \"cell_barcode_count.csv\"), dtype=int, delimiter=',')\n",
    "        current_meta = pd.read_csv(os.path.join(current_expr_path, \"meta.csv\"))\n",
    "\n",
    "        # add to complete matrix\n",
    "        if cell_by_gene_complete is not None:\n",
    "            cell_by_gene_complete = np.concatenate((cell_by_gene_complete, current_expr))\n",
    "        else:\n",
    "            cell_by_gene_complete = current_expr\n",
    "\n",
    "        if meta_complete is not None:\n",
    "            meta_complete = pd.concat([meta_complete, current_meta])\n",
    "        else:\n",
    "            meta_complete = current_meta\n",
    "\n",
    "    current_output_path = os.path.join(out_path, current_structure)\n",
    "    if not os.path.exists(current_output_path):\n",
    "        os.mkdir(current_output_path)\n",
    "    np.savetxt(os.path.join(current_output_path, \"complete_cell_barcode_count.csv\"), cell_by_gene_complete.astype(np.int), delimiter=',', fmt=\"%d\")\n",
    "    meta_complete = meta_complete.reset_index(drop=True)\n",
    "    meta_complete = meta_complete.rename(columns={\"Unnamed: 0\": \"orig_index\"})\n",
    "    meta_complete.to_csv(os.path.join(current_output_path, \"complete_meta.csv\"))\n",
    "    cell_barcode_names.to_csv(os.path.join(current_output_path, \"cell_barcode_names.csv\"), header=False)"
   ]
  },
  {
   "cell_type": "code",
   "execution_count": null,
   "id": "50962288-9128-46d6-9d26-45eaaf02814b",
   "metadata": {},
   "outputs": [],
   "source": []
  }
 ],
 "metadata": {
  "kernelspec": {
   "display_name": "Python 3 (ipykernel)",
   "language": "python",
   "name": "python3"
  },
  "language_info": {
   "codemirror_mode": {
    "name": "ipython",
    "version": 3
   },
   "file_extension": ".py",
   "mimetype": "text/x-python",
   "name": "python",
   "nbconvert_exporter": "python",
   "pygments_lexer": "ipython3",
   "version": "3.8.12"
  }
 },
 "nbformat": 4,
 "nbformat_minor": 5
}
