{
 "cells": [
  {
   "cell_type": "markdown",
   "id": "naked-dating",
   "metadata": {},
   "source": [
    "# Generate Knock Down (KD) Form \n",
    "\n",
    "2021-06-25"
   ]
  },
  {
   "cell_type": "code",
   "execution_count": 1,
   "id": "wound-natural",
   "metadata": {},
   "outputs": [],
   "source": [
    "# Import Packages\n",
    "\n",
    "%load_ext autoreload\n",
    "%autoreload 2\n",
    "\n",
    "import os\n",
    "import warnings \n",
    "warnings.filterwarnings('ignore')\n",
    "import numpy as np\n",
    "import pandas as pd\n",
    "import scanpy as sc\n",
    "import seaborn as sns\n",
    "import matplotlib.pyplot as plt\n",
    "from anndata import AnnData\n",
    "\n",
    "# Customized packages\n",
    "import starmap.sc_util as su\n",
    "\n",
    "# test()"
   ]
  },
  {
   "cell_type": "markdown",
   "id": "disabled-casting",
   "metadata": {},
   "source": [
    "## Input"
   ]
  },
  {
   "cell_type": "code",
   "execution_count": 2,
   "id": "according-center",
   "metadata": {},
   "outputs": [],
   "source": [
    "# Set path\n",
    "base_path = './'\n",
    "out_path = os.path.join(base_path, 'output')\n",
    "form_path = os.path.join(base_path, 'forms')\n",
    "if not os.path.exists(form_path):\n",
    "    os.mkdir(form_path)"
   ]
  },
  {
   "cell_type": "code",
   "execution_count": 3,
   "id": "noble-genre",
   "metadata": {},
   "outputs": [
    {
     "data": {
      "text/plain": [
       "AnnData object with n_obs × n_vars = 19603 × 998\n",
       "    obs: 'orig_index', 'sample', 'volume', 'x', 'y', 'z', 'n_genes_by_counts', 'log1p_n_genes_by_counts', 'total_counts', 'log1p_total_counts', 'n_genes', 'n_counts', 'condition', 'KD_label_combined'\n",
       "    var: 'n_cells_by_counts', 'mean_counts', 'log1p_mean_counts', 'pct_dropout_by_counts', 'total_counts', 'log1p_total_counts', 'max_counts', 'n_cells'\n",
       "    layers: 'cytoplasm', 'er', 'nucleus', 'outer_cytoplasm'"
      ]
     },
     "execution_count": 3,
     "metadata": {},
     "output_type": "execute_result"
    }
   ],
   "source": [
    "# Load adata\n",
    "adata = sc.read_h5ad('./output/2021-09-24-Rena-EU-starmap-raw-KD-combined.h5ad')\n",
    "adata"
   ]
  },
  {
   "cell_type": "code",
   "execution_count": 4,
   "id": "electric-refrigerator",
   "metadata": {},
   "outputs": [],
   "source": [
    "# Generate table for each cluster \n",
    "with pd.ExcelWriter('./forms/2021-09-24-TEMPOmap-pseudobulk.xlsx') as writer:\n",
    "    \n",
    "    for current_kd_cluster in adata.obs['KD_label_combined'].cat.categories:\n",
    "        # Subset \n",
    "        cdata = adata[adata.obs['KD_label_combined'] == current_kd_cluster, ]\n",
    "        # Whole cell  \n",
    "        expr_df = pd.DataFrame(cdata.X, columns=cdata.var.index, index=cdata.obs.index)\n",
    "        expr_df['sample'] = cdata.obs['sample'].values\n",
    "        expr_df = expr_df.groupby(by='sample').mean().T\n",
    "        # nucleus\n",
    "        nuc_expr_df = pd.DataFrame(cdata.layers['nucleus'], columns=cdata.var.index, index=cdata.obs.index)\n",
    "        nuc_expr_df['sample'] = cdata.obs['sample'].values\n",
    "        nuc_expr_df = nuc_expr_df.groupby(by='sample').mean().T\n",
    "        # cytoplasm\n",
    "        cyto_expr_df = pd.DataFrame(cdata.layers['cytoplasm'], columns=cdata.var.index, index=cdata.obs.index)\n",
    "        cyto_expr_df['sample'] = cdata.obs['sample'].values\n",
    "        cyto_expr_df = cyto_expr_df.groupby(by='sample').mean().T\n",
    "        # er\n",
    "        er_expr_df = pd.DataFrame(cdata.layers['er'], columns=cdata.var.index, index=cdata.obs.index)\n",
    "        er_expr_df['sample'] = cdata.obs['sample'].values\n",
    "        er_expr_df = er_expr_df.groupby(by='sample').mean().T\n",
    "        # output\n",
    "        output_df = pd.concat([expr_df, nuc_expr_df, cyto_expr_df, er_expr_df], axis=1)\n",
    "        output_df.to_excel(writer, sheet_name=f\"{current_kd_cluster}-raw\")"
   ]
  },
  {
   "cell_type": "markdown",
   "id": "seasonal-repair",
   "metadata": {},
   "source": [
    "## Test"
   ]
  },
  {
   "cell_type": "code",
   "execution_count": 5,
   "id": "bb621b5e-626b-4803-9171-7e1d49cfb4f4",
   "metadata": {},
   "outputs": [
    {
     "data": {
      "text/plain": [
       "View of AnnData object with n_obs × n_vars = 8617 × 998\n",
       "    obs: 'orig_index', 'sample', 'volume', 'x', 'y', 'z', 'n_genes_by_counts', 'log1p_n_genes_by_counts', 'total_counts', 'log1p_total_counts', 'n_genes', 'n_counts', 'condition', 'KD_label_combined'\n",
       "    var: 'n_cells_by_counts', 'mean_counts', 'log1p_mean_counts', 'pct_dropout_by_counts', 'total_counts', 'log1p_total_counts', 'max_counts', 'n_cells'\n",
       "    layers: 'cytoplasm', 'er', 'nucleus', 'outer_cytoplasm'"
      ]
     },
     "execution_count": 5,
     "metadata": {},
     "output_type": "execute_result"
    }
   ],
   "source": [
    "sdata = adata[adata.obs['KD_label_combined'] == 'siYTHDC1', :]\n",
    "sdata"
   ]
  },
  {
   "cell_type": "code",
   "execution_count": 6,
   "id": "9b5e9b53-e501-485f-b7e8-7ac998176b57",
   "metadata": {},
   "outputs": [],
   "source": [
    "expr = sdata[:, 'YTHDC1'].X.flatten()\n",
    "expr_order = np.argsort(expr)\n",
    "expr_order\n",
    "\n",
    "sdata.obs = sdata.obs.reset_index()\n",
    "test = sdata[expr_order, :]\n",
    "test.obs = test.obs.reset_index()\n",
    "test = test[:2000, :]"
   ]
  },
  {
   "cell_type": "code",
   "execution_count": 7,
   "id": "c0aac1f7-6412-4423-b528-b912b45f7915",
   "metadata": {},
   "outputs": [],
   "source": [
    "# Generate table for each cluster \n",
    "with pd.ExcelWriter('./forms/2021-09-24-TEMPOmap-pseudobulk-DC1-2000.xlsx') as writer:\n",
    "    \n",
    "    for current_kd_cluster in test.obs['KD_label_combined'].cat.categories:\n",
    "        # Subset \n",
    "        cdata = test[test.obs['KD_label_combined'] == current_kd_cluster, ]\n",
    "        # Whole cell  \n",
    "        expr_df = pd.DataFrame(cdata.X, columns=cdata.var.index, index=cdata.obs.index)\n",
    "        expr_df['sample'] = cdata.obs['sample'].values\n",
    "        expr_df = expr_df.groupby(by='sample').mean().T\n",
    "        # nucleus\n",
    "        nuc_expr_df = pd.DataFrame(cdata.layers['nucleus'], columns=cdata.var.index, index=cdata.obs.index)\n",
    "        nuc_expr_df['sample'] = cdata.obs['sample'].values\n",
    "        nuc_expr_df = nuc_expr_df.groupby(by='sample').mean().T\n",
    "        # cytoplasm\n",
    "        cyto_expr_df = pd.DataFrame(cdata.layers['cytoplasm'], columns=cdata.var.index, index=cdata.obs.index)\n",
    "        cyto_expr_df['sample'] = cdata.obs['sample'].values\n",
    "        cyto_expr_df = cyto_expr_df.groupby(by='sample').mean().T\n",
    "        # er\n",
    "        er_expr_df = pd.DataFrame(cdata.layers['er'], columns=cdata.var.index, index=cdata.obs.index)\n",
    "        er_expr_df['sample'] = cdata.obs['sample'].values\n",
    "        er_expr_df = er_expr_df.groupby(by='sample').mean().T\n",
    "        # output\n",
    "        output_df = pd.concat([expr_df, nuc_expr_df, cyto_expr_df, er_expr_df], axis=1)\n",
    "        output_df.to_excel(writer, sheet_name=f\"{current_kd_cluster}-raw\")"
   ]
  },
  {
   "cell_type": "markdown",
   "id": "hired-dressing",
   "metadata": {},
   "source": [
    "### gene annotation"
   ]
  },
  {
   "cell_type": "code",
   "execution_count": 17,
   "id": "simplified-mineral",
   "metadata": {},
   "outputs": [
    {
     "data": {
      "text/html": [
       "<div>\n",
       "<style scoped>\n",
       "    .dataframe tbody tr th:only-of-type {\n",
       "        vertical-align: middle;\n",
       "    }\n",
       "\n",
       "    .dataframe tbody tr th {\n",
       "        vertical-align: top;\n",
       "    }\n",
       "\n",
       "    .dataframe thead th {\n",
       "        text-align: right;\n",
       "    }\n",
       "</style>\n",
       "<table border=\"1\" class=\"dataframe\">\n",
       "  <thead>\n",
       "    <tr style=\"text-align: right;\">\n",
       "      <th></th>\n",
       "      <th>name</th>\n",
       "      <th>display_name</th>\n",
       "      <th>description</th>\n",
       "    </tr>\n",
       "  </thead>\n",
       "  <tbody>\n",
       "    <tr>\n",
       "      <th>0</th>\n",
       "      <td>ensembl_gene_id</td>\n",
       "      <td>Gene stable ID</td>\n",
       "      <td>Stable ID of the Gene</td>\n",
       "    </tr>\n",
       "    <tr>\n",
       "      <th>1</th>\n",
       "      <td>ensembl_gene_id_version</td>\n",
       "      <td>Gene stable ID version</td>\n",
       "      <td>Versionned stable ID of the Gene</td>\n",
       "    </tr>\n",
       "    <tr>\n",
       "      <th>2</th>\n",
       "      <td>ensembl_transcript_id</td>\n",
       "      <td>Transcript stable ID</td>\n",
       "      <td>Stable ID of the Transcript</td>\n",
       "    </tr>\n",
       "    <tr>\n",
       "      <th>3</th>\n",
       "      <td>ensembl_transcript_id_version</td>\n",
       "      <td>Transcript stable ID version</td>\n",
       "      <td>Versionned stable ID of the Transcript</td>\n",
       "    </tr>\n",
       "    <tr>\n",
       "      <th>4</th>\n",
       "      <td>ensembl_peptide_id</td>\n",
       "      <td>Protein stable ID</td>\n",
       "      <td></td>\n",
       "    </tr>\n",
       "    <tr>\n",
       "      <th>5</th>\n",
       "      <td>ensembl_peptide_id_version</td>\n",
       "      <td>Protein stable ID version</td>\n",
       "      <td></td>\n",
       "    </tr>\n",
       "    <tr>\n",
       "      <th>6</th>\n",
       "      <td>ensembl_exon_id</td>\n",
       "      <td>Exon stable ID</td>\n",
       "      <td></td>\n",
       "    </tr>\n",
       "    <tr>\n",
       "      <th>7</th>\n",
       "      <td>description</td>\n",
       "      <td>Gene description</td>\n",
       "      <td></td>\n",
       "    </tr>\n",
       "    <tr>\n",
       "      <th>8</th>\n",
       "      <td>chromosome_name</td>\n",
       "      <td>Chromosome/scaffold name</td>\n",
       "      <td>Chromosome/scaffold name</td>\n",
       "    </tr>\n",
       "    <tr>\n",
       "      <th>9</th>\n",
       "      <td>start_position</td>\n",
       "      <td>Gene start (bp)</td>\n",
       "      <td>Start Coordinate of the gene in chromosomal co...</td>\n",
       "    </tr>\n",
       "  </tbody>\n",
       "</table>\n",
       "</div>"
      ],
      "text/plain": [
       "                            name                  display_name  \\\n",
       "0                ensembl_gene_id                Gene stable ID   \n",
       "1        ensembl_gene_id_version        Gene stable ID version   \n",
       "2          ensembl_transcript_id          Transcript stable ID   \n",
       "3  ensembl_transcript_id_version  Transcript stable ID version   \n",
       "4             ensembl_peptide_id             Protein stable ID   \n",
       "5     ensembl_peptide_id_version     Protein stable ID version   \n",
       "6                ensembl_exon_id                Exon stable ID   \n",
       "7                    description              Gene description   \n",
       "8                chromosome_name      Chromosome/scaffold name   \n",
       "9                 start_position               Gene start (bp)   \n",
       "\n",
       "                                         description  \n",
       "0                              Stable ID of the Gene  \n",
       "1                   Versionned stable ID of the Gene  \n",
       "2                        Stable ID of the Transcript  \n",
       "3             Versionned stable ID of the Transcript  \n",
       "4                                                     \n",
       "5                                                     \n",
       "6                                                     \n",
       "7                                                     \n",
       "8                           Chromosome/scaffold name  \n",
       "9  Start Coordinate of the gene in chromosomal co...  "
      ]
     },
     "execution_count": 17,
     "metadata": {},
     "output_type": "execute_result"
    }
   ],
   "source": [
    "from pybiomart import Dataset\n",
    "dataset = Dataset(name='hsapiens_gene_ensembl',\n",
    "                  host='http://www.ensembl.org')\n",
    "dataset.list_attributes().head(10)"
   ]
  },
  {
   "cell_type": "code",
   "execution_count": 18,
   "id": "transparent-surgeon",
   "metadata": {},
   "outputs": [
    {
     "data": {
      "text/html": [
       "<div>\n",
       "<style scoped>\n",
       "    .dataframe tbody tr th:only-of-type {\n",
       "        vertical-align: middle;\n",
       "    }\n",
       "\n",
       "    .dataframe tbody tr th {\n",
       "        vertical-align: top;\n",
       "    }\n",
       "\n",
       "    .dataframe thead th {\n",
       "        text-align: right;\n",
       "    }\n",
       "</style>\n",
       "<table border=\"1\" class=\"dataframe\">\n",
       "  <thead>\n",
       "    <tr style=\"text-align: right;\">\n",
       "      <th></th>\n",
       "      <th>description</th>\n",
       "    </tr>\n",
       "    <tr>\n",
       "      <th>hgnc_symbol</th>\n",
       "      <th></th>\n",
       "    </tr>\n",
       "  </thead>\n",
       "  <tbody>\n",
       "    <tr>\n",
       "      <th>MT-TF</th>\n",
       "      <td>mitochondrially encoded tRNA-Phe (UUU/C) [Sour...</td>\n",
       "    </tr>\n",
       "    <tr>\n",
       "      <th>MT-RNR1</th>\n",
       "      <td>mitochondrially encoded 12S rRNA [Source:HGNC ...</td>\n",
       "    </tr>\n",
       "    <tr>\n",
       "      <th>MT-TV</th>\n",
       "      <td>mitochondrially encoded tRNA-Val (GUN) [Source...</td>\n",
       "    </tr>\n",
       "    <tr>\n",
       "      <th>MT-RNR2</th>\n",
       "      <td>mitochondrially encoded 16S rRNA [Source:HGNC ...</td>\n",
       "    </tr>\n",
       "    <tr>\n",
       "      <th>MT-TL1</th>\n",
       "      <td>mitochondrially encoded tRNA-Leu (UUA/G) 1 [So...</td>\n",
       "    </tr>\n",
       "    <tr>\n",
       "      <th>...</th>\n",
       "      <td>...</td>\n",
       "    </tr>\n",
       "    <tr>\n",
       "      <th>OSCP1</th>\n",
       "      <td>organic solute carrier partner 1 [Source:HGNC ...</td>\n",
       "    </tr>\n",
       "    <tr>\n",
       "      <th>SNORA63C</th>\n",
       "      <td>small nucleolar RNA, H/ACA box 63C [Source:HGN...</td>\n",
       "    </tr>\n",
       "    <tr>\n",
       "      <th>MRPS15</th>\n",
       "      <td>mitochondrial ribosomal protein S15 [Source:HG...</td>\n",
       "    </tr>\n",
       "    <tr>\n",
       "      <th>CSF3R</th>\n",
       "      <td>colony stimulating factor 3 receptor [Source:H...</td>\n",
       "    </tr>\n",
       "    <tr>\n",
       "      <th>EVA1B</th>\n",
       "      <td>eva-1 homolog B [Source:HGNC Symbol;Acc:HGNC:2...</td>\n",
       "    </tr>\n",
       "  </tbody>\n",
       "</table>\n",
       "<p>46216 rows × 1 columns</p>\n",
       "</div>"
      ],
      "text/plain": [
       "                                                   description\n",
       "hgnc_symbol                                                   \n",
       "MT-TF        mitochondrially encoded tRNA-Phe (UUU/C) [Sour...\n",
       "MT-RNR1      mitochondrially encoded 12S rRNA [Source:HGNC ...\n",
       "MT-TV        mitochondrially encoded tRNA-Val (GUN) [Source...\n",
       "MT-RNR2      mitochondrially encoded 16S rRNA [Source:HGNC ...\n",
       "MT-TL1       mitochondrially encoded tRNA-Leu (UUA/G) 1 [So...\n",
       "...                                                        ...\n",
       "OSCP1        organic solute carrier partner 1 [Source:HGNC ...\n",
       "SNORA63C     small nucleolar RNA, H/ACA box 63C [Source:HGN...\n",
       "MRPS15       mitochondrial ribosomal protein S15 [Source:HG...\n",
       "CSF3R        colony stimulating factor 3 receptor [Source:H...\n",
       "EVA1B        eva-1 homolog B [Source:HGNC Symbol;Acc:HGNC:2...\n",
       "\n",
       "[46216 rows x 1 columns]"
      ]
     },
     "execution_count": 18,
     "metadata": {},
     "output_type": "execute_result"
    }
   ],
   "source": [
    "annot = sc.queries.biomart_annotations(\n",
    "        \"hsapiens\",\n",
    "        [\"hgnc_symbol\", \"description\"],\n",
    "    ).set_index(\"hgnc_symbol\")\n",
    "annot\n",
    "# adata.var[annot.columns] = annot"
   ]
  },
  {
   "cell_type": "code",
   "execution_count": null,
   "id": "matched-compression",
   "metadata": {},
   "outputs": [],
   "source": []
  }
 ],
 "metadata": {
  "kernelspec": {
   "display_name": "Python 3",
   "language": "python",
   "name": "python3"
  },
  "language_info": {
   "codemirror_mode": {
    "name": "ipython",
    "version": 3
   },
   "file_extension": ".py",
   "mimetype": "text/x-python",
   "name": "python",
   "nbconvert_exporter": "python",
   "pygments_lexer": "ipython3",
   "version": "3.8.5"
  }
 },
 "nbformat": 4,
 "nbformat_minor": 5
}
