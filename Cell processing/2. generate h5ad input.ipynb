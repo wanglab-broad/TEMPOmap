{
 "cells": [
  {
   "cell_type": "markdown",
   "id": "chief-arlington",
   "metadata": {},
   "source": [
    "# Generate H5AD Input"
   ]
  },
  {
   "cell_type": "markdown",
   "id": "incomplete-spirituality",
   "metadata": {},
   "source": [
    "2023-04-04"
   ]
  },
  {
   "cell_type": "code",
   "execution_count": null,
   "id": "swiss-physiology",
   "metadata": {},
   "outputs": [],
   "source": [
    "# Import Packages\n",
    "\n",
    "%load_ext autoreload\n",
    "%autoreload 2\n",
    "\n",
    "import os\n",
    "import warnings \n",
    "warnings.filterwarnings('ignore')\n",
    "import numpy as np\n",
    "import pandas as pd\n",
    "import scanpy as sc\n",
    "import seaborn as sns\n",
    "import matplotlib.pyplot as plt\n",
    "from anndata import AnnData\n",
    "\n",
    "# Customized packages\n",
    "import starmap.sc_util as su\n",
    "\n",
    "# test()"
   ]
  },
  {
   "cell_type": "markdown",
   "id": "reverse-sydney",
   "metadata": {},
   "source": [
    "## Input"
   ]
  },
  {
   "cell_type": "code",
   "execution_count": null,
   "id": "stuck-guarantee",
   "metadata": {},
   "outputs": [],
   "source": [
    "# Set path\n",
    "# base_path = 'path/to/2022-03-28-TEMPOmap-images'\n",
    "base_path = 'K:/2022-03-28-TEMPOmap-images/'\n",
    "out_path = os.path.join(base_path, 'output')\n",
    "fig_path = os.path.join(base_path, 'figures')\n",
    "if not os.path.exists(fig_path):\n",
    "    os.mkdir(fig_path)\n",
    "\n",
    "# Load whole cell data\n",
    "primary_dataset = 'whole_cell'\n",
    "expr_path = os.path.join(out_path, primary_dataset, 'complete_cell_barcode_count.csv')\n",
    "var_path = os.path.join(out_path, primary_dataset, 'cell_barcode_names.csv')\n",
    "obs_path = os.path.join(out_path, primary_dataset, 'complete_meta.csv')\n",
    "\n",
    "# Add expression data to the AnnData object \n",
    "expr_x = np.loadtxt(expr_path, delimiter=',')\n",
    "var = pd.read_csv(var_path, header=None)\n",
    "var = pd.DataFrame(index=var.iloc[:,2].to_list())\n",
    "obs = pd.read_csv(obs_path, index_col=0)\n",
    "\n",
    "adata = AnnData(X=expr_x, var=var, obs=obs)"
   ]
  },
  {
   "cell_type": "code",
   "execution_count": null,
   "id": "b2d0ba38-5fd4-4830-b89a-f5a3f60d91da",
   "metadata": {},
   "outputs": [],
   "source": [
    "adata"
   ]
  },
  {
   "cell_type": "code",
   "execution_count": null,
   "id": "twelve-english",
   "metadata": {},
   "outputs": [],
   "source": [
    "# Load nucleus data\n",
    "primary_dataset = 'nucleus'\n",
    "expr_path = os.path.join(out_path, primary_dataset, 'complete_cell_barcode_count.csv')\n",
    "var_path = os.path.join(out_path, primary_dataset, 'cell_barcode_names.csv')\n",
    "obs_path = os.path.join(out_path, primary_dataset, 'complete_meta.csv')\n",
    "\n",
    "# Add expression data to the AnnData object \n",
    "expr_x = np.loadtxt(expr_path, delimiter=',')\n",
    "var = pd.read_csv(var_path, header=None)\n",
    "var = pd.DataFrame(index=var.iloc[:,2].to_list())\n",
    "obs = pd.read_csv(obs_path, index_col=0)\n",
    "\n",
    "nucdata = AnnData(X=expr_x, var=var, obs=obs)"
   ]
  },
  {
   "cell_type": "code",
   "execution_count": null,
   "id": "funky-ferry",
   "metadata": {
    "tags": []
   },
   "outputs": [],
   "source": [
    "# Load cytoplasm data\n",
    "primary_dataset = 'cytoplasm'\n",
    "expr_path = os.path.join(out_path, primary_dataset, 'complete_cell_barcode_count.csv')\n",
    "var_path = os.path.join(out_path, primary_dataset, 'cell_barcode_names.csv')\n",
    "obs_path = os.path.join(out_path, primary_dataset, 'complete_meta.csv')\n",
    "\n",
    "# Add expression data to the AnnData object \n",
    "expr_x = np.loadtxt(expr_path, delimiter=',')\n",
    "var = pd.read_csv(var_path, header=None)\n",
    "var = pd.DataFrame(index=var.iloc[:,2].to_list())\n",
    "obs = pd.read_csv(obs_path, index_col=0)\n",
    "\n",
    "cytodata = AnnData(X=expr_x, var=var, obs=obs)"
   ]
  },
  {
   "cell_type": "code",
   "execution_count": null,
   "id": "dramatic-powder",
   "metadata": {},
   "outputs": [],
   "source": [
    "# Load outer_cytoplasm data\n",
    "primary_dataset = 'outer_cytoplasm'\n",
    "expr_path = os.path.join(out_path, primary_dataset, 'complete_cell_barcode_count.csv')\n",
    "var_path = os.path.join(out_path, primary_dataset, 'cell_barcode_names.csv')\n",
    "obs_path = os.path.join(out_path, primary_dataset, 'complete_meta.csv')\n",
    "\n",
    "# Add expression data to the AnnData object \n",
    "expr_x = np.loadtxt(expr_path, delimiter=',')\n",
    "var = pd.read_csv(var_path, header=None)\n",
    "var = pd.DataFrame(index=var.iloc[:,2].to_list())\n",
    "obs = pd.read_csv(obs_path, index_col=0)\n",
    "\n",
    "out_cytodata = AnnData(X=expr_x, var=var, obs=obs)"
   ]
  },
  {
   "cell_type": "code",
   "execution_count": null,
   "id": "timely-message",
   "metadata": {},
   "outputs": [],
   "source": [
    "# Load er data\n",
    "primary_dataset = 'er'\n",
    "expr_path = os.path.join(out_path, primary_dataset, 'complete_cell_barcode_count.csv')\n",
    "var_path = os.path.join(out_path, primary_dataset, 'cell_barcode_names.csv')\n",
    "obs_path = os.path.join(out_path, primary_dataset, 'complete_meta.csv')\n",
    "\n",
    "# Add expression data to the AnnData object \n",
    "expr_x = np.loadtxt(expr_path, delimiter=',')\n",
    "var = pd.read_csv(var_path, header=None)\n",
    "var = pd.DataFrame(index=var.iloc[:,2].to_list())\n",
    "obs = pd.read_csv(obs_path, index_col=0)\n",
    "\n",
    "erdata = AnnData(X=expr_x, var=var, obs=obs)"
   ]
  },
  {
   "cell_type": "markdown",
   "id": "reflected-blade",
   "metadata": {},
   "source": [
    "## QC"
   ]
  },
  {
   "cell_type": "code",
   "execution_count": null,
   "id": "sonic-certificate",
   "metadata": {},
   "outputs": [],
   "source": [
    "# Remove cells without ER structure \n",
    "cells_to_keep = erdata.obs['volume'] != 0 \n",
    "\n",
    "# Subset \n",
    "adata = adata[cells_to_keep, ]\n",
    "adata.layers['nucleus'] = nucdata[cells_to_keep, ].X\n",
    "adata.layers['cytoplasm'] = cytodata[cells_to_keep, ].X\n",
    "adata.layers['er'] = erdata[cells_to_keep, ].X\n",
    "adata.layers['outer_cytoplasm'] = out_cytodata[cells_to_keep, ].X"
   ]
  },
  {
   "cell_type": "markdown",
   "id": "b4fffe43-7b3d-401e-b68c-e555d01a3df5",
   "metadata": {},
   "source": [
    "### 07-16"
   ]
  },
  {
   "cell_type": "code",
   "execution_count": null,
   "id": "238616ad-3cd9-43ec-9327-e0d92a9ec5d7",
   "metadata": {},
   "outputs": [],
   "source": [
    "# Remove cells out of focus in 1h_labeling (y=2831, x=1498) (4178, 2836)\n",
    "temp_df = adata.obs.loc[adata.obs['sample'] == '1h_labeling', ]\n",
    "cells_to_remove = temp_df.loc[(temp_df.x > 1498) & (temp_df.x < 2836) & (temp_df.y > 2831) & (temp_df.y < 4178), ].index\n",
    "adata = adata[~adata.obs.index.isin(cells_to_remove), ]"
   ]
  },
  {
   "cell_type": "code",
   "execution_count": null,
   "id": "67d28589-273a-4109-bd20-433aabf2f632",
   "metadata": {},
   "outputs": [],
   "source": [
    "# Remove cells out of focus in 1h_labeling 2h wash (y=8207, x=4162) (9563, 5539)\n",
    "temp_df = adata.obs.loc[adata.obs['sample'] == '1h_labeling_2h_wash', ]\n",
    "cells_to_remove = temp_df.loc[(temp_df.x > 4162) & (temp_df.x < 5539) & (temp_df.y > 8207) & (temp_df.y < 9563), ].index\n",
    "# temp_df.loc[(temp_df.x > 4162) & (temp_df.x < 5539) & (temp_df.y > 8207) & (temp_df.y < 9563), ]\n",
    "adata = adata[~adata.obs.index.isin(cells_to_remove), ]"
   ]
  },
  {
   "cell_type": "code",
   "execution_count": null,
   "id": "d86cbdf5-75d8-437c-a2c1-b6dca96c5a30",
   "metadata": {},
   "outputs": [],
   "source": [
    "# Remove cells out of focus in 1h_labeling 4h wash\n",
    "temp_df = adata.obs.loc[adata.obs['sample'] == '1h_labeling_4h_wash', ]\n",
    "cells_to_remove = temp_df.loc[(temp_df.x > 1) & (temp_df.x < 1600) & (temp_df.y > 1) & (temp_df.y < 1600), ].index\n",
    "# temp_df.loc[(temp_df.x > 1) & (temp_df.x < 1600) & (temp_df.y > 1) & (temp_df.y < 1600), ]\n",
    "adata = adata[~adata.obs.index.isin(cells_to_remove), ]"
   ]
  },
  {
   "cell_type": "code",
   "execution_count": null,
   "id": "classified-surgery",
   "metadata": {},
   "outputs": [],
   "source": [
    "adata"
   ]
  },
  {
   "cell_type": "code",
   "execution_count": null,
   "id": "e6b406fd-8ef9-40db-8e9b-8eec9f10ec62",
   "metadata": {},
   "outputs": [],
   "source": [
    "# Plot top 20 most expressed genes \n",
    "sc.pl.highest_expr_genes(adata, n_top=20)"
   ]
  },
  {
   "cell_type": "markdown",
   "id": "finite-lemon",
   "metadata": {},
   "source": [
    "## Regular Filtration"
   ]
  },
  {
   "cell_type": "code",
   "execution_count": null,
   "id": "likely-webcam",
   "metadata": {},
   "outputs": [],
   "source": [
    "# Calculate QC metrics\n",
    "sc.pp.calculate_qc_metrics(adata, percent_top=None, inplace=True)\n",
    "# Calculate max count for each gene\n",
    "adata.var['max_counts'] = adata.X.max(axis=0)"
   ]
  },
  {
   "cell_type": "code",
   "execution_count": null,
   "id": "little-working",
   "metadata": {
    "tags": []
   },
   "outputs": [],
   "source": [
    "# Filter cell by area \n",
    "# adata = su.filter_cells_by_area(adata, min_area=1000, max_area=100000, save=False)"
   ]
  },
  {
   "cell_type": "code",
   "execution_count": null,
   "id": "reported-struggle",
   "metadata": {},
   "outputs": [],
   "source": [
    "# Per-cell Stats Plot\n",
    "su.plot_stats_per_cell(adata, save=False)"
   ]
  },
  {
   "cell_type": "code",
   "execution_count": null,
   "id": "lightweight-extent",
   "metadata": {},
   "outputs": [],
   "source": [
    "sc.pl.violin(adata, ['total_counts', 'n_genes_by_counts', 'volume'],\n",
    "             jitter=0.4, multi_panel=True)"
   ]
  },
  {
   "cell_type": "code",
   "execution_count": null,
   "id": "improving-anthony",
   "metadata": {},
   "outputs": [],
   "source": [
    "# Get quantiles of reads\n",
    "su.show_reads_quantile(adata)"
   ]
  },
  {
   "cell_type": "code",
   "execution_count": null,
   "id": "equal-terrace",
   "metadata": {},
   "outputs": [],
   "source": [
    "# Filtration \n",
    "sc.pp.filter_cells(adata, min_genes=10)\n",
    "sc.pp.filter_genes(adata, min_cells=10)\n",
    "\n",
    "# Filter gene by max counts \n",
    "# adata = adata[:, adata.var['max_counts'] > 2]\n",
    "# adata.var['detected'] = adata.var['max_counts'] > 2\n",
    "# adata.var['highly_variable'] = adata.var['max_counts'] > 2\n",
    "\n",
    "sc.pp.filter_cells(adata, min_counts=300)\n",
    "# sc.pp.filter_cells(adata, max_counts=4000)\n",
    "\n",
    "adata"
   ]
  },
  {
   "cell_type": "markdown",
   "id": "cordless-guarantee",
   "metadata": {},
   "source": [
    "## Output"
   ]
  },
  {
   "cell_type": "code",
   "execution_count": null,
   "id": "attractive-hometown",
   "metadata": {},
   "outputs": [],
   "source": [
    "# Set category order \n",
    "sample_order = ['20h_labeling',\n",
    "                '1h_labeling',\n",
    "               '1h_labeling_1h_wash',\n",
    "               '1h_labeling_2h_wash',\n",
    "               '1h_labeling_4h_wash',\n",
    "               '1h_labeling_6h_wash']\n",
    "\n",
    "condition_order = ['20h labeling',\n",
    "                   '1h labeling',\n",
    "                   '1h labeling, 1h wash',\n",
    "                   '1h labeling, 2h wash',\n",
    "                   '1h labeling, 4h wash',\n",
    "                   '1h labeling, 6h wash']\n",
    "\n",
    "condition_dict = dict(zip(sample_order, condition_order))\n",
    "adata.obs['condition'] = adata.obs['sample']\n",
    "adata.obs['condition'] = adata.obs['condition'].map(condition_dict)\n",
    "adata.obs['sample'] = adata.obs['sample'].cat.reorder_categories(sample_order)\n",
    "adata.obs['condition'] = adata.obs['condition'].cat.reorder_categories(condition_order)"
   ]
  },
  {
   "cell_type": "code",
   "execution_count": null,
   "id": "front-resolution",
   "metadata": {},
   "outputs": [],
   "source": [
    "from datetime import datetime\n",
    "date = datetime.today().strftime('%Y-%m-%d')\n",
    "adata.write_h5ad(os.path.join(out_path, f\"{date}-Rena-EU-starmap-after-pp-300.h5ad\"))"
   ]
  }
 ],
 "metadata": {
  "kernelspec": {
   "display_name": "Python 3 (ipykernel)",
   "language": "python",
   "name": "python3"
  },
  "language_info": {
   "codemirror_mode": {
    "name": "ipython",
    "version": 3
   },
   "file_extension": ".py",
   "mimetype": "text/x-python",
   "name": "python",
   "nbconvert_exporter": "python",
   "pygments_lexer": "ipython3",
   "version": "3.8.12"
  }
 },
 "nbformat": 4,
 "nbformat_minor": 5
}
