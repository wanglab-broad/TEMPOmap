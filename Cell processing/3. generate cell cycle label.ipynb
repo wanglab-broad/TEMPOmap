{
 "cells": [
  {
   "cell_type": "markdown",
   "id": "certain-concentrate",
   "metadata": {},
   "source": [
    "# Get cell cycle label\n",
    "\n",
    "2023-04-04"
   ]
  },
  {
   "cell_type": "code",
   "execution_count": null,
   "id": "expressed-helmet",
   "metadata": {},
   "outputs": [],
   "source": [
    "# Import Packages\n",
    "\n",
    "%load_ext autoreload\n",
    "%autoreload 2\n",
    "\n",
    "import os\n",
    "import warnings \n",
    "warnings.filterwarnings('ignore')\n",
    "import numpy as np\n",
    "import pandas as pd\n",
    "import scanpy as sc\n",
    "import seaborn as sns\n",
    "import matplotlib.pyplot as plt\n",
    "from anndata import AnnData\n",
    "from tifffile import imread\n",
    "from skimage.measure import regionprops\n",
    "\n",
    "# Customized packages\n",
    "import starmap.sc_util as su\n",
    "\n",
    "# test()"
   ]
  },
  {
   "cell_type": "markdown",
   "id": "fuzzy-piece",
   "metadata": {},
   "source": [
    "## Input"
   ]
  },
  {
   "cell_type": "code",
   "execution_count": null,
   "id": "emerging-landing",
   "metadata": {},
   "outputs": [],
   "source": [
    "# Set path\n",
    "base_path = './'\n",
    "out_path = os.path.join(base_path, 'output')\n",
    "fig_path = os.path.join(base_path, 'figures')\n",
    "if not os.path.exists(fig_path):\n",
    "    os.mkdir(fig_path)"
   ]
  },
  {
   "cell_type": "code",
   "execution_count": null,
   "id": "checked-onion",
   "metadata": {},
   "outputs": [],
   "source": [
    "# Load adata\n",
    "adata = sc.read_h5ad('./output/2021-09-24-Rena-EU-starmap-after-pp-300.h5ad')\n",
    "adata"
   ]
  },
  {
   "cell_type": "code",
   "execution_count": null,
   "id": "applied-cinema",
   "metadata": {},
   "outputs": [],
   "source": [
    "# Assign dummy label\n",
    "adata.obs['phase_ref'] = 'NA'\n",
    "adata.obs['phase_new'] = 'NA'"
   ]
  },
  {
   "cell_type": "markdown",
   "id": "short-uncle",
   "metadata": {},
   "source": [
    "## Subset"
   ]
  },
  {
   "cell_type": "code",
   "execution_count": null,
   "id": "split-aspect",
   "metadata": {},
   "outputs": [],
   "source": [
    "# Remove KD genes \n",
    "cdata = adata[:, 7:]\n",
    "cdata"
   ]
  },
  {
   "cell_type": "code",
   "execution_count": null,
   "id": "coordinated-weight",
   "metadata": {},
   "outputs": [],
   "source": [
    "# Subset sample\n",
    "current_sample = '20h_labeling'\n",
    "cdata = cdata[cdata.obs['sample'] == current_sample, ]\n",
    "cdata"
   ]
  },
  {
   "cell_type": "code",
   "execution_count": null,
   "id": "protecting-bargain",
   "metadata": {},
   "outputs": [],
   "source": [
    "# Plot top 20 most expressed genes \n",
    "sc.pl.highest_expr_genes(cdata, n_top=20)"
   ]
  },
  {
   "cell_type": "markdown",
   "id": "annual-option",
   "metadata": {},
   "source": [
    "## Preprocessing"
   ]
  },
  {
   "cell_type": "code",
   "execution_count": null,
   "id": "involved-legislature",
   "metadata": {},
   "outputs": [],
   "source": [
    "# Normalization scaling\n",
    "sc.pp.normalize_total(cdata)\n",
    "sc.pp.log1p(cdata)\n",
    "\n",
    "# adata.layers['norm'] = adata.X\n",
    "cdata.raw = cdata\n",
    "\n",
    "# Scale data to unit variance and zero mean\n",
    "sc.pp.scale(cdata)\n",
    "# adata.layers['scaled'] = adata.X"
   ]
  },
  {
   "cell_type": "markdown",
   "id": "australian-dominant",
   "metadata": {},
   "source": [
    "## Cell cycle scoring"
   ]
  },
  {
   "cell_type": "code",
   "execution_count": null,
   "id": "disturbed-andorra",
   "metadata": {},
   "outputs": [],
   "source": [
    "use_ref = False\n",
    "\n",
    "if use_ref:\n",
    "    # Load reference gene list \n",
    "    cell_cycle_genes = [x.strip() for x in open('./gene_modules/regev_lab_cell_cycle_genes.txt')]\n",
    "    s_genes = cell_cycle_genes[:43]\n",
    "    g2m_genes = cell_cycle_genes[43:]\n",
    "else:\n",
    "    # Load self defined markers \n",
    "    s_genes = pd.read_excel('./gene_modules/cell_cycle_markers.xlsx', sheet_name='G1_S', header=None)[0].to_list()\n",
    "    g2m_genes = pd.read_excel('./gene_modules/cell_cycle_markers.xlsx', sheet_name='G2_M', header=None)[0].to_list()\n",
    "    cell_cycle_genes = s_genes + g2m_genes"
   ]
  },
  {
   "cell_type": "code",
   "execution_count": null,
   "id": "yellow-variance",
   "metadata": {},
   "outputs": [],
   "source": [
    "# Get cell cycle genes \n",
    "missed_genes = [x for x in cell_cycle_genes if x not in cdata.var_names]\n",
    "cell_cycle_genes = [x for x in cell_cycle_genes if x in cdata.var_names]\n",
    "\n",
    "print(len(cell_cycle_genes), len(missed_genes))\n",
    "print(f\"G1/S genes: {len(s_genes)} - G2/M genes: {len(g2m_genes)}\")\n",
    "print(f\"G1/S genes in our dataest: {len([x for x in s_genes if x in cdata.var_names])} - G2/M genes in our dataest: {len([x for x in g2m_genes if x in cdata.var_names])}\")"
   ]
  },
  {
   "cell_type": "code",
   "execution_count": null,
   "id": "objective-timothy",
   "metadata": {},
   "outputs": [],
   "source": [
    "# Compute gene set score\n",
    "sc.tl.score_genes_cell_cycle(cdata, s_genes=s_genes, g2m_genes=g2m_genes)\n",
    "cdata_cc_genes = cdata[:, cell_cycle_genes]\n",
    "sc.tl.pca(cdata_cc_genes)\n",
    "sc.pl.pca_scatter(cdata_cc_genes, color='phase')"
   ]
  },
  {
   "cell_type": "markdown",
   "id": "oriented-worry",
   "metadata": {},
   "source": [
    "### Assign back to adata"
   ]
  },
  {
   "cell_type": "code",
   "execution_count": null,
   "id": "spare-surname",
   "metadata": {},
   "outputs": [],
   "source": [
    "if use_ref:\n",
    "    current_column = 'phase_ref'\n",
    "    adata.obs.loc[adata.obs['sample'] == current_sample, current_column] = cdata.obs['phase'].values\n",
    "else:\n",
    "    current_column = 'phase_new'\n",
    "    adata.obs.loc[adata.obs['sample'] == current_sample, current_column] = cdata.obs['phase'].values"
   ]
  },
  {
   "cell_type": "code",
   "execution_count": null,
   "id": "organic-minority",
   "metadata": {},
   "outputs": [],
   "source": [
    "confusion_matrix = pd.crosstab(adata.obs.loc[adata.obs['sample'] == current_sample, 'phase_ref'], adata.obs.loc[adata.obs['sample'] == current_sample, 'phase_new'], rownames=['Use reference list'], colnames=['Use our list'])\n",
    "sns.heatmap(confusion_matrix, annot=True, fmt='')\n",
    "plt.show()"
   ]
  },
  {
   "cell_type": "markdown",
   "id": "pacific-mustang",
   "metadata": {},
   "source": [
    "## Output"
   ]
  },
  {
   "cell_type": "code",
   "execution_count": null,
   "id": "connected-curve",
   "metadata": {},
   "outputs": [],
   "source": [
    "from datetime import datetime\n",
    "date = datetime.today().strftime('%Y-%m-%d')\n",
    "adata.write_h5ad(f\"./output/{date}-Rena-EU-starmap-cc.h5ad\")"
   ]
  },
  {
   "cell_type": "markdown",
   "id": "2d8779de-01a4-4513-a64e-7caa74579ea6",
   "metadata": {},
   "source": [
    "## Generate phase_ref label for all conditions"
   ]
  },
  {
   "cell_type": "code",
   "execution_count": null,
   "id": "82073a14-6115-48d8-80bf-155de7f5700f",
   "metadata": {},
   "outputs": [],
   "source": [
    "# Set path\n",
    "base_path = './'\n",
    "out_path = os.path.join(base_path, 'output')\n",
    "fig_path = os.path.join(base_path, 'figures')\n",
    "if not os.path.exists(fig_path):\n",
    "    os.mkdir(fig_path)\n",
    "\n",
    "# Load adata\n",
    "adata = sc.read_h5ad('./output/2021-09-24-Rena-EU-starmap-after-pp-300.h5ad')\n",
    "adata\n",
    "\n",
    "# Assign dummy label\n",
    "adata.obs['phase_ref'] = 'NA'\n",
    "\n",
    "for current_sample in adata.obs['sample'].unique():\n",
    "    \n",
    "    # Remove KD genes \n",
    "    cdata = adata[:, 7:]\n",
    "    cdata = cdata[cdata.obs['sample'] == current_sample, ]\n",
    "\n",
    "    # Normalization scaling\n",
    "    sc.pp.normalize_total(cdata)\n",
    "    sc.pp.log1p(cdata)\n",
    "    cdata.raw = cdata\n",
    "\n",
    "    # Scale data to unit variance and zero mean\n",
    "    sc.pp.scale(cdata)\n",
    "    \n",
    "    # Load reference gene list \n",
    "    cell_cycle_genes = [x.strip() for x in open('./gene_modules/regev_lab_cell_cycle_genes.txt')]\n",
    "    s_genes = cell_cycle_genes[:43]\n",
    "    g2m_genes = cell_cycle_genes[43:]\n",
    "\n",
    "\n",
    "    # Get cell cycle genes \n",
    "    missed_genes = [x for x in cell_cycle_genes if x not in cdata.var_names]\n",
    "    cell_cycle_genes = [x for x in cell_cycle_genes if x in cdata.var_names]\n",
    "\n",
    "    # Compute gene set score\n",
    "    sc.tl.score_genes_cell_cycle(cdata, s_genes=s_genes, g2m_genes=g2m_genes)\n",
    "\n",
    "    adata.obs.loc[adata.obs['sample'] == current_sample, 'phase_ref'] = cdata.obs['phase'].values\n",
    "    \n",
    "# output\n",
    "from datetime import datetime\n",
    "date = datetime.today().strftime('%Y-%m-%d')\n",
    "adata.write_h5ad(f\"./output/{date}-Rena-EU-starmap-cc.h5ad\")"
   ]
  },
  {
   "cell_type": "code",
   "execution_count": null,
   "id": "a19193fa-1c9b-46b0-8040-46ee84e42872",
   "metadata": {},
   "outputs": [],
   "source": [
    "adata.obs['phase_ref'] = adata.obs['phase_ref'].astype('category')\n",
    "adata.obs['phase_ref'] = adata.obs['phase_ref'].cat.reorder_categories(['G1', 'S', 'G2M'])\n",
    "sns.countplot(x=\"sample\", hue=\"phase_ref\", data=adata.obs, palette='plasma')\n",
    "plt.xticks(rotation=45)\n",
    "plt.show()"
   ]
  }
 ],
 "metadata": {
  "kernelspec": {
   "display_name": "Python 3 (ipykernel)",
   "language": "python",
   "name": "python3"
  },
  "language_info": {
   "codemirror_mode": {
    "name": "ipython",
    "version": 3
   },
   "file_extension": ".py",
   "mimetype": "text/x-python",
   "name": "python",
   "nbconvert_exporter": "python",
   "pygments_lexer": "ipython3",
   "version": "3.8.12"
  }
 },
 "nbformat": 4,
 "nbformat_minor": 5
}
