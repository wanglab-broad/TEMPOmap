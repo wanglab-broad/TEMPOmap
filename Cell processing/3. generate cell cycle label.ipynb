{
 "cells": [
  {
   "cell_type": "markdown",
   "id": "certain-concentrate",
   "metadata": {},
   "source": [
    "# Get cell cycle label\n",
    "\n",
    "2023-04-04"
   ]
  },
  {
   "cell_type": "code",
   "execution_count": null,
   "id": "expressed-helmet",
   "metadata": {},
   "outputs": [],
   "source": [
    "# Import Packages\n",
    "\n",
    "%load_ext autoreload\n",
    "%autoreload 2\n",
    "\n",
    "import os\n",
    "import warnings \n",
    "warnings.filterwarnings('ignore')\n",
    "import numpy as np\n",
    "import pandas as pd\n",
    "import scanpy as sc\n",
    "import seaborn as sns\n",
    "import matplotlib.pyplot as plt\n",
    "from anndata import AnnData\n",
    "from tifffile import imread\n",
    "from skimage.measure import regionprops\n",
    "\n",
    "# Customized packages\n",
    "import starmap.sc_util as su\n",
    "\n",
    "# test()"
   ]
  },
  {
   "cell_type": "markdown",
   "id": "fuzzy-piece",
   "metadata": {},
   "source": [
    "## Input"
   ]
  },
  {
   "cell_type": "code",
   "execution_count": null,
   "id": "emerging-landing",
   "metadata": {},
   "outputs": [],
   "source": [
    "# Set path\n",
    "# base_path = 'path/to/2022-03-28-TEMPOmap-images'\n",
    "base_path = 'K:/2022-03-28-TEMPOmap-images/'\n",
    "\n",
    "out_path = os.path.join(base_path, 'output')\n",
    "fig_path = os.path.join(base_path, 'figures')\n",
    "if not os.path.exists(fig_path):\n",
    "    os.mkdir(fig_path)"
   ]
  },
  {
   "cell_type": "markdown",
   "id": "2d8779de-01a4-4513-a64e-7caa74579ea6",
   "metadata": {},
   "source": [
    "## Generate phase_ref label for all conditions"
   ]
  },
  {
   "cell_type": "code",
   "execution_count": null,
   "id": "82073a14-6115-48d8-80bf-155de7f5700f",
   "metadata": {},
   "outputs": [],
   "source": [
    "# Set path\n",
    "# base_path = 'path/to/2022-03-28-TEMPOmap-images'\n",
    "base_path = 'K:/2022-03-28-TEMPOmap-images/'\n",
    "out_path = os.path.join(base_path, 'output')\n",
    "fig_path = os.path.join(base_path, 'figures')\n",
    "if not os.path.exists(fig_path):\n",
    "    os.mkdir(fig_path)\n",
    "\n",
    "# Load adata\n",
    "adata = sc.read_h5ad(os.path.join(out_path, '2023-04-05-Rena-EU-starmap-after-pp-300.h5ad'))\n",
    "adata\n",
    "\n",
    "# Assign dummy label\n",
    "adata.obs['phase_ref'] = 'NA'\n",
    "\n",
    "for current_sample in adata.obs['sample'].unique():\n",
    "    \n",
    "    # Remove KD genes \n",
    "    cdata = adata[:, 7:]\n",
    "    cdata = cdata[cdata.obs['sample'] == current_sample, ]\n",
    "\n",
    "    # Normalization scaling\n",
    "    sc.pp.normalize_total(cdata)\n",
    "    sc.pp.log1p(cdata)\n",
    "    cdata.raw = cdata\n",
    "\n",
    "    # Scale data to unit variance and zero mean\n",
    "    sc.pp.scale(cdata)\n",
    "    \n",
    "    # Load reference gene list \n",
    "    cell_cycle_genes = [x.strip() for x in open(os.path.join(base_path, 'gene_modules/regev_lab_cell_cycle_genes.txt'))]\n",
    "    s_genes = cell_cycle_genes[:43]\n",
    "    g2m_genes = cell_cycle_genes[43:]\n",
    "\n",
    "\n",
    "    # Get cell cycle genes \n",
    "    missed_genes = [x for x in cell_cycle_genes if x not in cdata.var_names]\n",
    "    cell_cycle_genes = [x for x in cell_cycle_genes if x in cdata.var_names]\n",
    "\n",
    "    # Compute gene set score\n",
    "    sc.tl.score_genes_cell_cycle(cdata, s_genes=s_genes, g2m_genes=g2m_genes)\n",
    "\n",
    "    adata.obs.loc[adata.obs['sample'] == current_sample, 'phase_ref'] = cdata.obs['phase'].values\n",
    "    \n",
    "    \n",
    "adata.obs['phase_ref'] = adata.obs['phase_ref'].replace({'S': 'G1/S'})\n",
    "adata.obs['phase_ref'] = adata.obs['phase_ref'].astype('category')\n",
    "adata.obs['phase_ref'] = adata.obs['phase_ref'].cat.reorder_categories(['G1', 'G1/S', 'G2M'])\n",
    "sns.countplot(x=\"sample\", hue=\"phase_ref\", data=adata.obs, palette='plasma')\n",
    "plt.xticks(rotation=45)\n",
    "plt.show()\n",
    "\n",
    "# output\n",
    "from datetime import datetime\n",
    "date = datetime.today().strftime('%Y-%m-%d')\n",
    "adata.write_h5ad(f\"{out_path}/{date}-Rena-EU-starmap-cc.h5ad\")"
   ]
  },
  {
   "cell_type": "code",
   "execution_count": null,
   "id": "e9459ee8-35c9-42d3-bba3-1b76d611a809",
   "metadata": {},
   "outputs": [],
   "source": []
  }
 ],
 "metadata": {
  "kernelspec": {
   "display_name": "Python 3 (ipykernel)",
   "language": "python",
   "name": "python3"
  },
  "language_info": {
   "codemirror_mode": {
    "name": "ipython",
    "version": 3
   },
   "file_extension": ".py",
   "mimetype": "text/x-python",
   "name": "python",
   "nbconvert_exporter": "python",
   "pygments_lexer": "ipython3",
   "version": "3.8.12"
  }
 },
 "nbformat": 4,
 "nbformat_minor": 5
}
