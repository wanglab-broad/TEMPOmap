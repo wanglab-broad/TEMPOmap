{
 "cells": [
  {
   "cell_type": "code",
   "execution_count": 1,
   "metadata": {},
   "outputs": [],
   "source": [
    "import os\n",
    "import re\n",
    "import shutil\n",
    "import numpy as np\n",
    "import pandas as pd\n",
    "\n",
    "from tqdm.notebook import tqdm, trange"
   ]
  },
  {
   "cell_type": "markdown",
   "metadata": {},
   "source": [
    "sequencing folders (round_1~5)"
   ]
  },
  {
   "cell_type": "code",
   "execution_count": 4,
   "metadata": {},
   "outputs": [
    {
     "data": {
      "application/vnd.jupyter.widget-view+json": {
       "model_id": "f31d5c45a7e94ed495d460cda7489f48",
       "version_major": 2,
       "version_minor": 0
      },
      "text/plain": [
       "round folder:   0%|          | 0/6 [00:00<?, ?it/s]"
      ]
     },
     "metadata": {},
     "output_type": "display_data"
    },
    {
     "data": {
      "application/vnd.jupyter.widget-view+json": {
       "model_id": "0208043191b64d26b44248e1d9858af7",
       "version_major": 2,
       "version_minor": 0
      },
      "text/plain": [
       "sub folder:   0%|          | 0/432 [00:00<?, ?it/s]"
      ]
     },
     "metadata": {},
     "output_type": "display_data"
    },
    {
     "data": {
      "application/vnd.jupyter.widget-view+json": {
       "model_id": "e66e9231d95042f9b8ca2a69d2f7da61",
       "version_major": 2,
       "version_minor": 0
      },
      "text/plain": [
       "sub folder:   0%|          | 0/432 [00:00<?, ?it/s]"
      ]
     },
     "metadata": {},
     "output_type": "display_data"
    },
    {
     "data": {
      "application/vnd.jupyter.widget-view+json": {
       "model_id": "79686c84919d491eb9dd9273263950d5",
       "version_major": 2,
       "version_minor": 0
      },
      "text/plain": [
       "sub folder:   0%|          | 0/432 [00:00<?, ?it/s]"
      ]
     },
     "metadata": {},
     "output_type": "display_data"
    },
    {
     "data": {
      "application/vnd.jupyter.widget-view+json": {
       "model_id": "f25af41b034d46cd800af357e5416fa1",
       "version_major": 2,
       "version_minor": 0
      },
      "text/plain": [
       "sub folder:   0%|          | 0/432 [00:00<?, ?it/s]"
      ]
     },
     "metadata": {},
     "output_type": "display_data"
    },
    {
     "data": {
      "application/vnd.jupyter.widget-view+json": {
       "model_id": "7e4f480a8260453e887c31a55e5488ab",
       "version_major": 2,
       "version_minor": 0
      },
      "text/plain": [
       "sub folder:   0%|          | 0/432 [00:00<?, ?it/s]"
      ]
     },
     "metadata": {},
     "output_type": "display_data"
    },
    {
     "data": {
      "application/vnd.jupyter.widget-view+json": {
       "model_id": "e6d317e5da844a649f2919301cac5980",
       "version_major": 2,
       "version_minor": 0
      },
      "text/plain": [
       "sub folder:   0%|          | 0/432 [00:00<?, ?it/s]"
      ]
     },
     "metadata": {},
     "output_type": "display_data"
    },
    {
     "name": "stdout",
     "output_type": "stream",
     "text": [
      "====Finished====\n"
     ]
    }
   ],
   "source": [
    "dry_run = False\n",
    "sample = '2022-10-15-Rena-SkinCulture254-gene'\n",
    "base_path = f\"/stanley/WangLab/Data/Processed/{sample}\"\n",
    "\n",
    "file_key = 'Position' \n",
    "\n",
    "round_folders = sorted([d for d in os.listdir(base_path) if d.startswith('round')])\n",
    "# round_folders = [1, 2, 3, 4, 5]\n",
    "additional_folders = ['staining']\n",
    "data_dirs = round_folders + additional_folders\n",
    "file_nums = [7, 6, 6, 6, 6, 6] \n",
    "sub_folder_index = [p for p in range(1, 433)]\n",
    "\n",
    "for i, current_data_dir in enumerate(tqdm(data_dirs, desc='round folder')):\n",
    "    current_data_dir_path = os.path.join(base_path, current_data_dir)\n",
    "    files_to_keep = [f for f in os.listdir(current_data_dir_path) if file_key in f]\n",
    "    \n",
    "    for j, current_index in enumerate(tqdm(sub_folder_index, desc='sub folder')):\n",
    "        current_sub_folder_name = f\"Position{current_index:03}\"\n",
    "        current_sub_folder_path = os.path.join(current_data_dir_path, current_sub_folder_name)\n",
    "        \n",
    "        if dry_run:\n",
    "            pass\n",
    "        else:\n",
    "            if not os.path.exists(current_sub_folder_path):\n",
    "                os.mkdir(current_sub_folder_path)\n",
    "            \n",
    "        # get files \n",
    "        current_files = [cf for cf in files_to_keep if current_sub_folder_name in cf]\n",
    "        \n",
    "        # check file number for each tile in dry run\n",
    "        if dry_run:\n",
    "            current_files_num = len(current_files)\n",
    "            if current_data_dir == 'round1':\n",
    "                if current_files_num != file_nums[0]:\n",
    "                    print(current_data_dir, '-', current_sub_folder_name)\n",
    "            elif current_data_dir == 'round2':\n",
    "                if current_files_num != file_nums[1]:\n",
    "                    print(current_data_dir, '-', current_sub_folder_name)\n",
    "            elif current_data_dir == 'round3':\n",
    "                if current_files_num != file_nums[2]:\n",
    "                    print(current_data_dir, '-', current_sub_folder_name)\n",
    "            elif current_data_dir == 'round4':\n",
    "                if current_files_num != file_nums[3]:\n",
    "                    print(current_data_dir, '-', current_sub_folder_name)\n",
    "        else:   \n",
    "            for mf in current_files:\n",
    "                shutil.move(os.path.join(current_data_dir_path, mf),\n",
    "                            os.path.join(current_sub_folder_path, mf))\n",
    "        # break\n",
    "    # break\n",
    "\n",
    "print(\"====Finished====\")"
   ]
  },
  {
   "cell_type": "code",
   "execution_count": null,
   "metadata": {},
   "outputs": [],
   "source": [
    "# organize folder\n",
    "n_area = 6\n",
    "n_tiles_per_area = 88\n",
    "original_folders = [seqDapiOutPath, morphDapiOutPath, erOutPath, flamingoOutPath]\n",
    "for folder in tqdm(original_folders):\n",
    "    for area in range(n_area):\n",
    "        os.mkdir(f'{folder}/Area_{area+1}')\n",
    "    for tile in os.listdir(folder):\n",
    "        if tile.startswith('Position'):\n",
    "            corr_area = (int(tile[-7:-4])-1) // n_tiles_per_area + 1\n",
    "            shutil.move(f'{folder}/{tile}', f'{folder}/Area_{corr_area}')"
   ]
  },
  {
   "cell_type": "code",
   "execution_count": 1,
   "metadata": {},
   "outputs": [],
   "source": [
    "import scanpy as sc"
   ]
  }
 ],
 "metadata": {
  "kernelspec": {
   "display_name": "Python 3 (ipykernel)",
   "language": "python",
   "name": "python3"
  },
  "language_info": {
   "codemirror_mode": {
    "name": "ipython",
    "version": 3
   },
   "file_extension": ".py",
   "mimetype": "text/x-python",
   "name": "python",
   "nbconvert_exporter": "python",
   "pygments_lexer": "ipython3",
   "version": "3.8.12"
  },
  "orig_nbformat": 4,
  "vscode": {
   "interpreter": {
    "hash": "0774c9394a1aea0cca30f13f7f373026b44b800bfe001e3b93c40d9a34a50f91"
   }
  }
 },
 "nbformat": 4,
 "nbformat_minor": 2
}
