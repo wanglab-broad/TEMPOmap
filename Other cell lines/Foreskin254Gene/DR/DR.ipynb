{
 "cells": [
  {
   "cell_type": "markdown",
   "metadata": {},
   "source": [
    "This notebook calculates normalized distance-ratio value (aka DR, d1/(d1+d2)) for all reads in each sample."
   ]
  },
  {
   "cell_type": "code",
   "execution_count": 1,
   "metadata": {},
   "outputs": [],
   "source": [
    "import numpy as np\n",
    "import pandas as pd\n",
    "import matplotlib.pyplot as plt\n",
    "import seaborn as sns\n",
    "import sys, os\n",
    "from tqdm import tqdm\n",
    "\n",
    "import scanpy as sc\n",
    "from scipy.ndimage import distance_transform_edt as dt\n",
    "from skimage import measure\n",
    "from scipy.stats import *\n",
    "from tifffile import imread\n",
    "from scipy.io import loadmat\n",
    "from starmap.sequencing import *"
   ]
  },
  {
   "cell_type": "code",
   "execution_count": 2,
   "metadata": {},
   "outputs": [],
   "source": [
    "ppath = 'Z:/Data/Processed/2022-10-15-Rena-SkinCulture254-gene/output'\n",
    "area_list = list(range(1,7))\n",
    "area2sample = {\n",
    "    1: '2h pulse 0h chase',\n",
    "    2: '2h pulse 2h chase', \n",
    "    3: '2h pulse 4h chase',\n",
    "    4: '20h pulse',\n",
    "    5: '2h pulse 6h chase',\n",
    "    6: 'STARmap'\n",
    "}"
   ]
  },
  {
   "cell_type": "code",
   "execution_count": 3,
   "metadata": {},
   "outputs": [
    {
     "data": {
      "text/plain": [
       "AnnData object with n_obs × n_vars = 12574 × 254\n",
       "    obs: 'orig_index', 'sample', 'area', 'x', 'y', 'z', 'nuclues_volume', 'AF546', 'AF546_nucleus', 'n_genes_by_counts', 'log1p_n_genes_by_counts', 'total_counts', 'log1p_total_counts', 'plate_number'\n",
       "    var: 'n_cells_by_counts', 'mean_counts', 'log1p_mean_counts', 'pct_dropout_by_counts', 'total_counts', 'log1p_total_counts', 'max_counts'\n",
       "    layers: 'nucleus'"
      ]
     },
     "execution_count": 3,
     "metadata": {},
     "output_type": "execute_result"
    }
   ],
   "source": [
    "adata = sc.read_h5ad(os.path.join(ppath, '2022-11-12-Rena-Foreskin254gene-preflt.h5ad'))\n",
    "adata"
   ]
  },
  {
   "cell_type": "code",
   "execution_count": 4,
   "metadata": {},
   "outputs": [],
   "source": [
    "genes = adata.var.index\n",
    "genes_ = list(genes)"
   ]
  },
  {
   "cell_type": "code",
   "execution_count": 5,
   "metadata": {},
   "outputs": [],
   "source": [
    "def load_reads_3D(fpath, reads_file):\n",
    "    S = loadmat(os.path.join(fpath, reads_file))\n",
    "    bases = [str(i[0][0]) for i in S[\"merged_reads\"]]\n",
    "    points = S[\"merged_points\"]\n",
    "    temp = np.zeros(points.shape)\n",
    "    temp[:, 0] = np.round(points[:, 2]-1)\n",
    "    temp[:, 1] = np.round(points[:, 1]-1)\n",
    "    temp[:, 2] = np.round(points[:, 0]-1)\n",
    "\n",
    "    print(f\"Number of reads: {len(bases)}\")\n",
    "    return bases, temp"
   ]
  },
  {
   "cell_type": "markdown",
   "metadata": {},
   "source": [
    "Voxel size: 0.0901x0.0901x0.2930 micron^3 "
   ]
  },
  {
   "cell_type": "code",
   "execution_count": 6,
   "metadata": {},
   "outputs": [],
   "source": [
    "def cell_iter_cont_all(rp, curr_cell, cell_index, nuclei_seg, points, bases, reads_assign_cell, reads_assign_nucleus, cell_by_barcode, genes_list, sampling=[1,1,1]):\n",
    "    '''record into cell_by_barcode (collector), each entry (cell_x_gene) has a list of DR values'''\n",
    "    # mask and bbox of current cell & nuclei (this ensures distance calculated is wrt the current cell not neigboring ones)\n",
    "    cb = rp[curr_cell].bbox\n",
    "    cell_mask = rp[curr_cell].image\n",
    "    nuc_mask = nuclei_seg[cb[0]:cb[3], cb[1]:cb[4], cb[2]:cb[5]]\n",
    "    nuc_mask[nuc_mask != curr_cell+1] = 0\n",
    "\n",
    "    # dt\n",
    "    cdt = dt(cell_mask, sampling=sampling)\n",
    "    ndt = dt(np.logical_not(nuc_mask), sampling=sampling)\n",
    "    area = np.logical_xor(cell_mask, nuc_mask)\n",
    "    rdt = np.zeros(cdt.shape)\n",
    "    rdt[area] = ndt[area] / cdt[area] \n",
    "\n",
    "    # get cytosol points & corr. bases of current cell\n",
    "    cell_pts = points[np.logical_and(reads_assign_cell==curr_cell+1, reads_assign_nucleus==0)]\n",
    "    cell_bs = bases[np.logical_and(reads_assign_cell==curr_cell+1, reads_assign_nucleus==0)]\n",
    "\n",
    "    # bases to gene index\n",
    "    bases_idx = np.array([genes_list.index(g) for g in cell_bs])\n",
    "    \n",
    "    for i, bs in enumerate(cell_bs):\n",
    "        pt = cell_pts[i]\n",
    "        r = rdt[pt[0]-cb[0], pt[1]-cb[1], pt[2]-cb[2]]\n",
    "        if type(cell_by_barcode[cell_index, bases_idx[i]]) == list:\n",
    "            cell_by_barcode[cell_index, bases_idx[i]].append(r/(r+1))\n",
    "        else: cell_by_barcode[cell_index, bases_idx[i]] = [r/(r+1)]\n",
    "    return"
   ]
  },
  {
   "cell_type": "markdown",
   "metadata": {},
   "source": [
    "2D"
   ]
  },
  {
   "cell_type": "code",
   "execution_count": null,
   "metadata": {},
   "outputs": [],
   "source": [
    "for area in area_list: \n",
    "    # sample specific inputs\n",
    "    _adata = adata[adata.obs['sample'] == area2sample[area]]\n",
    "    sample_cells = adata.obs['orig_index']\n",
    "    cell_by_barcode = np.zeros((adata.n_obs, adata.n_var), dtype=object)\n",
    "    cell_seg = imread(os.path.join(ppath, '2022-10-16-2D-segmentation', 'flamingo_backscaled', f'Area{area}_cell_2D.tif'))\n",
    "    nucleus_seg = imread(os.path.join(ppath, '2022-10-16-2D-segmentation', 'dapi_backscaled', f'Area{area}_nuclei_2D.tif'))\n",
    "    mat_bases, mat_points = load_reads_3D(os.path.join(ppath, '2022-10-15-merged-points', f'Area_{area}'), 'merged_goodPoints.mat')\n",
    "    points = mat_points.astype(int)\n",
    "    bases = np.array(mat_bases)\n",
    "    genes = adata.var.index\n",
    "    rp = measure.regionprops(cell_seg)\n",
    "    reads_assign_cell = cell_seg[points[:,0], points[:,1], points[:,2]]\n",
    "    reads_assign_nucleus = nucleus_seg[points[:,0], points[:,1], points[:,2]]\n",
    "    print('======= Input for sample {} is ready. Now start processing ========'.format(area))\n",
    "\n",
    "    for cell_index, cell in enumerate(tqdm(sample_cells)):\n",
    "        cell_iter_cont_all(rp, cell, cell_index, nucleus_seg, points, bases, reads_assign_cell, reads_assign_nucleus, cell_by_barcode, genesToIndex)\n",
    "    np.save(area+'_DR.npy', cell_by_barcode)\n",
    "    break"
   ]
  },
  {
   "cell_type": "markdown",
   "metadata": {},
   "source": [
    "3D"
   ]
  },
  {
   "cell_type": "code",
   "execution_count": 18,
   "metadata": {},
   "outputs": [
    {
     "name": "stdout",
     "output_type": "stream",
     "text": [
      "Number of reads: 628307\n",
      "======= Input for sample 3 is ready. Now start processing ========\n"
     ]
    },
    {
     "name": "stderr",
     "output_type": "stream",
     "text": [
      "  0%|          | 0/2731 [00:00<?, ?it/s]C:\\Users\\wangk\\AppData\\Local\\Temp/ipykernel_32800/343137581.py:14: RuntimeWarning: invalid value encountered in true_divide\n",
      "  rdt[area] = ndt[area] / cdt[area]\n",
      "100%|██████████| 2731/2731 [36:00<00:00,  1.26it/s] \n"
     ]
    },
    {
     "name": "stdout",
     "output_type": "stream",
     "text": [
      "Number of reads: 1404691\n",
      "======= Input for sample 4 is ready. Now start processing ========\n"
     ]
    },
    {
     "name": "stderr",
     "output_type": "stream",
     "text": [
      "100%|██████████| 2310/2310 [33:03<00:00,  1.16it/s] \n"
     ]
    },
    {
     "name": "stdout",
     "output_type": "stream",
     "text": [
      "Number of reads: 480138\n",
      "======= Input for sample 5 is ready. Now start processing ========\n"
     ]
    },
    {
     "name": "stderr",
     "output_type": "stream",
     "text": [
      "100%|██████████| 1665/1665 [23:40<00:00,  1.17it/s]\n"
     ]
    },
    {
     "name": "stdout",
     "output_type": "stream",
     "text": [
      "Number of reads: 2299965\n",
      "======= Input for sample 6 is ready. Now start processing ========\n"
     ]
    },
    {
     "name": "stderr",
     "output_type": "stream",
     "text": [
      "100%|██████████| 2077/2077 [42:43<00:00,  1.23s/it] \n"
     ]
    }
   ],
   "source": [
    "for area in area_list[2:]: \n",
    "    # sample specific inputs\n",
    "    _adata = adata[adata.obs['plate_number'] == area]\n",
    "    sample_cells = _adata.obs['orig_index']\n",
    "    cell_by_barcode = np.zeros((_adata.n_obs, _adata.n_vars), dtype=object)\n",
    "    cell_seg = imread(os.path.join(ppath, '2022-11-11-3D-segmentation', 'cell', f'Area{area}_cell_3Dseg.tif'))\n",
    "    nucleus_seg = imread(os.path.join(ppath, '2022-11-11-3D-segmentation', 'nucleus', f'Area{area}_nucleus_3Dseg.tif'))\n",
    "    genes2seqs, seqs2genes = load_genes('Z:/Data/Processed/2022-10-15-Rena-SkinCulture254-gene')\n",
    "    mat_bases, mat_points = load_reads_3D(os.path.join(ppath, '2022-11-07-merged-points', f'Area{area}'), 'merged_goodPoints.mat')\n",
    "    points = mat_points.astype(int)\n",
    "    bases = np.array([seqs2genes[x] for x in mat_bases])\n",
    "    rp = measure.regionprops(cell_seg)\n",
    "    reads_assign_cell = cell_seg[points[:,0], points[:,1], points[:,2]]\n",
    "    reads_assign_nucleus = nucleus_seg[points[:,0], points[:,1], points[:,2]]\n",
    "    print('======= Input for sample {} is ready. Now start processing ========'.format(area))\n",
    "\n",
    "    for cell_index, cell in enumerate(tqdm(sample_cells)):\n",
    "        cell_iter_cont_all(rp, cell, cell_index, nucleus_seg, points, bases, reads_assign_cell, reads_assign_nucleus, cell_by_barcode, genes_, sampling=[0.2930, 0.0901, 0.0901])\n",
    "    np.save(f'Z:/Connie/02.TEMPOmap/04.revisionForeskin254Gene/output/DR_area{area}.npy', cell_by_barcode)\n",
    "    # break"
   ]
  }
 ],
 "metadata": {
  "kernelspec": {
   "display_name": "Python 3.10.0 ('connie')",
   "language": "python",
   "name": "python3"
  },
  "language_info": {
   "codemirror_mode": {
    "name": "ipython",
    "version": 3
   },
   "file_extension": ".py",
   "mimetype": "text/x-python",
   "name": "python",
   "nbconvert_exporter": "python",
   "pygments_lexer": "ipython3",
   "version": "3.8.12"
  },
  "orig_nbformat": 4,
  "vscode": {
   "interpreter": {
    "hash": "0774c9394a1aea0cca30f13f7f373026b44b800bfe001e3b93c40d9a34a50f91"
   }
  }
 },
 "nbformat": 4,
 "nbformat_minor": 2
}
