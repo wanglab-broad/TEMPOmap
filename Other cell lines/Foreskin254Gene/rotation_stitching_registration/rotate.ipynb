{
 "cells": [
  {
   "cell_type": "markdown",
   "metadata": {},
   "source": [
    "This notebook     \n",
    "1. rotates each tile 90 degrees clock-wise for all in morph_stain images (DAPI, Flamingo, ER)\n",
    "2. organize rotated images for FIJI stitching plug-in (per sample)"
   ]
  },
  {
   "cell_type": "code",
   "execution_count": 1,
   "metadata": {},
   "outputs": [],
   "source": [
    "from tqdm import tqdm\n",
    "import os, shutil\n",
    "from tifffile import imread, imwrite\n",
    "import numpy as np\n",
    "import re"
   ]
  },
  {
   "cell_type": "code",
   "execution_count": 2,
   "metadata": {},
   "outputs": [],
   "source": [
    "ppath = 'Z:/Data/Processed/2022-10-15-Rena-SkinCulture254-gene'\n",
    "impath = ppath + '/output/2022-10-27-registration'\n",
    "dapipath = ppath + '/output/2022-10-29-stitching/rotated_dapi'\n",
    "flamingopath = ppath + '/output/2022-10-29-stitching/rotated_flamingo'\n",
    "erpath = ppath + '/output/2022-10-29-stitching/rotated_er'\n",
    "af546path = ppath + '/output/2022-10-29-stitching/rotated_546'"
   ]
  },
  {
   "cell_type": "code",
   "execution_count": 10,
   "metadata": {},
   "outputs": [],
   "source": [
    "# test on Position001\n",
    "test_pos = 'Position001'\n",
    "test_path = os.path.join(impath, test_pos, 'dapi_reg.tif')\n",
    "orig_img = imread(test_path)\n",
    "rot_img = np.rot90(orig_img, k=1, axes=(1,2))\n",
    "imwrite(dapipath+'/test_Position001.tif', rot_img)"
   ]
  },
  {
   "cell_type": "code",
   "execution_count": 5,
   "metadata": {},
   "outputs": [],
   "source": [
    "impath = ppath + '/output/2022-11-10-registration-rerun'\n",
    "flamingopath = ppath + '/output/2022-10-29-rotation/rotated_flamingo2'\n",
    "erpath = ppath + '/output/2022-10-29-rotation/rotated_er2'\n",
    "dapipath = ppath + '/output/2022-10-29-rotation/rotated_dapi2'\n",
    "af546path = ppath + '/output/2022-10-29-rotation/rotated_5462'"
   ]
  },
  {
   "cell_type": "code",
   "execution_count": 7,
   "metadata": {},
   "outputs": [
    {
     "name": "stderr",
     "output_type": "stream",
     "text": [
      "100%|██████████| 6/6 [00:50<00:00,  8.33s/it]\n"
     ]
    }
   ],
   "source": [
    "# process\n",
    "for pos in tqdm(os.listdir(impath)):\n",
    "    # if os.path.isdir(os.path.join(seqPath, pos)):\n",
    "    for chs in os.listdir(os.path.join(impath, pos)):\n",
    "        if chs == 'dapi_reg.Tif':\n",
    "            img = imread(os.path.join(impath, pos, chs))\n",
    "            rot_img = np.rot90(img, k=1, axes=(1,2))\n",
    "            imwrite(os.path.join(dapipath, pos+'.tif'), rot_img)\n",
    "        if chs == 'flamingo_reg.Tif':\n",
    "            img = imread(os.path.join(impath, pos, chs))\n",
    "            rot_img = np.rot90(img, k=1, axes=(1,2))\n",
    "            imwrite(os.path.join(flamingopath, pos+'.tif'), rot_img)\n",
    "        if chs == 'ER_reg.Tif':\n",
    "            img = imread(os.path.join(impath, pos, chs))\n",
    "            rot_img = np.rot90(img, k=1, axes=(1,2))\n",
    "            imwrite(os.path.join(erpath, pos+'.tif'), rot_img)\n",
    "        if chs == '546_reg.Tif':\n",
    "            img = imread(os.path.join(impath, pos, chs))\n",
    "            rot_img = np.rot90(img, k=1, axes=(1,2))\n",
    "            imwrite(os.path.join(af546path, pos+'.tif'), rot_img)"
   ]
  },
  {
   "cell_type": "code",
   "execution_count": 14,
   "metadata": {},
   "outputs": [
    {
     "name": "stderr",
     "output_type": "stream",
     "text": [
      "100%|██████████| 4/4 [00:28<00:00,  7.05s/it]\n"
     ]
    }
   ],
   "source": [
    "# organize folder\n",
    "n_area = 6\n",
    "n_tiles_per_area = 72\n",
    "original_folders = [dapipath, flamingopath, erpath, af546path]\n",
    "for folder in tqdm(original_folders):\n",
    "    for area in range(n_area):\n",
    "        os.mkdir(f'{folder}/Area_{area+1}')\n",
    "    for tile in os.listdir(folder):\n",
    "        if tile.startswith('Position'):\n",
    "            corr_area = (int(tile[-7:-4])-1) // n_tiles_per_area + 1\n",
    "            shutil.move(f'{folder}/{tile}', f'{folder}/Area_{corr_area}')"
   ]
  },
  {
   "cell_type": "code",
   "execution_count": 6,
   "metadata": {},
   "outputs": [],
   "source": [
    "n_area = 6\n",
    "n_tiles_per_area = 72\n",
    "folder = os.path.join(ppath, 'output', '2022-10-06-AF546-spot-finding')\n",
    "# for area in range(n_area):\n",
    "#     os.mkdir(os.path.join(ppath, 'output', folder, f'Area_{area+1}'))\n",
    "for tile in os.listdir(folder):\n",
    "    if tile.startswith('AF546_Position'):\n",
    "        corr_area = (int(tile[-7:-4])-1) // n_tiles_per_area + 1\n",
    "        shutil.move(f'{folder}/{tile}', f'{folder}/Area_{corr_area}')"
   ]
  },
  {
   "cell_type": "code",
   "execution_count": null,
   "metadata": {},
   "outputs": [],
   "source": []
  }
 ],
 "metadata": {
  "interpreter": {
   "hash": "0774c9394a1aea0cca30f13f7f373026b44b800bfe001e3b93c40d9a34a50f91"
  },
  "kernelspec": {
   "display_name": "Python 3.10.0 ('connie')",
   "language": "python",
   "name": "python3"
  },
  "language_info": {
   "codemirror_mode": {
    "name": "ipython",
    "version": 3
   },
   "file_extension": ".py",
   "mimetype": "text/x-python",
   "name": "python",
   "nbconvert_exporter": "python",
   "pygments_lexer": "ipython3",
   "version": "3.10.0"
  },
  "orig_nbformat": 4
 },
 "nbformat": 4,
 "nbformat_minor": 2
}
