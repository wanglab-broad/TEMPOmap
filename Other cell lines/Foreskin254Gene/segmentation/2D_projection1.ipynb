{
 "cells": [
  {
   "cell_type": "code",
   "execution_count": 1,
   "metadata": {},
   "outputs": [],
   "source": [
    "from tifffile import imread, imwrite\n",
    "import numpy as np\n",
    "import os, sys\n",
    "from tqdm import tqdm\n",
    "import shutil\n",
    "from matplotlib import pyplot as plt"
   ]
  },
  {
   "cell_type": "code",
   "execution_count": 2,
   "metadata": {},
   "outputs": [],
   "source": [
    "ppath = '/stanley/WangLab/Data/Processed/2022-10-15-Rena-SkinCulture254-gene'\n",
    "# fpath = os.path.join(ppath, 'output', '2022-12-08-2D-segmentation-unstitched-tiles/tiles_to_segment')\n",
    "projpath = os.path.join(ppath, 'output', '2022-12-08-2D-segmentation-unstitched-tiles/2022-12-08-2D-projection')\n",
    "rotpath = os.path.join(ppath, 'output', '2022-10-29-rotation')\n",
    "n_tiles_area = 72"
   ]
  },
  {
   "cell_type": "code",
   "execution_count": 3,
   "metadata": {},
   "outputs": [],
   "source": [
    "tile_num = [21, 22, 32, 83, 84, 93, 155, 164, 219, 227, 238, 299, 300, 308]"
   ]
  },
  {
   "cell_type": "markdown",
   "metadata": {},
   "source": [
    "## project to 2D"
   ]
  },
  {
   "cell_type": "code",
   "execution_count": 4,
   "metadata": {},
   "outputs": [],
   "source": [
    "def tile3digits(num_str):\n",
    "    '''input: string-form integer\n",
    "        output: same but 3 digits'''\n",
    "    if len(num_str) == 1:\n",
    "        return '00'+num_str\n",
    "    elif len(num_str) == 2:\n",
    "        return '0'+num_str\n",
    "    else: return num_str"
   ]
  },
  {
   "cell_type": "code",
   "execution_count": 12,
   "metadata": {},
   "outputs": [],
   "source": [
    "# dapi\n",
    "for tile in tile_num:\n",
    "    folder = tile//n_tiles_area + 1\n",
    "    tile_ = tile3digits(str(tile))\n",
    "    im3d = imread(os.path.join(rotpath, 'rotated_dapi', f'Area_{folder}', f'Position{tile_}.tif'))\n",
    "    im2d = np.max(im3d, axis=0)\n",
    "    # break\n",
    "    imwrite(os.path.join(projpath, 'dapi', f'Position{tile_}.tif'), im2d)"
   ]
  },
  {
   "cell_type": "code",
   "execution_count": null,
   "metadata": {},
   "outputs": [],
   "source": [
    "# # flamingo\n",
    "# for tile in tile_num:\n",
    "#     folder = tile//n_tiles_area + 1\n",
    "#     tile_ = tile3digits(str(tile))\n",
    "#     im3d = imread(os.path.join(rotpath, 'rotated_flamingo', f'Area_{folder}', f'Position{tile_}.tif'))\n",
    "#     im2d = np.sum(im3d, axis=0) # TODO check original image\n",
    "#     imwrite(os.path.join(projpath, 'flamingo', f'Position{tile_}.tif'), im2d)"
   ]
  }
 ],
 "metadata": {
  "kernelspec": {
   "display_name": "Python 3 (ipykernel)",
   "language": "python",
   "name": "python3"
  },
  "language_info": {
   "codemirror_mode": {
    "name": "ipython",
    "version": 3
   },
   "file_extension": ".py",
   "mimetype": "text/x-python",
   "name": "python",
   "nbconvert_exporter": "python",
   "pygments_lexer": "ipython3",
   "version": "3.8.12"
  },
  "orig_nbformat": 4
 },
 "nbformat": 4,
 "nbformat_minor": 2
}
