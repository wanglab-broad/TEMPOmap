{
 "cells": [
  {
   "cell_type": "markdown",
   "metadata": {},
   "source": [
    "1. merge flamingo and er for 2D segmentation (skin sample ER was more clear for clumped cells)\n",
    "2. merge dapi, flamingo, er for 3D segmentation"
   ]
  },
  {
   "cell_type": "code",
   "execution_count": 1,
   "metadata": {},
   "outputs": [],
   "source": [
    "import os\n",
    "from tifffile import imread, imwrite\n",
    "import napari\n",
    "from skimage import filters, morphology\n",
    "from tqdm import tqdm"
   ]
  },
  {
   "cell_type": "markdown",
   "metadata": {},
   "source": [
    "# 2D"
   ]
  },
  {
   "cell_type": "code",
   "execution_count": 5,
   "metadata": {},
   "outputs": [],
   "source": [
    "ppath = 'Z:/Data/Processed/2022-10-15-Rena-SkinCulture254-gene'\n",
    "impath = ppath + '/output/2022-11-07-scaling-down'\n",
    "output_path = ppath + '/output/2022-11-07-2D-segmentation/merged_er_flamingo'"
   ]
  },
  {
   "cell_type": "markdown",
   "metadata": {},
   "source": [
    "### Test"
   ]
  },
  {
   "cell_type": "code",
   "execution_count": 3,
   "metadata": {},
   "outputs": [
    {
     "data": {
      "text/plain": [
       "<Image layer 'er' at 0x2149e016650>"
      ]
     },
     "execution_count": 3,
     "metadata": {},
     "output_type": "execute_result"
    }
   ],
   "source": [
    "er = imread(impath+'/Area1_er.tif')\n",
    "flamingo = imread(impath+'/Area1_flamingo.tif')\n",
    "merged = flamingo + er\n",
    "viewer = napari.view_image(merged)\n",
    "viewer.add_image(flamingo)\n",
    "viewer.add_image(er)"
   ]
  },
  {
   "cell_type": "code",
   "execution_count": 5,
   "metadata": {},
   "outputs": [],
   "source": [
    "merged_ = 0.1 * flamingo + er\n",
    "viewer.add_image(merged_)\n",
    "imwrite(os.path.join(output_path, 'Area1_overlay2.tif'), merged_)"
   ]
  },
  {
   "cell_type": "markdown",
   "metadata": {},
   "source": [
    "###  Process"
   ]
  },
  {
   "cell_type": "code",
   "execution_count": 6,
   "metadata": {},
   "outputs": [
    {
     "name": "stderr",
     "output_type": "stream",
     "text": [
      "100%|██████████| 1/1 [00:01<00:00,  1.70s/it]\n"
     ]
    }
   ],
   "source": [
    "n = 0.1\n",
    "for area in tqdm(range(4,5)):\n",
    "    er = imread(os.path.join(impath, f'Area{area}_er.tif'))\n",
    "    flamingo = imread(os.path.join(impath, f'Area{area}_flamingo.tif'))\n",
    "    merged = er + n * flamingo\n",
    "    imwrite(os.path.join(output_path, f'Area{area}_overlay.tif'), merged)"
   ]
  },
  {
   "cell_type": "markdown",
   "metadata": {},
   "source": [
    "# 3D"
   ]
  },
  {
   "cell_type": "code",
   "execution_count": 2,
   "metadata": {},
   "outputs": [],
   "source": [
    "ppath = 'Z:/Data/Processed/2022-10-15-Rena-SkinCulture254-gene'\n",
    "impath = ppath + '/output/2022-10-30-stitching'\n",
    "output_path = ppath + '/output/2022-11-11-3D-segmentation/overlay'"
   ]
  },
  {
   "cell_type": "markdown",
   "metadata": {},
   "source": [
    "test"
   ]
  },
  {
   "cell_type": "code",
   "execution_count": 3,
   "metadata": {},
   "outputs": [],
   "source": [
    "dapi = imread(impath+'/dapi/Area1.tif')\n",
    "er = imread(impath+'/er/Area1.tif')\n",
    "flamingo = imread(impath+'/flamingo/Area1.tif')"
   ]
  },
  {
   "cell_type": "code",
   "execution_count": 5,
   "metadata": {},
   "outputs": [
    {
     "data": {
      "text/plain": [
       "(46, 16706, 14929)"
      ]
     },
     "execution_count": 5,
     "metadata": {},
     "output_type": "execute_result"
    }
   ],
   "source": [
    "dapi.shape"
   ]
  },
  {
   "cell_type": "code",
   "execution_count": 6,
   "metadata": {},
   "outputs": [],
   "source": [
    "# crop\n",
    "dapi_ = dapi[:, 3000:5000, 3000:5000]\n",
    "er_ = er[:, 3000:5000, 3000:5000]\n",
    "flamingo_ = flamingo[:, 3000:5000, 3000:5000]"
   ]
  },
  {
   "cell_type": "code",
   "execution_count": 10,
   "metadata": {},
   "outputs": [
    {
     "data": {
      "text/plain": [
       "<Image layer 'dapi_' at 0x1ebe33f0ca0>"
      ]
     },
     "execution_count": 10,
     "metadata": {},
     "output_type": "execute_result"
    }
   ],
   "source": [
    "merged = dapi_ + 0.1*flamingo_ + er_\n",
    "viewer = napari.view_image(merged)\n",
    "viewer.add_image(flamingo_)\n",
    "viewer.add_image(er_)\n",
    "viewer.add_image(dapi_)"
   ]
  },
  {
   "cell_type": "markdown",
   "metadata": {},
   "source": [
    "process"
   ]
  },
  {
   "cell_type": "code",
   "execution_count": null,
   "metadata": {},
   "outputs": [],
   "source": [
    "for a in [1,3,4,5,6]:\n",
    "    dapi = imread(impath + f'/dapi/Area{a}.tif')\n",
    "    er = imread(impath + f'/er/Area{a}.tif')\n",
    "    flamingo = imread(impath + f'/flamingo/Area{a}.tif')\n",
    "    merged = dapi + 0.1*flamingo + er\n",
    "    imwrite(os.path.join(output_path, f'Area{a}_overlay.tif'), merged)\n",
    "    break"
   ]
  }
 ],
 "metadata": {
  "interpreter": {
   "hash": "0774c9394a1aea0cca30f13f7f373026b44b800bfe001e3b93c40d9a34a50f91"
  },
  "kernelspec": {
   "display_name": "Python 3.10.0 ('connie')",
   "language": "python",
   "name": "python3"
  },
  "language_info": {
   "codemirror_mode": {
    "name": "ipython",
    "version": 3
   },
   "file_extension": ".py",
   "mimetype": "text/x-python",
   "name": "python",
   "nbconvert_exporter": "python",
   "pygments_lexer": "ipython3",
   "version": "3.8.12"
  },
  "orig_nbformat": 4
 },
 "nbformat": 4,
 "nbformat_minor": 2
}
