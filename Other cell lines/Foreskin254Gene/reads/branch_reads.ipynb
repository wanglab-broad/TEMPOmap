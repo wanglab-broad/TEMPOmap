{
 "cells": [
  {
   "cell_type": "markdown",
   "metadata": {},
   "source": [
    "This notebook counts transcripts at branches of foreskin sample, in particular melanocytes. Bulk."
   ]
  },
  {
   "cell_type": "code",
   "execution_count": 5,
   "metadata": {},
   "outputs": [],
   "source": [
    "from tifffile import imread\n",
    "import os\n",
    "import numpy as np\n",
    "import pandas as pd\n",
    "from skimage.filters import gaussian\n",
    "import napari\n",
    "from starmap.sequencing import *\n",
    "from scipy import ndimage\n",
    "from skimage.morphology import binary_dilation, square"
   ]
  },
  {
   "cell_type": "code",
   "execution_count": 2,
   "metadata": {},
   "outputs": [],
   "source": [
    "ppath = 'Z:/Data/Processed/2022-10-15-Rena-SkinCulture254-gene'\n",
    "impath = os.path.join(ppath, 'output', '2022-10-30-stitching/flamingo')\n",
    "ptpath = os.path.join(ppath, 'output', '2022-11-07-merged-points')\n",
    "area_list = range(1,7)"
   ]
  },
  {
   "cell_type": "code",
   "execution_count": 3,
   "metadata": {},
   "outputs": [],
   "source": [
    "def load_reads(fpath, reads_file):\n",
    "    S = loadmat(os.path.join(fpath, reads_file))\n",
    "    bases = [str(i[0][0]) for i in S[\"merged_reads\"]]\n",
    "    points = S[\"merged_points\"]\n",
    "    temp = np.zeros(points.shape)\n",
    "    temp[:, 0] = np.round(points[:, 2]-1) \n",
    "    temp[:, 1] = np.round(points[:, 1]-1)\n",
    "    temp[:, 2] = np.round(points[:, 0]-1)\n",
    "    \n",
    "    print(f\"Number of reads: {len(bases)}\")\n",
    "    \n",
    "    return bases, temp\n",
    "\n",
    "def load_genes(fpath):\n",
    "    genes2seq = {}\n",
    "    seq2genes = {}\n",
    "    with open(os.path.join(fpath, \"genes.csv\"), encoding='utf-8-sig') as f:\n",
    "        for l in f:\n",
    "            fields = l.rstrip().split(\",\")\n",
    "            genes2seq[fields[0]] = \"\".join([str(s+1) for s in encode_SOLID(fields[1][::-1])])\n",
    "            seq2genes[genes2seq[fields[0]]] = fields[0]\n",
    "    return genes2seq, seq2genes"
   ]
  },
  {
   "cell_type": "code",
   "execution_count": 4,
   "metadata": {},
   "outputs": [],
   "source": [
    "genes2seqs, seqs2genes = load_genes(ppath)\n",
    "genes = genes2seqs.keys()\n",
    "genes_to_index = {}  \n",
    "for i, k in enumerate(genes):\n",
    "    genes_to_index[k] = i"
   ]
  },
  {
   "cell_type": "code",
   "execution_count": 9,
   "metadata": {},
   "outputs": [
    {
     "name": "stdout",
     "output_type": "stream",
     "text": [
      "Number of reads: 893831\n",
      "Number of reads: 990123\n",
      "Number of reads: 628307\n",
      "Number of reads: 1404691\n",
      "Number of reads: 480138\n",
      "Number of reads: 2299965\n"
     ]
    }
   ],
   "source": [
    "for area in area_list:\n",
    "    # binary\n",
    "    im = imread(os.path.join(impath, f'Area{area}_ec.tif'))\n",
    "    imbn = np.zeros(im.shape)\n",
    "    for z in range(im.shape[0]):\n",
    "        temp = gaussian(im[z])\n",
    "        temp = temp > 0.05\n",
    "        temp = binary_dilation(temp, square(7))\n",
    "        imbn[z] = ndimage.binary_fill_holes(temp)\n",
    "    # points\n",
    "    bases, points = load_reads(os.path.join(ppath, 'output', '2022-11-07-merged-points', f'Area{area}'), \"merged_goodPoints.mat\")\n",
    "    bases = np.array([seqs2genes[x] for x in bases])\n",
    "    points = np.array(points)\n",
    "    points = points.astype(int)\n",
    "    # count\n",
    "    count_in = [0]*len(genes)\n",
    "    count_out = [0]*len(genes)\n",
    "    for i, pt in enumerate(points):\n",
    "        idx = list(genes).index(bases[i])\n",
    "        if imbn[pt[0], pt[1], pt[2]]:\n",
    "            count_in[idx] +=1\n",
    "        else: count_out[idx] +=1\n",
    "    df = pd.DataFrame(zip(list(genes), count_in, count_out), columns=['gene', 'count_in', 'count_out'])\n",
    "    df.to_csv(os.path.join(ppath, 'output', 'reads_assigned', f'counts_Area{area}.csv'))"
   ]
  },
  {
   "cell_type": "code",
   "execution_count": 9,
   "metadata": {},
   "outputs": [],
   "source": [
    "# test\n",
    "# im_test = im[:, 5000:8000, 5000:8000]\n",
    "# imbn = np.zeros(im_test.shape)\n",
    "# for z in range(im_test.shape[0]):\n",
    "#     temp = gaussian(im_test[z])\n",
    "#     temp = temp > 0.05\n",
    "#     temp = binary_dilation(temp, square(7))\n",
    "#     imbn[z] = ndimage.binary_fill_holes(temp)\n",
    "#     # break\n",
    "# viewer = napari.view_image(imbn)"
   ]
  },
  {
   "cell_type": "code",
   "execution_count": 22,
   "metadata": {},
   "outputs": [
    {
     "data": {
      "text/plain": [
       "<AxesSubplot:ylabel='Count'>"
      ]
     },
     "execution_count": 22,
     "metadata": {},
     "output_type": "execute_result"
    },
    {
     "data": {
      "image/png": "[encoded data removed]",
      "text/plain": [
       "<Figure size 432x288 with 1 Axes>"
      ]
     },
     "metadata": {
      "needs_background": "light"
     },
     "output_type": "display_data"
    }
   ],
   "source": [
    "import seaborn as sns\n",
    "sns.histplot(pct)"
   ]
  },
  {
   "cell_type": "code",
   "execution_count": null,
   "metadata": {},
   "outputs": [],
   "source": []
  }
 ],
 "metadata": {
  "kernelspec": {
   "display_name": "Python 3.8.12 ('connie')",
   "language": "python",
   "name": "python3"
  },
  "language_info": {
   "codemirror_mode": {
    "name": "ipython",
    "version": 3
   },
   "file_extension": ".py",
   "mimetype": "text/x-python",
   "name": "python",
   "nbconvert_exporter": "python",
   "pygments_lexer": "ipython3",
   "version": "3.8.12"
  },
  "orig_nbformat": 4,
  "vscode": {
   "interpreter": {
    "hash": "0774c9394a1aea0cca30f13f7f373026b44b800bfe001e3b93c40d9a34a50f91"
   }
  }
 },
 "nbformat": 4,
 "nbformat_minor": 2
}
