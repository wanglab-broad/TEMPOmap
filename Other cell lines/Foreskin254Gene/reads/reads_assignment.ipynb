{
 "cells": [
  {
   "cell_type": "markdown",
   "metadata": {},
   "source": [
    "# Reads Assignment"
   ]
  },
  {
   "cell_type": "code",
   "execution_count": 1,
   "metadata": {},
   "outputs": [],
   "source": [
    "import sys, os\n",
    "import numpy as np\n",
    "import pandas as pd\n",
    "import seaborn as sns\n",
    "from starmap.sequencing import *\n",
    "from scipy.io import loadmat\n",
    "from tqdm import tqdm\n",
    "import tifffile\n",
    "from skimage.measure import regionprops"
   ]
  },
  {
   "cell_type": "markdown",
   "metadata": {},
   "source": [
    "### Functions"
   ]
  },
  {
   "cell_type": "code",
   "execution_count": 2,
   "metadata": {},
   "outputs": [],
   "source": [
    "from functools import wraps\n",
    "from time import time\n",
    "\n",
    "# Timer\n",
    "def timer(func):\n",
    "    @wraps(func)\n",
    "    def _time_it(*args, **kwargs):\n",
    "        start = int(round(time() * 1000))\n",
    "        try:\n",
    "            return func(*args, **kwargs)\n",
    "        finally:\n",
    "            end_ = int(round(time() * 1000)) - start\n",
    "            end_ = round(end_ / 1000, 4)\n",
    "            print(f\"Total execution time: {end_ if end_ > 0 else 0} s\")\n",
    "    return _time_it\n",
    "\n",
    "@timer\n",
    "# Load reads and their positions from mat file\n",
    "def load_reads(fpath, reads_file):\n",
    "    S = loadmat(os.path.join(fpath, reads_file))\n",
    "    bases = [str(i[0][0]) for i in S[\"merged_reads\"]]\n",
    "    points = S[\"merged_points\"]\n",
    "    temp = np.zeros(points.shape)\n",
    "    temp[:, 0] = np.round(points[:, 2]-1) \n",
    "    temp[:, 1] = np.round(points[:, 1]-1)\n",
    "    temp[:, 2] = np.round(points[:, 0]-1)\n",
    "    \n",
    "    print(f\"Number of reads: {len(bases)}\")\n",
    "    \n",
    "    return bases, temp\n",
    "\n",
    "# Load gene table from genes.csv\n",
    "def load_genes(fpath):\n",
    "    genes2seq = {}\n",
    "    seq2genes = {}\n",
    "    with open(os.path.join(fpath, \"genes.csv\"), encoding='utf-8-sig') as f:\n",
    "        for l in f:\n",
    "            fields = l.rstrip().split(\",\")\n",
    "            genes2seq[fields[0]] = \"\".join([str(s+1) for s in encode_SOLID(fields[1][::-1])])\n",
    "            seq2genes[genes2seq[fields[0]]] = fields[0]\n",
    "    return genes2seq, seq2genes"
   ]
  },
  {
   "cell_type": "markdown",
   "metadata": {},
   "source": [
    "# sequencing data"
   ]
  },
  {
   "cell_type": "code",
   "execution_count": 3,
   "metadata": {},
   "outputs": [],
   "source": [
    "# IO path \n",
    "ppath = 'Z:/Data/Processed/2022-10-15-Rena-SkinCulture254-gene/'\n",
    "opath = os.path.join(ppath, 'output')\n",
    "areas = range(1,7)"
   ]
  },
  {
   "cell_type": "code",
   "execution_count": 4,
   "metadata": {},
   "outputs": [],
   "source": [
    "# Load genes\n",
    "genes2seqs, seqs2genes = load_genes(ppath)\n",
    "genes = genes2seqs.keys()\n",
    "genes_to_index = {}  \n",
    "for i, k in enumerate(genes):\n",
    "    genes_to_index[k] = i"
   ]
  },
  {
   "cell_type": "code",
   "execution_count": 19,
   "metadata": {},
   "outputs": [
    {
     "name": "stdout",
     "output_type": "stream",
     "text": [
      "Number of reads: 1404691\n",
      "Total execution time: 11.901 s\n"
     ]
    }
   ],
   "source": [
    "area_num = 4\n",
    "# Load reads of current well\n",
    "bases, points = load_reads(os.path.join(opath, '2022-11-07-merged-points', f'Area{area_num}'), \"merged_goodPoints.mat\")\n",
    "bases = np.array([seqs2genes[x] for x in bases])\n",
    "points = np.array(points)\n",
    "points = points.astype(int)"
   ]
  },
  {
   "cell_type": "code",
   "execution_count": 20,
   "metadata": {},
   "outputs": [
    {
     "name": "stdout",
     "output_type": "stream",
     "text": [
      "====Processing: whole_cell====\n",
      "Total number of cells: 2310\n",
      "Getting region information...\n"
     ]
    },
    {
     "name": "stderr",
     "output_type": "stream",
     "text": [
      "100%|██████████| 2310/2310 [02:12<00:00, 17.45it/s]\n"
     ]
    },
    {
     "name": "stdout",
     "output_type": "stream",
     "text": [
      "76.48 % [1074352 out of 1404691] reads were assigned to 2310 cells\n",
      "====Processing: nucleus====\n",
      "Getting region information...\n"
     ]
    },
    {
     "name": "stderr",
     "output_type": "stream",
     "text": [
      "100%|██████████| 2310/2310 [00:46<00:00, 50.05it/s]\n"
     ]
    },
    {
     "name": "stdout",
     "output_type": "stream",
     "text": [
      "39.94 % [561020 out of 1404691] reads were assigned to 2310 cells\n"
     ]
    },
    {
     "data": {
      "image/png": "[encoded data removed]",
      "text/plain": [
       "<Figure size 432x288 with 1 Axes>"
      ]
     },
     "metadata": {
      "needs_background": "light"
     },
     "output_type": "display_data"
    }
   ],
   "source": [
    "structure_dict = {'whole_cell': 'cell',\n",
    "                 'nucleus': 'nucleus'}\n",
    "\n",
    "total_cells = None # NOTE only defined in whole_cell \n",
    "# expr_dict = {}\n",
    "\n",
    "for current_structure in structure_dict.keys():\n",
    "    # current_structure = 'nucleus'\n",
    "    print(f\"====Processing: {current_structure}====\")\n",
    "\n",
    "    current_out_path = os.path.join(opath, f'Area{area_num}', current_structure)\n",
    "    if not os.path.exists(current_out_path):\n",
    "        os.mkdir(current_out_path) \n",
    "    \n",
    "    # Load segmentation\n",
    "    seg_path = os.path.join(opath, '2022-11-11-3D-segmentation')\n",
    "    current_seg = tifffile.imread(os.path.join(seg_path, structure_dict[current_structure], f'Area{area_num}_{structure_dict[current_structure]}_3Dseg.tif'))\n",
    "\n",
    "    # remove reads that fall out of frame\n",
    "    in_frame = []\n",
    "    for i, p in enumerate(points):\n",
    "        if np.any(p >= current_seg.shape):\n",
    "            in_frame.append(False)\n",
    "        else: in_frame.append(True)\n",
    "    points = points[in_frame]\n",
    "    bases = bases[in_frame]\n",
    "\n",
    "    # Assign reads to current structure\n",
    "    reads_assignment = current_seg[points[:, 0], points[:, 1], points[:, 2]]\n",
    "\n",
    "    if not total_cells:\n",
    "        total_cells = len(np.unique(current_seg)) - 1\n",
    "        print(f\"Total number of cells: {total_cells}\")\n",
    "\n",
    "    cell_by_barcode = np.zeros((total_cells, len(genes)))\n",
    "\n",
    "    # Get region information \n",
    "    print('Getting region information...') \n",
    "    rp = regionprops(current_seg)\n",
    "\n",
    "    region_labels = []\n",
    "    areas_dict = []\n",
    "    cell_locs_dict = []\n",
    "    for i, region in enumerate(tqdm(rp)):\n",
    "        region_labels.append(region.label)\n",
    "        area = region.area\n",
    "        areas_dict.append(area)\n",
    "        if area > 0:\n",
    "            cell_locs_dict.append(region.centroid)\n",
    "        else: cell_locs_dict.append((0,0,0)) # NOTE to be deleted\n",
    "\n",
    "        assigned_reads = bases[reads_assignment == i+1]  # i+1 == region label\n",
    "        for j in assigned_reads:\n",
    "            if j in genes_to_index:\n",
    "                cell_by_barcode[i, genes_to_index[j]] += 1 \n",
    "\n",
    "    cell_by_barcode = cell_by_barcode.astype(int)\n",
    "    cell_locs_dict = np.array(cell_locs_dict).astype(int) #?\n",
    "    curr_meta = pd.DataFrame({'sample': area_num, 'area': areas_dict,\n",
    "                                'x':cell_locs_dict[:, 1], 'y':cell_locs_dict[:, 2], 'z':cell_locs_dict[:, 0]})\n",
    "\n",
    "    # Output\n",
    "    with open(os.path.join(current_out_path, \"log.txt\"), 'w') as f:\n",
    "        msg = f'{100*cell_by_barcode.sum()/len(bases):.2f} % [{cell_by_barcode.sum()} out of {len(bases)}] reads were assigned to {total_cells} cells'\n",
    "        print(msg)\n",
    "        f.write(msg)\n",
    "    np.savetxt(os.path.join(current_out_path, \"cell_barcode_count.csv\"), cell_by_barcode, delimiter=',', fmt=\"%d\")\n",
    "    cell_barcode_names = pd.DataFrame({'seq': list(seqs2genes.keys()), 'gene': list(seqs2genes.values())})\n",
    "    cell_barcode_names.to_csv(os.path.join(current_out_path, \"cell_barcode_names.csv\"), header=False)\n",
    "    curr_meta.to_csv(os.path.join(current_out_path, \"meta.csv\"))\n",
    "\n",
    "    # expr_dict[current_structure] = cell_by_barcode\n",
    "    # print(curr_meta.head())\n",
    "    sns.histplot(areas_dict)\n",
    "    # break"
   ]
  },
  {
   "cell_type": "markdown",
   "metadata": {},
   "source": [
    "## Generate complete matrix for all samples"
   ]
  },
  {
   "cell_type": "code",
   "execution_count": 22,
   "metadata": {},
   "outputs": [
    {
     "name": "stdout",
     "output_type": "stream",
     "text": [
      "====Generating: whole_cell====\n",
      "====Generating: nucleus====\n"
     ]
    }
   ],
   "source": [
    "# Construct complete matrix # NOTE just to concat samples together\n",
    "for current_structure in structure_dict.keys():\n",
    "    print(f\"====Generating: {current_structure}====\")\n",
    "    cell_by_gene_complete = None \n",
    "    meta_complete = None    \n",
    "\n",
    "    for i, area_num in enumerate(areas):\n",
    "        current_expr_path = os.path.join(opath, f'Area{area_num}')\n",
    "        current_expr = np.loadtxt(os.path.join(current_expr_path, current_structure, \"cell_barcode_count.csv\"), dtype=int, delimiter=',')\n",
    "        current_meta = pd.read_csv(os.path.join(current_expr_path, current_structure, \"meta.csv\")) \n",
    "\n",
    "        # add to complete matrix\n",
    "        if cell_by_gene_complete is not None:\n",
    "            cell_by_gene_complete = np.concatenate((cell_by_gene_complete, current_expr))\n",
    "        else:\n",
    "            cell_by_gene_complete = current_expr\n",
    "\n",
    "        if meta_complete is not None:\n",
    "            meta_complete = pd.concat([meta_complete, current_meta])\n",
    "        else:\n",
    "            meta_complete = current_meta\n",
    "\n",
    "    current_output_path = os.path.join(opath, current_structure)\n",
    "    if not os.path.exists(current_output_path):\n",
    "        os.mkdir(current_output_path)\n",
    "    np.savetxt(os.path.join(current_output_path, \"complete_cell_barcode_count.csv\"), cell_by_gene_complete.astype(int), delimiter=',', fmt=\"%d\")\n",
    "    meta_complete = meta_complete.reset_index(drop=True)\n",
    "    meta_complete = meta_complete.rename(columns={\"Unnamed: 0\": \"orig_index\"})\n",
    "    meta_complete.to_csv(os.path.join(current_output_path, \"complete_meta.csv\"))\n",
    "    # cell_barcode_names.to_csv(os.path.join(current_output_path, \"cell_barcode_names.csv\"), header=False)"
   ]
  },
  {
   "cell_type": "code",
   "execution_count": null,
   "metadata": {},
   "outputs": [],
   "source": []
  }
 ],
 "metadata": {
  "interpreter": {
   "hash": "0774c9394a1aea0cca30f13f7f373026b44b800bfe001e3b93c40d9a34a50f91"
  },
  "kernelspec": {
   "display_name": "Python 3.8.11 ('connie')",
   "language": "python",
   "name": "python3"
  },
  "language_info": {
   "codemirror_mode": {
    "name": "ipython",
    "version": 3
   },
   "file_extension": ".py",
   "mimetype": "text/x-python",
   "name": "python",
   "nbconvert_exporter": "python",
   "pygments_lexer": "ipython3",
   "version": "3.10.0"
  }
 },
 "nbformat": 4,
 "nbformat_minor": 4
}
