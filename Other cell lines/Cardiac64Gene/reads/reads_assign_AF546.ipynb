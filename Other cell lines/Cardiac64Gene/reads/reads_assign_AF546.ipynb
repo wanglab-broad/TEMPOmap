{
 "cells": [
  {
   "cell_type": "markdown",
   "metadata": {},
   "source": [
    "Reads assignment for AF546 data. only counts are collected.    \n",
    "-- note: used the same segmentation mask as sequencing images"
   ]
  },
  {
   "cell_type": "code",
   "execution_count": 10,
   "metadata": {},
   "outputs": [],
   "source": [
    "import sys, os\n",
    "import numpy as np\n",
    "import pandas as pd\n",
    "import seaborn as sns\n",
    "from starmap.sequencing import *\n",
    "from scipy.io import loadmat\n",
    "from tqdm import tqdm\n",
    "import tifffile\n",
    "from skimage.measure import regionprops"
   ]
  },
  {
   "cell_type": "markdown",
   "metadata": {},
   "source": [
    "helper"
   ]
  },
  {
   "cell_type": "code",
   "execution_count": 11,
   "metadata": {},
   "outputs": [],
   "source": [
    "def load_af546(fpath, reads_file):\n",
    "    S = loadmat(os.path.join(fpath, reads_file))\n",
    "    points = S['merged_points']\n",
    "    temp = np.zeros(points.shape)\n",
    "    temp[:, 0] = np.round(points[:, 1]-1)\n",
    "    temp[:, 1] = np.round(points[:, 0]-1)\n",
    "    temp[:, 2] = np.round(points[:, 2]-1)\n",
    "    print(f\"Number of reads: {len(points)}\")\n",
    "    \n",
    "    return temp"
   ]
  },
  {
   "cell_type": "code",
   "execution_count": 12,
   "metadata": {},
   "outputs": [],
   "source": [
    "# IO\n",
    "ppath = 'Z:/Data/Processed/2022-09-30-Rena-Cardiomyocyte64Gene/'\n",
    "opath = os.path.join(ppath, 'output', '2022-10-15-merged-points')\n",
    "area_list = [i+1 for i in range(6)]"
   ]
  },
  {
   "cell_type": "code",
   "execution_count": 13,
   "metadata": {},
   "outputs": [],
   "source": [
    "structure_dict = {'whole_cell': 'cell',\n",
    "                 'nucleus': 'nuclei'}"
   ]
  },
  {
   "cell_type": "code",
   "execution_count": 16,
   "metadata": {},
   "outputs": [
    {
     "name": "stdout",
     "output_type": "stream",
     "text": [
      "Number of reads: 5247\n",
      "Number of reads: 5247\n",
      "Number of reads: 6727\n",
      "Number of reads: 6727\n",
      "Number of reads: 7240\n",
      "Number of reads: 7240\n",
      "Number of reads: 4471\n",
      "Number of reads: 4471\n",
      "Number of reads: 6281\n",
      "Number of reads: 6281\n",
      "Number of reads: 6088\n",
      "Number of reads: 6088\n"
     ]
    }
   ],
   "source": [
    "for area in area_list:\n",
    "    area_out_path = os.path.join(opath, f'Area_{area}')\n",
    "    area_result = []\n",
    "    for current_structure in structure_dict:\n",
    "        # Load segmentation\n",
    "        seg_path = os.path.join(ppath, 'output', '2022-10-17-3D-segmentation')\n",
    "        current_seg = tifffile.imread(os.path.join(seg_path, structure_dict[current_structure], f'Area{area}_{structure_dict[current_structure]}_3Dseg.tif'))\n",
    "        points = load_af546(os.path.join(opath, f'Area_{area}'), \"merged_AF546_points.mat\")\n",
    "        points = points.astype(int)\n",
    "        # Assign reads to current structure\n",
    "        reads_assignment = current_seg[points[:, 2], points[:, 0], points[:, 1]]\n",
    "        total_cells = len(np.unique(current_seg)) - 1\n",
    "        cell_ct = [0] * total_cells\n",
    "        for i in range(total_cells):\n",
    "            n_reads = np.count_nonzero(reads_assignment == i+1)\n",
    "            cell_ct[i] += n_reads\n",
    "        area_result.append(cell_ct)\n",
    "    area_result = pd.DataFrame(np.array(area_result).T, columns = ['whole_cell', 'nucleus'])\n",
    "    area_result.to_csv(os.path.join(area_out_path, 'AF546_cell_counts.csv'), index=False)"
   ]
  }
 ],
 "metadata": {
  "kernelspec": {
   "display_name": "Python 3.8.11 ('connie')",
   "language": "python",
   "name": "python3"
  },
  "language_info": {
   "codemirror_mode": {
    "name": "ipython",
    "version": 3
   },
   "file_extension": ".py",
   "mimetype": "text/x-python",
   "name": "python",
   "nbconvert_exporter": "python",
   "pygments_lexer": "ipython3",
   "version": "3.8.12"
  },
  "orig_nbformat": 4,
  "vscode": {
   "interpreter": {
    "hash": "0774c9394a1aea0cca30f13f7f373026b44b800bfe001e3b93c40d9a34a50f91"
   }
  }
 },
 "nbformat": 4,
 "nbformat_minor": 2
}
