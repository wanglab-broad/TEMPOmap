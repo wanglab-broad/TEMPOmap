{
 "cells": [
  {
   "cell_type": "markdown",
   "metadata": {},
   "source": [
    "This notebook is part of project-segmentation pipeline.    \n",
    "1. merge DAPI and Flamingo for 3D segmentation\n",
    "2. check for filtering parameters"
   ]
  },
  {
   "cell_type": "code",
   "execution_count": 1,
   "metadata": {},
   "outputs": [],
   "source": [
    "import os\n",
    "from tifffile import imread, imwrite\n",
    "import napari\n",
    "from skimage import filters, morphology\n",
    "from tqdm import tqdm"
   ]
  },
  {
   "cell_type": "markdown",
   "metadata": {},
   "source": [
    "# Input"
   ]
  },
  {
   "cell_type": "code",
   "execution_count": 2,
   "metadata": {},
   "outputs": [],
   "source": [
    "ppath = 'Z:/Data/Processed/2022-09-30-Rena-Cardiomyocyte64Gene'\n",
    "stitched_path = ppath + '/output/2022-10-08-stitching'\n",
    "# clahe_path = ppath + '/output/2022-10-17-3D-segmentation/flamingo_CLAHE'\n",
    "output_path = ppath + '/output/2022-10-17-3D-segmentation/dapi_flamingo_overlay'"
   ]
  },
  {
   "cell_type": "markdown",
   "metadata": {},
   "source": [
    "# Test"
   ]
  },
  {
   "cell_type": "markdown",
   "metadata": {},
   "source": [
    "without histogram equalization"
   ]
  },
  {
   "cell_type": "code",
   "execution_count": 5,
   "metadata": {},
   "outputs": [
    {
     "data": {
      "text/plain": [
       "<Image layer 'a1dapi' at 0x1b771798d90>"
      ]
     },
     "execution_count": 5,
     "metadata": {},
     "output_type": "execute_result"
    }
   ],
   "source": [
    "a1dapi = imread(stitched_path+'/dapi/Area_1.tif')\n",
    "a1flamingo = imread(stitched_path+'/flamingo/Area1.tif')\n",
    "merged = a1flamingo + a1dapi\n",
    "viewer = napari.view_image(merged)\n",
    "viewer.add_image(a1flamingo)\n",
    "viewer.add_image(a1dapi)"
   ]
  },
  {
   "cell_type": "code",
   "execution_count": 6,
   "metadata": {},
   "outputs": [
    {
     "data": {
      "text/plain": [
       "<Image layer 'merged10' at 0x1b779ce02b0>"
      ]
     },
     "execution_count": 6,
     "metadata": {},
     "output_type": "execute_result"
    }
   ],
   "source": [
    "merged10 = 10 * a1flamingo + a1dapi\n",
    "viewer.add_image(merged10)"
   ]
  },
  {
   "cell_type": "code",
   "execution_count": 7,
   "metadata": {},
   "outputs": [
    {
     "data": {
      "text/plain": [
       "<Image layer 'merged5' at 0x1b769a54190>"
      ]
     },
     "execution_count": 7,
     "metadata": {},
     "output_type": "execute_result"
    }
   ],
   "source": [
    "merged5 = 5 * a1flamingo + a1dapi\n",
    "viewer.add_image(merged5)"
   ]
  },
  {
   "cell_type": "markdown",
   "metadata": {},
   "source": [
    "with histogram equalization"
   ]
  },
  {
   "cell_type": "code",
   "execution_count": 9,
   "metadata": {},
   "outputs": [
    {
     "data": {
      "text/plain": [
       "<Image layer 'a1f_he' at 0x1b769ee3040>"
      ]
     },
     "execution_count": 9,
     "metadata": {},
     "output_type": "execute_result"
    }
   ],
   "source": [
    "from skimage import exposure\n",
    "a1f_he = exposure.equalize_hist(a1flamingo)\n",
    "viewer.add_image(a1f_he)"
   ]
  },
  {
   "cell_type": "code",
   "execution_count": null,
   "metadata": {},
   "outputs": [],
   "source": [
    "a1f_ahe = exposure.equalize_adapthist(a1flamingo)\n",
    "viewer.add_image(a1f_ahe)"
   ]
  },
  {
   "cell_type": "code",
   "execution_count": 12,
   "metadata": {},
   "outputs": [],
   "source": [
    "imwrite(os.path.join(output_path, 'Area1_overlay.tif'), merged5)"
   ]
  },
  {
   "cell_type": "markdown",
   "metadata": {},
   "source": [
    "# Process"
   ]
  },
  {
   "cell_type": "code",
   "execution_count": 3,
   "metadata": {},
   "outputs": [
    {
     "name": "stderr",
     "output_type": "stream",
     "text": [
      "100%|██████████| 1/1 [05:52<00:00, 352.74s/it]\n"
     ]
    }
   ],
   "source": [
    "n = 5 \n",
    "for area in tqdm(range(6,7)):\n",
    "    dapi = imread(os.path.join(stitched_path, 'dapi', f'Area_{area}.tif'))\n",
    "    flamingo = imread(os.path.join(stitched_path, 'flamingo', f'Area{area}.tif'))\n",
    "    merged = dapi + n * flamingo\n",
    "    imwrite(os.path.join(output_path, f'Area{area}_overlay.tif'), merged)"
   ]
  },
  {
   "cell_type": "code",
   "execution_count": 8,
   "metadata": {},
   "outputs": [],
   "source": [
    "# viewer = napari.view_image(merged)"
   ]
  },
  {
   "cell_type": "code",
   "execution_count": 9,
   "metadata": {},
   "outputs": [],
   "source": [
    "imwrite(os.path.join(output_path, f'area{area}_overlay_1.tif'), merged)"
   ]
  }
 ],
 "metadata": {
  "interpreter": {
   "hash": "0774c9394a1aea0cca30f13f7f373026b44b800bfe001e3b93c40d9a34a50f91"
  },
  "kernelspec": {
   "display_name": "Python 3.10.0 ('connie')",
   "language": "python",
   "name": "python3"
  },
  "language_info": {
   "codemirror_mode": {
    "name": "ipython",
    "version": 3
   },
   "file_extension": ".py",
   "mimetype": "text/x-python",
   "name": "python",
   "nbconvert_exporter": "python",
   "pygments_lexer": "ipython3",
   "version": "3.8.12"
  },
  "orig_nbformat": 4
 },
 "nbformat": 4,
 "nbformat_minor": 2
}
