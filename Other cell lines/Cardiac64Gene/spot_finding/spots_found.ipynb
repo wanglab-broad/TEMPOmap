{
 "cells": [
  {
   "cell_type": "code",
   "execution_count": 1,
   "metadata": {},
   "outputs": [],
   "source": [
    "from starmap.sequencing import *\n",
    "import numpy as np\n",
    "# from spatial_funcs import *\n",
    "import napari\n",
    "import tifffile"
   ]
  },
  {
   "cell_type": "code",
   "execution_count": 2,
   "metadata": {},
   "outputs": [],
   "source": [
    "# fpath = '/stanley/WangLab/Data/Processed/2022-09-12-Rena-HeLa16Gene/output/test'\n",
    "fpath = 'Z:/Data/Processed/2022-09-30-Rena-Cardiomyocyte64Gene/output/test'\n",
    "test_tile = 'Position001'"
   ]
  },
  {
   "cell_type": "code",
   "execution_count": 3,
   "metadata": {},
   "outputs": [],
   "source": [
    "def load_tile_reads(fpath, reads_file):\n",
    "    S = loadmat(os.path.join(fpath, reads_file))\n",
    "    bases = [str(i[0][0]) for i in S[\"tile_goodReads\"]]\n",
    "    points = S[\"tile_goodSpots\"]\n",
    "    temp = np.zeros(points.shape)\n",
    "    temp[:, 0] = np.round(points[:, 2]-1)\n",
    "    temp[:, 1] = np.round(points[:, 1]-1)\n",
    "    temp[:, 2] = np.round(points[:, 0]-1)\n",
    "\n",
    "    print(f\"Number of reads: {len(bases)}\")\n",
    "\n",
    "    return bases, temp\n",
    "\n",
    "def load_tile_allReads(fpath, reads_file):\n",
    "    S = loadmat(os.path.join(fpath, reads_file))\n",
    "    bases = [str(i[0][0]) for i in S[\"tile_allReads\"]]\n",
    "    points = S[\"tile_allSpots\"]\n",
    "    temp = np.zeros(points.shape)\n",
    "    temp[:, 0] = np.round(points[:, 2]-1)\n",
    "    temp[:, 1] = np.round(points[:, 1]-1)\n",
    "    temp[:, 2] = np.round(points[:, 0]-1)\n",
    "\n",
    "    print(f\"Number of reads: {len(bases)}\")\n",
    "\n",
    "    return bases, temp"
   ]
  },
  {
   "cell_type": "markdown",
   "metadata": {},
   "source": [
    "### spots"
   ]
  },
  {
   "cell_type": "code",
   "execution_count": 4,
   "metadata": {},
   "outputs": [
    {
     "name": "stdout",
     "output_type": "stream",
     "text": [
      "Number of reads: 43782\n"
     ]
    },
    {
     "data": {
      "text/plain": [
       "array([[   3.,  109.,   13.],\n",
       "       [   3.,  378.,   40.],\n",
       "       [   3.,  577.,   60.],\n",
       "       ...,\n",
       "       [  30., 1270., 1240.],\n",
       "       [  30., 1251., 1249.],\n",
       "       [  30., 1211., 1288.]])"
      ]
     },
     "execution_count": 4,
     "metadata": {},
     "output_type": "execute_result"
    }
   ],
   "source": [
    "_, goodPoints = load_tile_reads(os.path.join(fpath, test_tile), 'goodPoints_max3d.mat')\n",
    "goodPoints"
   ]
  },
  {
   "cell_type": "code",
   "execution_count": 5,
   "metadata": {},
   "outputs": [
    {
     "name": "stdout",
     "output_type": "stream",
     "text": [
      "Number of reads: 75400\n"
     ]
    },
    {
     "data": {
      "text/plain": [
       "array([[   3.,  109.,   13.],\n",
       "       [   3.,  116.,   15.],\n",
       "       [   3.,  378.,   40.],\n",
       "       ...,\n",
       "       [  30., 1211., 1288.],\n",
       "       [  30., 1167., 1329.],\n",
       "       [  30., 1183., 1329.]])"
      ]
     },
     "execution_count": 5,
     "metadata": {},
     "output_type": "execute_result"
    }
   ],
   "source": [
    "_, allPoints = load_tile_allReads(os.path.join(fpath, test_tile), 'allPoints_max3d.mat')\n",
    "allPoints"
   ]
  },
  {
   "cell_type": "code",
   "execution_count": 7,
   "metadata": {},
   "outputs": [],
   "source": [
    "# fig = plt.figure(figsize=(12, 12))\n",
    "# ax = fig.add_subplot(projection='3d')\n",
    "# ax.scatter(goodPoints[:,0], goodPoints[:,1], goodPoints[:,2])"
   ]
  },
  {
   "cell_type": "code",
   "execution_count": 6,
   "metadata": {},
   "outputs": [
    {
     "data": {
      "text/plain": [
       "(31, 2048, 2048)"
      ]
     },
     "execution_count": 6,
     "metadata": {},
     "output_type": "execute_result"
    }
   ],
   "source": [
    "round1_merged = tifffile.imread(os.path.join(fpath, 'round1_merged', test_tile+'.tif'))\n",
    "round1_merged.shape"
   ]
  },
  {
   "cell_type": "code",
   "execution_count": 7,
   "metadata": {},
   "outputs": [
    {
     "data": {
      "text/plain": [
       "(30.0, 2047.0, 2047.0)"
      ]
     },
     "execution_count": 7,
     "metadata": {},
     "output_type": "execute_result"
    }
   ],
   "source": [
    "max(goodPoints[:,0]), max(goodPoints[:,1]), max(goodPoints[:,2])"
   ]
  },
  {
   "cell_type": "code",
   "execution_count": 8,
   "metadata": {},
   "outputs": [
    {
     "name": "stderr",
     "output_type": "stream",
     "text": [
      "c:\\Users\\wangk\\.conda\\envs\\connie\\lib\\site-packages\\numpy\\core\\numeric.py:2446: FutureWarning: elementwise comparison failed; returning scalar instead, but in the future will perform elementwise comparison\n",
      "  return bool(asarray(a1 == a2).all())\n",
      "c:\\Users\\wangk\\.conda\\envs\\connie\\lib\\site-packages\\numpy\\core\\numeric.py:2446: FutureWarning: elementwise comparison failed; returning scalar instead, but in the future will perform elementwise comparison\n",
      "  return bool(asarray(a1 == a2).all())\n"
     ]
    },
    {
     "data": {
      "text/plain": [
       "<Points layer 'allPoints' at 0x166580b6fe0>"
      ]
     },
     "execution_count": 8,
     "metadata": {},
     "output_type": "execute_result"
    }
   ],
   "source": [
    "# viewer = napari.view_image(np.ones((45, 2048, 2048)))\n",
    "# viewer.add_image(round1_merged)\n",
    "viewer = napari.view_image(round1_merged)\n",
    "viewer.add_points(goodPoints, size=2)\n",
    "viewer.add_points(allPoints, size=2)"
   ]
  },
  {
   "cell_type": "markdown",
   "metadata": {},
   "source": [
    "### on segmentation mask"
   ]
  },
  {
   "cell_type": "code",
   "execution_count": 2,
   "metadata": {},
   "outputs": [],
   "source": [
    "# Load reads and their positions from mat file\n",
    "def load_reads(fpath, reads_file):\n",
    "    S = loadmat(os.path.join(fpath, reads_file))\n",
    "    bases = [str(i[0][0]) for i in S[\"merged_reads\"]]\n",
    "    points = S[\"merged_points\"]\n",
    "    temp = np.zeros(points.shape)\n",
    "    temp[:, 0] = np.round(points[:, 2]-1) \n",
    "    temp[:, 1] = np.round(points[:, 1]-1)\n",
    "    temp[:, 2] = np.round(points[:, 0]-1)\n",
    "    \n",
    "    print(f\"Number of reads: {len(bases)}\")\n",
    "    \n",
    "    return bases, temp"
   ]
  },
  {
   "cell_type": "code",
   "execution_count": 9,
   "metadata": {},
   "outputs": [
    {
     "name": "stdout",
     "output_type": "stream",
     "text": [
      "Number of reads: 406506\n"
     ]
    }
   ],
   "source": [
    "ppath = 'Z:/Data/Processed/2022-09-30-Rena-Cardiomyocyte64Gene/'\n",
    "opath = os.path.join(ppath, 'output')\n",
    "area_num = 2\n",
    "bases, points = load_reads(os.path.join(opath, '2022-10-15-merged-points', f'Area_{area_num}'), \"merged_goodPoints.mat\")"
   ]
  },
  {
   "cell_type": "code",
   "execution_count": 10,
   "metadata": {},
   "outputs": [],
   "source": [
    "seg_path = os.path.join(opath, '2022-10-17-3D-segmentation')\n",
    "current_seg = tifffile.imread(os.path.join(seg_path, 'cell', f'Area{area_num}_cell_3Dseg.tif'))"
   ]
  },
  {
   "cell_type": "code",
   "execution_count": 11,
   "metadata": {},
   "outputs": [],
   "source": [
    "overlay = tifffile.imread(os.path.join(opath, '2022-10-17-3D-segmentation', 'dapi_flamingo_overlay', f'Area{area_num}_overlay.tif'))"
   ]
  },
  {
   "cell_type": "code",
   "execution_count": 12,
   "metadata": {},
   "outputs": [
    {
     "data": {
      "text/plain": [
       "<Image layer 'overlay' at 0x1d2cd645f40>"
      ]
     },
     "execution_count": 12,
     "metadata": {},
     "output_type": "execute_result"
    }
   ],
   "source": [
    "viewer1 = napari.view_image(current_seg)\n",
    "viewer1.add_points(points, size=2)\n",
    "viewer1.add_image(overlay)"
   ]
  },
  {
   "cell_type": "code",
   "execution_count": 7,
   "metadata": {},
   "outputs": [
    {
     "data": {
      "text/plain": [
       "<Image layer 'seg1' at 0x1d2d2ca58e0>"
      ]
     },
     "execution_count": 7,
     "metadata": {},
     "output_type": "execute_result"
    }
   ],
   "source": [
    "seg1 = tifffile.imread(os.path.join(seg_path, 'cell', f'Area{area_num}_cell_3Dseg.tif'))\n",
    "viewer.add_image(seg1)"
   ]
  },
  {
   "cell_type": "code",
   "execution_count": 8,
   "metadata": {},
   "outputs": [
    {
     "data": {
      "text/plain": [
       "<Image layer 'seg2' at 0x1d2ccb52760>"
      ]
     },
     "execution_count": 8,
     "metadata": {},
     "output_type": "execute_result"
    }
   ],
   "source": [
    "seg2 = tifffile.imread(os.path.join(seg_path, 'cell', f'Area{area_num}_cell_3Dseg.tif'))\n",
    "viewer.add_image(seg2)"
   ]
  },
  {
   "cell_type": "code",
   "execution_count": 6,
   "metadata": {},
   "outputs": [
    {
     "data": {
      "text/plain": [
       "<Image layer 'nucleus_seg' at 0x12d1db7d040>"
      ]
     },
     "execution_count": 6,
     "metadata": {},
     "output_type": "execute_result"
    }
   ],
   "source": [
    "nucleus_seg = tifffile.imread(os.path.join(seg_path, 'nuclei', f'Area{area_num}_nuclei_3Dseg.tif'))\n",
    "viewer.add_image(nucleus_seg)"
   ]
  },
  {
   "cell_type": "code",
   "execution_count": 9,
   "metadata": {},
   "outputs": [
    {
     "data": {
      "text/plain": [
       "<Image layer 'test_seg2' at 0x12d1defb340>"
      ]
     },
     "execution_count": 9,
     "metadata": {},
     "output_type": "execute_result"
    }
   ],
   "source": [
    "test_seg2 = tifffile.imread(os.path.join(seg_path, 'cell', f'Area{area_num}_cell_3D2.tif'))\n",
    "viewer.add_image(test_seg2)"
   ]
  }
 ],
 "metadata": {
  "interpreter": {
   "hash": "0774c9394a1aea0cca30f13f7f373026b44b800bfe001e3b93c40d9a34a50f91"
  },
  "kernelspec": {
   "display_name": "Python 3 (ipykernel)",
   "language": "python",
   "name": "python3"
  },
  "language_info": {
   "codemirror_mode": {
    "name": "ipython",
    "version": 3
   },
   "file_extension": ".py",
   "mimetype": "text/x-python",
   "name": "python",
   "nbconvert_exporter": "python",
   "pygments_lexer": "ipython3",
   "version": "3.8.12"
  },
  "orig_nbformat": 4
 },
 "nbformat": 4,
 "nbformat_minor": 2
}
