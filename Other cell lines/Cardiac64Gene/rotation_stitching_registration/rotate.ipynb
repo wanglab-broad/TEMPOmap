{
 "cells": [
  {
   "cell_type": "markdown",
   "metadata": {},
   "source": [
    "This notebook     \n",
    "1. rotates each tile 90 degrees clock-wise for all in morph_stain images (DAPI, Flamingo, ER)\n",
    "2. organize rotated images for FIJI stitching plug-in (per sample)"
   ]
  },
  {
   "cell_type": "code",
   "execution_count": 1,
   "metadata": {},
   "outputs": [],
   "source": [
    "from tqdm import tqdm\n",
    "import os, shutil\n",
    "from tifffile import imread, imwrite\n",
    "import numpy as np\n",
    "import re"
   ]
  },
  {
   "cell_type": "code",
   "execution_count": 2,
   "metadata": {},
   "outputs": [],
   "source": [
    "ppath = '/stanley/WangLab/Data/Processed/2022-09-30-Rena-Cardiomyocyte64Gene'\n",
    "dapiPath = ppath + '/round1'\n",
    "morphPath = ppath + '/output/2022-10-06-registration'\n",
    "\n",
    "dapiOutPath = ppath +'/output/2022-10-07-rotation/rotated_seqDapi'\n",
    "flamingoOutPath = ppath +'/output/2022-10-07-rotation/rotated_flamingo'\n",
    "sarcomereOutPath = ppath +'/output/2022-10-07-rotation/rotated_sarcomere'"
   ]
  },
  {
   "cell_type": "code",
   "execution_count": 8,
   "metadata": {},
   "outputs": [],
   "source": [
    "# test on Position001\n",
    "test_pos = 'Position001'\n",
    "test_path = os.path.join(dapiPath, test_pos, '20220925 iPSC data collection seq1_Position001_5_cmle_ch04.tif')\n",
    "orig_img = imread(test_path)\n",
    "rot_img = np.rot90(orig_img, k=1, axes=(2,1))\n",
    "imwrite(dapiOutPath+'/test_Position001.tif', rot_img)"
   ]
  },
  {
   "cell_type": "code",
   "execution_count": 7,
   "metadata": {},
   "outputs": [
    {
     "name": "stderr",
     "output_type": "stream",
     "text": [
      "100%|██████████| 528/528 [46:04<00:00,  5.24s/it]\n"
     ]
    }
   ],
   "source": [
    "# seq images\n",
    "for pos in tqdm(os.listdir(dapiPath)):\n",
    "    if os.path.isdir(os.path.join(dapiPath, pos)):\n",
    "        for chs in os.listdir(os.path.join(dapiPath, pos)):\n",
    "            if chs.endswith('ch04.tif'):\n",
    "                img = imread(os.path.join(dapiPath, pos, chs))\n",
    "                rot_img = np.rot90(img, k=1, axes=(2,1))\n",
    "                imwrite(os.path.join(dapiOutPath, pos+'.tif'), rot_img)"
   ]
  },
  {
   "cell_type": "code",
   "execution_count": 20,
   "metadata": {},
   "outputs": [
    {
     "data": {
      "text/plain": [
       "'Z:/Data/Processed/2022-09-30-Rena-Cardiomyocyte64Gene/output/2022-10-06-registration\\\\Position004\\\\sarcomere_reg.Tif'"
      ]
     },
     "execution_count": 20,
     "metadata": {},
     "output_type": "execute_result"
    }
   ],
   "source": [
    "os.path.join(morphPath, pos, chs)"
   ]
  },
  {
   "cell_type": "code",
   "execution_count": 27,
   "metadata": {},
   "outputs": [
    {
     "name": "stderr",
     "output_type": "stream",
     "text": [
      "100%|██████████| 528/528 [56:57<00:00,  6.47s/it] \n"
     ]
    }
   ],
   "source": [
    "# morph images\n",
    "for pos in tqdm(os.listdir(morphPath)):\n",
    "    # if os.path.isdir(os.path.join(seqPath, pos)):\n",
    "    for chs in os.listdir(os.path.join(morphPath, pos)):\n",
    "        if chs == 'flamingo_reg.Tif':\n",
    "            img = imread(os.path.join(morphPath, pos, chs))\n",
    "            rot_img = np.rot90(img, k=1, axes=(2,1))\n",
    "            imwrite(os.path.join(flamingoOutPath, pos+'.tif'), rot_img)\n",
    "        if chs == 'sarcomere_reg.Tif':\n",
    "            img = imread(os.path.join(morphPath, pos, chs))\n",
    "            rot_img = np.rot90(img, k=1, axes=(2,1))\n",
    "            imwrite(os.path.join(sarcomereOutPath, pos+'.tif'), rot_img)"
   ]
  },
  {
   "cell_type": "code",
   "execution_count": 28,
   "metadata": {},
   "outputs": [
    {
     "name": "stderr",
     "output_type": "stream",
     "text": [
      "100%|██████████| 3/3 [00:21<00:00,  7.18s/it]\n"
     ]
    }
   ],
   "source": [
    "# organize folder\n",
    "n_area = 6\n",
    "n_tiles_per_area = 88\n",
    "original_folders = [dapiOutPath, flamingoOutPath, sarcomereOutPath]\n",
    "for folder in tqdm(original_folders):\n",
    "    for area in range(n_area):\n",
    "        os.mkdir(f'{folder}/Area_{area+1}')\n",
    "    for tile in os.listdir(folder):\n",
    "        if tile.startswith('Position'):\n",
    "            corr_area = (int(tile[-7:-4])-1) // n_tiles_per_area + 1\n",
    "            shutil.move(f'{folder}/{tile}', f'{folder}/Area_{corr_area}')"
   ]
  },
  {
   "cell_type": "code",
   "execution_count": 6,
   "metadata": {},
   "outputs": [],
   "source": [
    "n_area = 6\n",
    "n_tiles_per_area = 88\n",
    "folder = os.path.join(ppath, 'output', '2022-10-06-AF546-spot-finding')\n",
    "# for area in range(n_area):\n",
    "#     os.mkdir(os.path.join(ppath, 'output', folder, f'Area_{area+1}'))\n",
    "for tile in os.listdir(folder):\n",
    "    if tile.startswith('AF546_Position'):\n",
    "        corr_area = (int(tile[-7:-4])-1) // n_tiles_per_area + 1\n",
    "        shutil.move(f'{folder}/{tile}', f'{folder}/Area_{corr_area}')"
   ]
  },
  {
   "cell_type": "code",
   "execution_count": null,
   "metadata": {},
   "outputs": [],
   "source": []
  }
 ],
 "metadata": {
  "interpreter": {
   "hash": "0774c9394a1aea0cca30f13f7f373026b44b800bfe001e3b93c40d9a34a50f91"
  },
  "kernelspec": {
   "display_name": "Python 3.10.0 ('connie')",
   "language": "python",
   "name": "python3"
  },
  "language_info": {
   "codemirror_mode": {
    "name": "ipython",
    "version": 3
   },
   "file_extension": ".py",
   "mimetype": "text/x-python",
   "name": "python",
   "nbconvert_exporter": "python",
   "pygments_lexer": "ipython3",
   "version": "3.8.12"
  },
  "orig_nbformat": 4
 },
 "nbformat": 4,
 "nbformat_minor": 2
}
