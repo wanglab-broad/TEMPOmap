{
 "cells": [
  {
   "cell_type": "code",
   "execution_count": 1,
   "metadata": {},
   "outputs": [],
   "source": [
    "from starmap.sequencing import *\n",
    "import numpy as np\n",
    "# from spatial_funcs import *\n",
    "import napari\n",
    "import tifffile"
   ]
  },
  {
   "cell_type": "code",
   "execution_count": 18,
   "metadata": {},
   "outputs": [],
   "source": [
    "# fpath = '/stanley/WangLab/Data/Processed/2022-09-12-Rena-HeLa16Gene/output/test'\n",
    "fpath = 'Z:/Data/Processed/2022-09-12-Rena-HeLa16Gene/output/2022-09-14-spot-finding'\n",
    "test_tile = 'Position225'"
   ]
  },
  {
   "cell_type": "code",
   "execution_count": 11,
   "metadata": {},
   "outputs": [],
   "source": [
    "def load_tile_reads(fpath, reads_file):\n",
    "    S = loadmat(os.path.join(fpath, reads_file))\n",
    "    bases = [str(i[0][0]) for i in S[\"tile_goodReads\"]]\n",
    "    points = S[\"tile_goodSpots\"]\n",
    "    temp = np.zeros(points.shape)\n",
    "    temp[:, 0] = np.round(points[:, 2]-1)\n",
    "    temp[:, 1] = np.round(points[:, 1]-1)\n",
    "    temp[:, 2] = np.round(points[:, 0]-1)\n",
    "\n",
    "    print(f\"Number of reads: {len(bases)}\")\n",
    "\n",
    "    return bases, temp\n",
    "\n",
    "def load_tile_allReads(fpath, reads_file):\n",
    "    S = loadmat(os.path.join(fpath, reads_file))\n",
    "    bases = [str(i[0][0]) for i in S[\"tile_allReads\"]]\n",
    "    points = S[\"tile_allSpots\"]\n",
    "    temp = np.zeros(points.shape)\n",
    "    temp[:, 0] = np.round(points[:, 2]-1)\n",
    "    temp[:, 1] = np.round(points[:, 1]-1)\n",
    "    temp[:, 2] = np.round(points[:, 0]-1)\n",
    "\n",
    "    print(f\"Number of reads: {len(bases)}\")\n",
    "\n",
    "    return bases, temp"
   ]
  },
  {
   "cell_type": "code",
   "execution_count": 19,
   "metadata": {},
   "outputs": [
    {
     "name": "stdout",
     "output_type": "stream",
     "text": [
      "Number of reads: 4820\n"
     ]
    },
    {
     "data": {
      "text/plain": [
       "array([[   6., 1001.,  757.],\n",
       "       [   7.,  459.,  385.],\n",
       "       [   7.,  570.,  431.],\n",
       "       ...,\n",
       "       [  22., 1033., 1683.],\n",
       "       [  23., 1309., 1481.],\n",
       "       [  26., 1374., 1546.]])"
      ]
     },
     "execution_count": 19,
     "metadata": {},
     "output_type": "execute_result"
    }
   ],
   "source": [
    "_, goodPoints = load_tile_reads(os.path.join(fpath, test_tile), 'goodPoints_max3d.mat')\n",
    "goodPoints"
   ]
  },
  {
   "cell_type": "code",
   "execution_count": 20,
   "metadata": {},
   "outputs": [
    {
     "name": "stdout",
     "output_type": "stream",
     "text": [
      "Number of reads: 7357\n"
     ]
    },
    {
     "data": {
      "text/plain": [
       "array([[   6., 1001.,  757.],\n",
       "       [   6.,  588.,  878.],\n",
       "       [   6.,  932.,  919.],\n",
       "       ...,\n",
       "       [  23., 1309., 1481.],\n",
       "       [  26., 1448., 1450.],\n",
       "       [  26., 1374., 1546.]])"
      ]
     },
     "execution_count": 20,
     "metadata": {},
     "output_type": "execute_result"
    }
   ],
   "source": [
    "_, allPoints = load_tile_allReads(os.path.join(fpath, test_tile), 'allPoints_max3d.mat')\n",
    "allPoints"
   ]
  },
  {
   "cell_type": "code",
   "execution_count": 7,
   "metadata": {},
   "outputs": [],
   "source": [
    "# fig = plt.figure(figsize=(12, 12))\n",
    "# ax = fig.add_subplot(projection='3d')\n",
    "# ax.scatter(goodPoints[:,0], goodPoints[:,1], goodPoints[:,2])"
   ]
  },
  {
   "cell_type": "code",
   "execution_count": 21,
   "metadata": {},
   "outputs": [
    {
     "data": {
      "text/plain": [
       "(35, 2048, 2048)"
      ]
     },
     "execution_count": 21,
     "metadata": {},
     "output_type": "execute_result"
    }
   ],
   "source": [
    "round1_merged = tifffile.imread(os.path.join(fpath, 'round1_merged', test_tile+'.tif'))\n",
    "round1_merged.shape"
   ]
  },
  {
   "cell_type": "code",
   "execution_count": 22,
   "metadata": {},
   "outputs": [
    {
     "data": {
      "text/plain": [
       "(30.0, 2046.0, 2036.0)"
      ]
     },
     "execution_count": 22,
     "metadata": {},
     "output_type": "execute_result"
    }
   ],
   "source": [
    "max(goodPoints[:,0]), max(goodPoints[:,1]), max(goodPoints[:,2])"
   ]
  },
  {
   "cell_type": "code",
   "execution_count": 23,
   "metadata": {},
   "outputs": [
    {
     "data": {
      "text/plain": [
       "<Points layer 'allPoints' at 0x2283dbe3dc0>"
      ]
     },
     "execution_count": 23,
     "metadata": {},
     "output_type": "execute_result"
    }
   ],
   "source": [
    "# viewer = napari.view_image(np.ones((45, 2048, 2048)))\n",
    "# viewer.add_image(round1_merged)\n",
    "viewer3 = napari.view_image(round1_merged)\n",
    "viewer3.add_points(goodPoints, size=2)\n",
    "viewer3.add_points(allPoints, size=2)"
   ]
  },
  {
   "cell_type": "markdown",
   "metadata": {},
   "source": [
    "### on segmentation mask"
   ]
  },
  {
   "cell_type": "code",
   "execution_count": 3,
   "metadata": {},
   "outputs": [],
   "source": [
    "# Load reads and their positions from mat file\n",
    "def load_reads(fpath, reads_file):\n",
    "    S = loadmat(os.path.join(fpath, reads_file))\n",
    "    bases = [str(i[0][0]) for i in S[\"merged_reads\"]]\n",
    "    points = S[\"merged_points\"]\n",
    "    temp = np.zeros(points.shape)\n",
    "    temp[:, 0] = np.round(points[:, 2]-1) \n",
    "    temp[:, 1] = np.round(points[:, 1]-1)\n",
    "    temp[:, 2] = np.round(points[:, 0]-1)\n",
    "    \n",
    "    print(f\"Number of reads: {len(bases)}\")\n",
    "    \n",
    "    return bases, temp"
   ]
  },
  {
   "cell_type": "code",
   "execution_count": 10,
   "metadata": {},
   "outputs": [
    {
     "name": "stdout",
     "output_type": "stream",
     "text": [
      "Number of reads: 228718\n"
     ]
    }
   ],
   "source": [
    "ppath = 'Z:/Data/Processed/2022-09-12-Rena-HeLa16Gene/'\n",
    "opath = os.path.join(ppath, 'output')\n",
    "area_num = 2\n",
    "bases, points = load_reads(os.path.join(opath, '2022-09-22-merged-points', f'Area_{area_num}'), \"merged_goodPoints.mat\")\n",
    "seg_path = os.path.join(opath, '2022-09-28-3D-segmentation', f'Area_{area_num}')\n",
    "current_seg = tifffile.imread(os.path.join(seg_path, 'cell.tif'))\n",
    "overlay_path = 'Z:/Data/Processed/2022-09-12-Rena-HeLa16Gene/output/2022-09-28-3D-segmentation/dapi_flamingo_overlay'\n",
    "current_overlay = tifffile.imread(os.path.join(overlay_path, f'area{area_num}_overlay.tif'))"
   ]
  },
  {
   "cell_type": "code",
   "execution_count": 9,
   "metadata": {},
   "outputs": [
    {
     "data": {
      "text/plain": [
       "<Image layer 'current_overlay' at 0x2283b839b50>"
      ]
     },
     "execution_count": 9,
     "metadata": {},
     "output_type": "execute_result"
    }
   ],
   "source": [
    "viewer1 = napari.view_image(current_seg)\n",
    "viewer1.add_points(points, size=2)\n",
    "viewer1.add_image(current_overlay)"
   ]
  }
 ],
 "metadata": {
  "interpreter": {
   "hash": "0774c9394a1aea0cca30f13f7f373026b44b800bfe001e3b93c40d9a34a50f91"
  },
  "kernelspec": {
   "display_name": "Python 3 (ipykernel)",
   "language": "python",
   "name": "python3"
  },
  "language_info": {
   "codemirror_mode": {
    "name": "ipython",
    "version": 3
   },
   "file_extension": ".py",
   "mimetype": "text/x-python",
   "name": "python",
   "nbconvert_exporter": "python",
   "pygments_lexer": "ipython3",
   "version": "3.8.11"
  },
  "orig_nbformat": 4
 },
 "nbformat": 4,
 "nbformat_minor": 2
}
