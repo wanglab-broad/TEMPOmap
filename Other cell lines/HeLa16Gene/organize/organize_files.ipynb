{
 "cells": [
  {
   "cell_type": "code",
   "execution_count": 1,
   "metadata": {},
   "outputs": [],
   "source": [
    "import os\n",
    "import re\n",
    "import shutil\n",
    "import numpy as np\n",
    "import pandas as pd\n",
    "\n",
    "from tqdm.notebook import tqdm, trange"
   ]
  },
  {
   "cell_type": "markdown",
   "metadata": {},
   "source": [
    "sequencing folders (round_1~5)"
   ]
  },
  {
   "cell_type": "code",
   "execution_count": 4,
   "metadata": {},
   "outputs": [
    {
     "data": {
      "application/vnd.jupyter.widget-view+json": {
       "model_id": "222da4f6e6ce42d099f9964096f2618a",
       "version_major": 2,
       "version_minor": 0
      },
      "text/plain": [
       "round folder:   0%|          | 0/4 [00:00<?, ?it/s]"
      ]
     },
     "metadata": {},
     "output_type": "display_data"
    },
    {
     "data": {
      "application/vnd.jupyter.widget-view+json": {
       "model_id": "16d5655974954ccf9a95f8306b014284",
       "version_major": 2,
       "version_minor": 0
      },
      "text/plain": [
       "sub folder:   0%|          | 0/293 [00:00<?, ?it/s]"
      ]
     },
     "metadata": {},
     "output_type": "display_data"
    },
    {
     "data": {
      "application/vnd.jupyter.widget-view+json": {
       "model_id": "f8ac5b5b052c4682948932023b4d18f9",
       "version_major": 2,
       "version_minor": 0
      },
      "text/plain": [
       "sub folder:   0%|          | 0/293 [00:00<?, ?it/s]"
      ]
     },
     "metadata": {},
     "output_type": "display_data"
    },
    {
     "data": {
      "application/vnd.jupyter.widget-view+json": {
       "model_id": "36681827246448b6bf894d66e7af6f25",
       "version_major": 2,
       "version_minor": 0
      },
      "text/plain": [
       "sub folder:   0%|          | 0/293 [00:00<?, ?it/s]"
      ]
     },
     "metadata": {},
     "output_type": "display_data"
    },
    {
     "data": {
      "application/vnd.jupyter.widget-view+json": {
       "model_id": "39002dfd2c3d4ad2b7fdf6067838e703",
       "version_major": 2,
       "version_minor": 0
      },
      "text/plain": [
       "sub folder:   0%|          | 0/293 [00:00<?, ?it/s]"
      ]
     },
     "metadata": {},
     "output_type": "display_data"
    },
    {
     "name": "stdout",
     "output_type": "stream",
     "text": [
      "====Finished====\n"
     ]
    }
   ],
   "source": [
    "dry_run = False\n",
    "sample = '2022-09-12-Rena-HeLa16Gene'\n",
    "base_path = f\"/stanley/WangLab/Data/Processed/{sample}\"\n",
    "\n",
    "file_key = 'Position' \n",
    "\n",
    "round_folders = sorted([d for d in os.listdir(base_path) if d.startswith('round')])\n",
    "additional_folders = []\n",
    "data_dirs = round_folders + additional_folders\n",
    "file_nums = [7, 6, 6, 5] \n",
    "sub_folder_index = [p for p in range(1, 295)]\n",
    "\n",
    "for i, current_data_dir in enumerate(tqdm(data_dirs, desc='round folder')):\n",
    "    current_data_dir_path = os.path.join(base_path, current_data_dir)\n",
    "    files_to_keep = [f for f in os.listdir(current_data_dir_path) if file_key in f]\n",
    "    \n",
    "    for j, current_index in enumerate(tqdm(sub_folder_index, desc='sub folder')):\n",
    "        current_sub_folder_name = f\"Position{current_index:03}\"\n",
    "        # print(current_sub_folder_name)\n",
    "        current_sub_folder_path = os.path.join(current_data_dir_path, current_sub_folder_name)\n",
    "        # print(current_sub_folder_path)\n",
    "        \n",
    "        if dry_run:\n",
    "            pass\n",
    "        else:\n",
    "            if not os.path.exists(current_sub_folder_path):\n",
    "                os.mkdir(current_sub_folder_path)\n",
    "            \n",
    "        # get files \n",
    "        current_files = [cf for cf in files_to_keep if current_sub_folder_name in cf]\n",
    "        \n",
    "        # check file number for each tile in dry run\n",
    "        if dry_run:\n",
    "            current_files_num = len(current_files)\n",
    "            if current_data_dir == 'round1':\n",
    "                if current_files_num != file_nums[0]:\n",
    "                    print(current_data_dir, '-', current_sub_folder_name)\n",
    "            elif current_data_dir == 'round2':\n",
    "                if current_files_num != file_nums[1]:\n",
    "                    print(current_data_dir, '-', current_sub_folder_name)\n",
    "            elif current_data_dir == 'round3':\n",
    "                if current_files_num != file_nums[2]:\n",
    "                    print(current_data_dir, '-', current_sub_folder_name)\n",
    "            elif current_data_dir == 'round4':\n",
    "                if current_files_num != file_nums[3]:\n",
    "                    print(current_data_dir, '-', current_sub_folder_name)\n",
    "        else:   \n",
    "            for mf in current_files:\n",
    "                shutil.move(os.path.join(current_data_dir_path, mf),\n",
    "                            os.path.join(current_sub_folder_path, mf))\n",
    "        # break\n",
    "    # break\n",
    "\n",
    "print(\"====Finished====\")"
   ]
  },
  {
   "cell_type": "code",
   "execution_count": null,
   "metadata": {},
   "outputs": [],
   "source": []
  }
 ],
 "metadata": {
  "interpreter": {
   "hash": "ce1f3e257072026c5357f08770dfb64cf9bcd5a1dc83b872a1eb70052fa28ec9"
  },
  "kernelspec": {
   "display_name": "Python 3 (ipykernel)",
   "language": "python",
   "name": "python3"
  },
  "language_info": {
   "codemirror_mode": {
    "name": "ipython",
    "version": 3
   },
   "file_extension": ".py",
   "mimetype": "text/x-python",
   "name": "python",
   "nbconvert_exporter": "python",
   "pygments_lexer": "ipython3",
   "version": "3.8.12"
  },
  "orig_nbformat": 4
 },
 "nbformat": 4,
 "nbformat_minor": 2
}
