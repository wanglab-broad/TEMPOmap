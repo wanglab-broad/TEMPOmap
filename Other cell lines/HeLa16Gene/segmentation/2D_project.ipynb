{
 "cells": [
  {
   "cell_type": "code",
   "execution_count": 1,
   "metadata": {},
   "outputs": [],
   "source": [
    "import sys, os\n",
    "from tifffile import imread, imwrite\n",
    "import numpy as np\n",
    "from tqdm import tqdm\n",
    "import shutil"
   ]
  },
  {
   "cell_type": "markdown",
   "metadata": {},
   "source": [
    "# per tile"
   ]
  },
  {
   "cell_type": "code",
   "execution_count": 2,
   "metadata": {},
   "outputs": [],
   "source": [
    "def int2threeDigitsString(x):\n",
    "    if x < 10:\n",
    "        return '00'+str(x)\n",
    "    elif x < 100:\n",
    "        return '0'+str(x)\n",
    "    else: return str(x)"
   ]
  },
  {
   "cell_type": "code",
   "execution_count": 2,
   "metadata": {},
   "outputs": [],
   "source": [
    "path = 'Z:/Data/Processed/2022-09-12-Rena-HeLa16Gene/output/2022-09-18-2D-max-projection'"
   ]
  },
  {
   "cell_type": "code",
   "execution_count": null,
   "metadata": {},
   "outputs": [],
   "source": [
    "for i in range(1, 295):\n",
    "    if i < 10:\n",
    "        tile = '00'+str(i)\n",
    "    elif i < 100:\n",
    "        tile = '0'+str(i)\n",
    "    else: tile = str(i)\n",
    "    os.mkdir(os.path.join(path, f'Position{tile}'))"
   ]
  },
  {
   "cell_type": "code",
   "execution_count": 10,
   "metadata": {},
   "outputs": [],
   "source": [
    "dapi_path = 'Z:/Data/Processed/2022-09-12-Rena-HeLa16Gene/round1'\n",
    "flamingo_path = 'Z:/Data/Processed/2022-09-12-Rena-HeLa16Gene/output/2022-09-17-ER-flamingo-registration'\n",
    "out_path = 'Z:/Data/Processed/2022-09-12-Rena-HeLa16Gene/output/2022-09-18-2D-max-projection'"
   ]
  },
  {
   "cell_type": "code",
   "execution_count": 7,
   "metadata": {},
   "outputs": [],
   "source": [
    "# test on tile2\n",
    "tile2 = imread(os.path.join(dapi_path, 'Position002', '20220709 TEMPOmap HeLa 16 gene data seq1_Position002_1_cmle_ch04.tif'))\n",
    "max2d = np.amax(tile2, axis=0)\n",
    "imwrite(os.path.join(out_path, 'Position002', 'dapi_2d.tif'), max2d)"
   ]
  },
  {
   "cell_type": "code",
   "execution_count": 16,
   "metadata": {},
   "outputs": [
    {
     "name": "stderr",
     "output_type": "stream",
     "text": [
      "100%|██████████| 294/294 [22:14<00:00,  4.54s/it]\n"
     ]
    }
   ],
   "source": [
    "for i in tqdm(range(1, 295)):\n",
    "    tile = int2threeDigitsString(i)\n",
    "    dapi3d = imread(os.path.join(dapi_path, f'Position{tile}', f'20220709 TEMPOmap HeLa 16 gene data seq1_Position{tile}_{i-1}_cmle_ch04.tif'))\n",
    "    flamingo3d = imread(os.path.join(flamingo_path, f'Position{tile}', 'flamingo_reg.tif'))\n",
    "    dapi2d = np.amax(dapi3d, axis=0)\n",
    "    flamingo2d = np.amax(flamingo3d, axis=0)\n",
    "    imwrite(os.path.join(out_path, f'Position{tile}', 'dapi_2d.tif'), dapi2d)\n",
    "    imwrite(os.path.join(out_path, f'Position{tile}', 'flamingo_2d.tif'), flamingo2d)"
   ]
  },
  {
   "cell_type": "code",
   "execution_count": 7,
   "metadata": {},
   "outputs": [
    {
     "name": "stderr",
     "output_type": "stream",
     "text": [
      "100%|██████████| 294/294 [01:57<00:00,  2.50it/s]\n"
     ]
    }
   ],
   "source": [
    "# organize folders -- for CellProfiler trouble shooting\n",
    "for i in tqdm(range(1, 295)):\n",
    "    tile = int2threeDigitsString(i)\n",
    "    shutil.copy(os.path.join(path, f'Position{tile}', 'dapi_2d.tif'), os.path.join(path, 'dapi', f'Position{tile}_dapi.tif'))\n",
    "    shutil.copy(os.path.join(path, f'Position{tile}', 'flamingo_2d.tif'), os.path.join(path, 'flamingo', f'Position{tile}_flamingo.tif'))\n",
    "    # break"
   ]
  },
  {
   "cell_type": "markdown",
   "metadata": {},
   "source": [
    "# per Area"
   ]
  },
  {
   "cell_type": "code",
   "execution_count": 5,
   "metadata": {},
   "outputs": [],
   "source": [
    "dapi_path = 'Z:/Data/Processed/2022-09-12-Rena-HeLa16Gene/output/2022-09-16-stitching/rotated_morph_DAPI'\n",
    "flamingo_path = 'Z:/Data/Processed/2022-09-12-Rena-HeLa16Gene/output/stitching/rotated_Flamingo'\n",
    "out_path = 'Z:/Data/Processed/2022-09-12-Rena-HeLa16Gene/output/2022-09-22-2D-max-projection'"
   ]
  },
  {
   "cell_type": "code",
   "execution_count": 6,
   "metadata": {},
   "outputs": [
    {
     "name": "stderr",
     "output_type": "stream",
     "text": [
      "100%|██████████| 7/7 [08:28<00:00, 72.63s/it]\n"
     ]
    }
   ],
   "source": [
    "for area in tqdm(range(1,8)):\n",
    "    dapi3d = imread(os.path.join(dapi_path, f'Area_{area}', f'Area{area}.tif'))\n",
    "    # flamingo3d = imread(os.path.join(flamingo_path, f'Area_{area}', f'Area{area}.tif'))\n",
    "    dapi2d = np.amax(dapi3d, axis=0)\n",
    "    # flamingo2d = np.amax(flamingo3d, axis=0)\n",
    "    imwrite(os.path.join(out_path, f'Area{area}_dapi_2d.tif'), dapi2d)\n",
    "    # imwrite(os.path.join(out_path, f'Area{area}_flamingo_2d.tif'), flamingo2d)"
   ]
  }
 ],
 "metadata": {
  "kernelspec": {
   "display_name": "Python 3.10.0 ('connie')",
   "language": "python",
   "name": "python3"
  },
  "language_info": {
   "codemirror_mode": {
    "name": "ipython",
    "version": 3
   },
   "file_extension": ".py",
   "mimetype": "text/x-python",
   "name": "python",
   "nbconvert_exporter": "python",
   "pygments_lexer": "ipython3",
   "version": "3.10.0"
  },
  "orig_nbformat": 4,
  "vscode": {
   "interpreter": {
    "hash": "0774c9394a1aea0cca30f13f7f373026b44b800bfe001e3b93c40d9a34a50f91"
   }
  }
 },
 "nbformat": 4,
 "nbformat_minor": 2
}
