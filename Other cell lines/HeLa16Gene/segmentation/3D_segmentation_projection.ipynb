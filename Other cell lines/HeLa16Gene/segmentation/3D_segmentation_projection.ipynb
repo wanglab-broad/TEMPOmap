{
 "cells": [
  {
   "cell_type": "code",
   "execution_count": 2,
   "metadata": {},
   "outputs": [],
   "source": [
    "import numpy as np\n",
    "import sys, os\n",
    "from tifffile import imread, imwrite\n",
    "from skimage import filters, measure, feature, morphology, segmentation\n",
    "import napari"
   ]
  },
  {
   "cell_type": "code",
   "execution_count": 3,
   "metadata": {},
   "outputs": [],
   "source": [
    "path_2Dseg = 'Z:/Data/Processed/2022-09-12-Rena-HeLa16Gene/output/2022-09-27-2D-segmentation'\n",
    "path_3DrawDapi = 'Z:/Data/Processed/2022-09-12-Rena-HeLa16Gene/output/2022-09-16-stitching/rotated_morph_DAPI'\n",
    "path_3DrawFlamingo = 'Z:/Data/Processed/2022-09-12-Rena-HeLa16Gene/output/2022-09-16-stitching/rotated_Flamingo'\n",
    "path_output = 'Z:/Data/Processed/2022-09-12-Rena-HeLa16Gene/output/2022-09-28-3D-segmentation'\n",
    "areas = range(1,8)"
   ]
  },
  {
   "cell_type": "code",
   "execution_count": 4,
   "metadata": {},
   "outputs": [],
   "source": [
    "# params\n",
    "sigma = 6\n",
    "nucleus_min_size = 100\n",
    "nucleus_max_size = 40000"
   ]
  },
  {
   "cell_type": "code",
   "execution_count": null,
   "metadata": {},
   "outputs": [],
   "source": [
    "for im in areas:\n",
    "    # nucleus\n",
    "    dapi = imread(os.path.join(fpath, f'Area{im}_dapi_3d.tif'))\n",
    "    dapi_gf = filters.gaussian(dapi, sigma=sigma)\n",
    "    dapi_mf = filters.median(dapi_gf)\n",
    "    thresh = filters.threshold_li(dapi_mf)\n",
    "    binary = dapi_mf >= thresh\n",
    "\n",
    "    # cytosol\n",
    "    flamingo = imread(os.path.join(fpath, f'Area{im}_flamingo_3d.tif'))\n",
    "    break"
   ]
  },
  {
   "cell_type": "markdown",
   "metadata": {},
   "source": [
    "## test"
   ]
  },
  {
   "cell_type": "code",
   "execution_count": 5,
   "metadata": {},
   "outputs": [
    {
     "name": "stderr",
     "output_type": "stream",
     "text": [
      "c:\\Users\\wangk\\.conda\\envs\\connie\\lib\\site-packages\\skimage\\filters\\thresholding.py:744: RuntimeWarning: divide by zero encountered in log\n",
      "  / (np.log(mean_back) - np.log(mean_fore)))\n"
     ]
    }
   ],
   "source": [
    "dapi_2Dseg = imread(os.path.join(path_2Dseg, 'area1_dapi_2d_seg.tiff'))\n",
    "dapi_3Draw = imread(os.path.join(path_3DrawDapi, 'Area_1', 'Area1.tif'))\n",
    "# dapi_gf = filters.gaussian(dapi_3Draw, sigma=sigma)\n",
    "dapi_mf = filters.median(dapi_3Draw)\n",
    "dapi_thresh = filters.threshold_li(dapi_mf)\n",
    "dapi_binary = dapi_mf >= dapi_thresh"
   ]
  },
  {
   "cell_type": "code",
   "execution_count": 17,
   "metadata": {},
   "outputs": [
    {
     "name": "stderr",
     "output_type": "stream",
     "text": [
      "c:\\Users\\wangk\\.conda\\envs\\connie\\lib\\site-packages\\skimage\\filters\\thresholding.py:744: RuntimeWarning: divide by zero encountered in log\n",
      "  / (np.log(mean_back) - np.log(mean_fore)))\n"
     ]
    },
    {
     "data": {
      "text/plain": [
       "0.0"
      ]
     },
     "execution_count": 17,
     "metadata": {},
     "output_type": "execute_result"
    }
   ],
   "source": [
    "filters.threshold_li(dapi_mf)"
   ]
  },
  {
   "cell_type": "code",
   "execution_count": 21,
   "metadata": {},
   "outputs": [],
   "source": [
    "dapi_thresh = filters.threshold_otsu(dapi_mf)\n",
    "dapi_binary = dapi_mf >= dapi_thresh"
   ]
  },
  {
   "cell_type": "code",
   "execution_count": 23,
   "metadata": {},
   "outputs": [
    {
     "data": {
      "text/plain": [
       "<Image layer 'dapi_binary1' at 0x1912a7c1b50>"
      ]
     },
     "execution_count": 23,
     "metadata": {},
     "output_type": "execute_result"
    }
   ],
   "source": [
    "dapi_thresh1 = filters.threshold_multiotsu(dapi_mf)\n",
    "dapi_binary1 = dapi_mf >= dapi_thresh1[0]\n",
    "viewer.add_image(dapi_binary1)"
   ]
  },
  {
   "cell_type": "code",
   "execution_count": 22,
   "metadata": {},
   "outputs": [
    {
     "data": {
      "text/plain": [
       "<Image layer 'dapi_binary' at 0x191225d29d0>"
      ]
     },
     "execution_count": 22,
     "metadata": {},
     "output_type": "execute_result"
    }
   ],
   "source": [
    "viewer = napari.view_image(dapi_3Draw)\n",
    "viewer.add_image(dapi_binary)"
   ]
  },
  {
   "cell_type": "code",
   "execution_count": null,
   "metadata": {},
   "outputs": [],
   "source": []
  },
  {
   "cell_type": "code",
   "execution_count": null,
   "metadata": {},
   "outputs": [],
   "source": [
    "dapi_proj = np.zeros(dapi_3Draw.shape, dtype=np.int16)\n",
    "for layer in range(dapi_3Draw.shape[0]):\n",
    "    for i in range(dapi_3Draw.shape[1]):\n",
    "        for j in range(dapi_3Draw.shape[2]):\n",
    "            if binary[layer,i,j]:      \n",
    "                dapi_proj[layer,i,j] = dapi_2Dseg[i,j]"
   ]
  },
  {
   "cell_type": "code",
   "execution_count": null,
   "metadata": {},
   "outputs": [],
   "source": [
    "flamingo_2Dseg = imread(os.path.join(path_2Dseg, 'Area1_flamingo_2Dseg.tif'))\n",
    "flamingo_3Draw = imread(os.path.join(path_3DrawFlamingo, 'Area1', 'Area1.tif'))\n",
    "flamingo_gf = filters.gaussian(flamingo_3Draw, sigma=sigma)\n",
    "flamingo_mf = filters.median(flamingo_gf)\n",
    "flamingo_thresh = filters.threshold_li(flamingo_mf)\n",
    "flamingo_binary = flamingo_mf >= flamingo_thresh"
   ]
  },
  {
   "cell_type": "code",
   "execution_count": null,
   "metadata": {},
   "outputs": [],
   "source": [
    "flamingo_proj = np.zeros(flamingo_3Draw.shape, dtype=np.int16)\n",
    "for layer in range(flamingo_3Draw.shape[0]):\n",
    "    for i in range(flamingo_3Draw.shape[1]):\n",
    "        for j in range(flamingo_3Draw.shape[2]):\n",
    "            if binary[layer,i,j]:      \n",
    "                flamingo_proj[layer,i,j] = flamingo_2Dseg[i,j]"
   ]
  },
  {
   "cell_type": "code",
   "execution_count": null,
   "metadata": {},
   "outputs": [],
   "source": [
    "imwrite(os.path.join(path_output, 'Area1', '3d'), dapi_proj)\n",
    "imwrite(os.path.join(path_output, 'Area1', '3d'), flamingo_proj)"
   ]
  }
 ],
 "metadata": {
  "kernelspec": {
   "display_name": "Python 3.10.0 ('connie')",
   "language": "python",
   "name": "python3"
  },
  "language_info": {
   "codemirror_mode": {
    "name": "ipython",
    "version": 3
   },
   "file_extension": ".py",
   "mimetype": "text/x-python",
   "name": "python",
   "nbconvert_exporter": "python",
   "pygments_lexer": "ipython3",
   "version": "3.8.12"
  },
  "orig_nbformat": 4,
  "vscode": {
   "interpreter": {
    "hash": "0774c9394a1aea0cca30f13f7f373026b44b800bfe001e3b93c40d9a34a50f91"
   }
  }
 },
 "nbformat": 4,
 "nbformat_minor": 2
}
