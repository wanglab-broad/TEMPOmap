{
 "cells": [
  {
   "cell_type": "markdown",
   "metadata": {},
   "source": [
    "This notebook is part of project-segmentation pipeline.    \n",
    "1. merge DAPI and Flamingo for 3D segmentation\n",
    "2. check for filtering parameters"
   ]
  },
  {
   "cell_type": "code",
   "execution_count": 1,
   "metadata": {},
   "outputs": [],
   "source": [
    "import os\n",
    "from tifffile import imread, imwrite\n",
    "import napari\n",
    "from skimage import filters, morphology\n",
    "from tqdm import tqdm"
   ]
  },
  {
   "cell_type": "markdown",
   "metadata": {},
   "source": [
    "# Input"
   ]
  },
  {
   "cell_type": "code",
   "execution_count": 2,
   "metadata": {},
   "outputs": [],
   "source": [
    "ppath = 'Z:/Data/Processed/2022-09-12-Rena-HeLa16Gene'\n",
    "stitched_path = ppath + '/output/2022-09-16-stitching'\n",
    "output_path = ppath + '/output/2022-09-28-3D-segmentation/dapi_flamingo_overlay'"
   ]
  },
  {
   "cell_type": "markdown",
   "metadata": {},
   "source": [
    "# Test"
   ]
  },
  {
   "cell_type": "code",
   "execution_count": 3,
   "metadata": {},
   "outputs": [
    {
     "data": {
      "text/plain": [
       "(45, 13150, 11202)"
      ]
     },
     "execution_count": 3,
     "metadata": {},
     "output_type": "execute_result"
    }
   ],
   "source": [
    "a1dapi = imread(stitched_path+'/rotated_morph_DAPI/Area_1/Area1.tif')\n",
    "a1dapi.shape"
   ]
  },
  {
   "cell_type": "code",
   "execution_count": 4,
   "metadata": {},
   "outputs": [
    {
     "data": {
      "text/plain": [
       "<Image layer 'a1dapi' at 0x23894636f20>"
      ]
     },
     "execution_count": 4,
     "metadata": {},
     "output_type": "execute_result"
    }
   ],
   "source": [
    "a1flamingo = imread(stitched_path+'/rotated_flamingo/Area_1/Area1.tif')\n",
    "merged = a1flamingo + a1dapi\n",
    "viewer = napari.view_image(merged)\n",
    "viewer.add_image(a1flamingo)\n",
    "viewer.add_image(a1dapi)"
   ]
  },
  {
   "cell_type": "code",
   "execution_count": 5,
   "metadata": {},
   "outputs": [],
   "source": [
    "imwrite(os.path.join(output_path, 'area1_overlay'), merged)"
   ]
  },
  {
   "cell_type": "markdown",
   "metadata": {},
   "source": [
    "# Process"
   ]
  },
  {
   "cell_type": "code",
   "execution_count": 3,
   "metadata": {},
   "outputs": [
    {
     "name": "stderr",
     "output_type": "stream",
     "text": [
      "100%|██████████| 1/1 [03:00<00:00, 180.94s/it]\n"
     ]
    }
   ],
   "source": [
    "n = 2 # some cytosol is brighter while some in the opposite\n",
    "for area in tqdm(range(4,5)):\n",
    "    dapi = imread(os.path.join(stitched_path, 'rotated_morph_DAPI', f'Area_{area}', f'Area{area}.tif'))\n",
    "    flamingo = imread(os.path.join(stitched_path, 'rotated_Flamingo', f'Area_{area}', f'Area{area}.tif'))\n",
    "    merged = dapi + n * flamingo\n",
    "    # imwrite(os.path.join(output_path, f'area{area}_overlay.tif'), merged)"
   ]
  },
  {
   "cell_type": "code",
   "execution_count": 8,
   "metadata": {},
   "outputs": [],
   "source": [
    "# viewer = napari.view_image(merged)"
   ]
  },
  {
   "cell_type": "code",
   "execution_count": 9,
   "metadata": {},
   "outputs": [],
   "source": [
    "imwrite(os.path.join(output_path, f'area{area}_overlay_1.tif'), merged)"
   ]
  }
 ],
 "metadata": {
  "interpreter": {
   "hash": "0774c9394a1aea0cca30f13f7f373026b44b800bfe001e3b93c40d9a34a50f91"
  },
  "kernelspec": {
   "display_name": "Python 3.10.0 ('connie')",
   "language": "python",
   "name": "python3"
  },
  "language_info": {
   "codemirror_mode": {
    "name": "ipython",
    "version": 3
   },
   "file_extension": ".py",
   "mimetype": "text/x-python",
   "name": "python",
   "nbconvert_exporter": "python",
   "pygments_lexer": "ipython3",
   "version": "3.8.12"
  },
  "orig_nbformat": 4
 },
 "nbformat": 4,
 "nbformat_minor": 2
}
