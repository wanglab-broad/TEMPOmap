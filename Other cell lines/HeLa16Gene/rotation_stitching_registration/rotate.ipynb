{
 "cells": [
  {
   "cell_type": "markdown",
   "metadata": {},
   "source": [
    "This notebook     \n",
    "1. rotates each tile 90 degrees clock-wise for DAPI in sequencing images and all in morph_stain images (DAPI, Flamingo, ER)\n",
    "2. organize rotated images for FIJI stitching plug-in"
   ]
  },
  {
   "cell_type": "code",
   "execution_count": 1,
   "metadata": {},
   "outputs": [],
   "source": [
    "from tqdm import tqdm\n",
    "import os, shutil\n",
    "from tifffile import imread, imwrite\n",
    "import numpy as np\n",
    "import re"
   ]
  },
  {
   "cell_type": "code",
   "execution_count": 5,
   "metadata": {},
   "outputs": [],
   "source": [
    "ppath = 'Z:/Data/Processed/2022-09-12-Rena-HeLa16Gene'\n",
    "seqPath = ppath + '/round1'\n",
    "morphPath = ppath +'/morph_stain'\n",
    "\n",
    "seqDapiOutPath = ppath +'/output/stitching/rotated_seq_DAPI'\n",
    "morphDapiOutPath = ppath +'/output/stitching/rotated_morph_DAPI'\n",
    "erOutPath = ppath +'/output/stitching/rotated_ER'\n",
    "flamingoOutPath = ppath +'/output/stitching/rotated_Flamingo'"
   ]
  },
  {
   "cell_type": "code",
   "execution_count": 6,
   "metadata": {},
   "outputs": [],
   "source": [
    "# test on Position001\n",
    "test_pos = 'Position001'\n",
    "test_path = os.path.join(seqPath, test_pos, f'20220709 TEMPOmap HeLa 16 gene data seq1_{test_pos}_0_cmle_ch04.tif')\n",
    "orig_img = imread(test_path)\n",
    "rot_img = np.rot90(orig_img, k=1, axes=(2,1))\n",
    "imwrite(seqDapiOutPath+'/test_Position001.tif', rot_img)"
   ]
  },
  {
   "cell_type": "code",
   "execution_count": 7,
   "metadata": {},
   "outputs": [
    {
     "name": "stderr",
     "output_type": "stream",
     "text": [
      "100%|██████████| 295/295 [24:55<00:00,  5.07s/it]\n"
     ]
    }
   ],
   "source": [
    "# seq images\n",
    "for pos in tqdm(os.listdir(seqPath)):\n",
    "    if os.path.isdir(os.path.join(seqPath, pos)):\n",
    "        for chs in os.listdir(os.path.join(seqPath, pos)):\n",
    "            if chs.endswith('ch04.tif'):\n",
    "                img = imread(os.path.join(seqPath, pos, chs))\n",
    "                rot_img = np.rot90(img, k=1, axes=(2,1))\n",
    "                imwrite(os.path.join(seqDapiOutPath, pos+'.tif'), rot_img)"
   ]
  },
  {
   "cell_type": "code",
   "execution_count": 9,
   "metadata": {},
   "outputs": [
    {
     "name": "stderr",
     "output_type": "stream",
     "text": [
      "100%|█████████▉| 294/295 [1:24:20<00:17, 17.21s/it]\n"
     ]
    },
    {
     "ename": "NotADirectoryError",
     "evalue": "[WinError 267] The directory name is invalid: 'Z:/Data/Processed/2022-09-12-Rena-HeLa16Gene/morph_stain\\\\Thumbs.db'",
     "output_type": "error",
     "traceback": [
      "\u001b[1;31m---------------------------------------------------------------------------\u001b[0m",
      "\u001b[1;31mNotADirectoryError\u001b[0m                        Traceback (most recent call last)",
      "\u001b[1;32mz:\\Connie\\02.TEMPOmap\\01.revision16Gene\\code\\rotation_stitching_registration\\rotate.ipynb Cell 6\u001b[0m in \u001b[0;36m<cell line: 2>\u001b[1;34m()\u001b[0m\n\u001b[0;32m      <a href='vscode-notebook-cell:/z%3A/Connie/02.TEMPOmap/01.revision16Gene/code/rotation_stitching_registration/rotate.ipynb#X14sZmlsZQ%3D%3D?line=0'>1</a>\u001b[0m \u001b[39m# morph images\u001b[39;00m\n\u001b[0;32m      <a href='vscode-notebook-cell:/z%3A/Connie/02.TEMPOmap/01.revision16Gene/code/rotation_stitching_registration/rotate.ipynb#X14sZmlsZQ%3D%3D?line=1'>2</a>\u001b[0m \u001b[39mfor\u001b[39;00m pos \u001b[39min\u001b[39;00m tqdm(os\u001b[39m.\u001b[39mlistdir(morphPath)):\n\u001b[1;32m----> <a href='vscode-notebook-cell:/z%3A/Connie/02.TEMPOmap/01.revision16Gene/code/rotation_stitching_registration/rotate.ipynb#X14sZmlsZQ%3D%3D?line=2'>3</a>\u001b[0m     \u001b[39mfor\u001b[39;00m chs \u001b[39min\u001b[39;00m os\u001b[39m.\u001b[39;49mlistdir(os\u001b[39m.\u001b[39;49mpath\u001b[39m.\u001b[39;49mjoin(morphPath, pos)):\n\u001b[0;32m      <a href='vscode-notebook-cell:/z%3A/Connie/02.TEMPOmap/01.revision16Gene/code/rotation_stitching_registration/rotate.ipynb#X14sZmlsZQ%3D%3D?line=3'>4</a>\u001b[0m         \u001b[39mif\u001b[39;00m chs\u001b[39m.\u001b[39mendswith(\u001b[39m'\u001b[39m\u001b[39mch00.tif\u001b[39m\u001b[39m'\u001b[39m):\n\u001b[0;32m      <a href='vscode-notebook-cell:/z%3A/Connie/02.TEMPOmap/01.revision16Gene/code/rotation_stitching_registration/rotate.ipynb#X14sZmlsZQ%3D%3D?line=4'>5</a>\u001b[0m             img \u001b[39m=\u001b[39m imread(os\u001b[39m.\u001b[39mpath\u001b[39m.\u001b[39mjoin(morphPath, pos, chs))\n",
      "\u001b[1;31mNotADirectoryError\u001b[0m: [WinError 267] The directory name is invalid: 'Z:/Data/Processed/2022-09-12-Rena-HeLa16Gene/morph_stain\\\\Thumbs.db'"
     ]
    }
   ],
   "source": [
    "# morph images\n",
    "for pos in tqdm(os.listdir(morphPath)):\n",
    "    # if os.path.isdir(os.path.join(seqPath, pos)):\n",
    "    for chs in os.listdir(os.path.join(morphPath, pos)):\n",
    "        if chs.endswith('ch00.tif'):\n",
    "            img = imread(os.path.join(morphPath, pos, chs))\n",
    "            rot_img = np.rot90(img, k=1, axes=(2,1))\n",
    "            imwrite(os.path.join(morphDapiOutPath, pos+'.tif'), rot_img)\n",
    "        if chs.endswith('ch01.tif'):\n",
    "            img = imread(os.path.join(morphPath, pos, chs))\n",
    "            rot_img = np.rot90(img, k=1, axes=(2,1))\n",
    "            imwrite(os.path.join(erOutPath, pos+'.tif'), rot_img)\n",
    "        if chs.endswith('ch02.tif'):\n",
    "            img = imread(os.path.join(morphPath, pos, chs))\n",
    "            rot_img = np.rot90(img, k=1, axes=(2,1))\n",
    "            imwrite(os.path.join(flamingoOutPath, pos+'.tif'), rot_img)"
   ]
  },
  {
   "cell_type": "code",
   "execution_count": 40,
   "metadata": {},
   "outputs": [
    {
     "name": "stderr",
     "output_type": "stream",
     "text": [
      "100%|██████████| 3/3 [00:17<00:00,  5.99s/it]\n"
     ]
    }
   ],
   "source": [
    "# organize folder\n",
    "n_area = 7\n",
    "n_tiles_per_area = 42\n",
    "original_folders = [seqDapiOutPath, morphDapiOutPath, erOutPath, flamingoOutPath]\n",
    "for folder in tqdm(original_folders):\n",
    "    for area in range(n_area):\n",
    "        os.mkdir(f'{folder}/Area_{area+1}')\n",
    "    for tile in os.listdir(folder):\n",
    "        if tile.startswith('Position'):\n",
    "            corr_area = (int(tile[-7:-4])-1) // n_tiles_per_area + 1\n",
    "            shutil.move(f'{folder}/{tile}', f'{folder}/Area_{corr_area}')"
   ]
  },
  {
   "cell_type": "code",
   "execution_count": null,
   "metadata": {},
   "outputs": [],
   "source": []
  }
 ],
 "metadata": {
  "interpreter": {
   "hash": "0774c9394a1aea0cca30f13f7f373026b44b800bfe001e3b93c40d9a34a50f91"
  },
  "kernelspec": {
   "display_name": "Python 3.10.0 ('connie')",
   "language": "python",
   "name": "python3"
  },
  "language_info": {
   "codemirror_mode": {
    "name": "ipython",
    "version": 3
   },
   "file_extension": ".py",
   "mimetype": "text/x-python",
   "name": "python",
   "nbconvert_exporter": "python",
   "pygments_lexer": "ipython3",
   "version": "3.10.0"
  },
  "orig_nbformat": 4
 },
 "nbformat": 4,
 "nbformat_minor": 2
}
