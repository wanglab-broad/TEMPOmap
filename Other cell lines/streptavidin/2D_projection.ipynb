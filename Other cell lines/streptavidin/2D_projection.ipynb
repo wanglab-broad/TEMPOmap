{
 "cells": [
  {
   "cell_type": "code",
   "execution_count": 1,
   "metadata": {},
   "outputs": [],
   "source": [
    "from tifffile import imread, imwrite\n",
    "import numpy as np\n",
    "import os\n",
    "from tqdm import tqdm\n",
    "import shutil"
   ]
  },
  {
   "cell_type": "code",
   "execution_count": 2,
   "metadata": {},
   "outputs": [],
   "source": [
    "fpath = '/stanley/WangLab/Connie/02.TEMPOmap/05.revisionQuantification/2022-11-11 Streptavidin-647-biotin-azide on EU-RNA'\n",
    "sample_list = ['0h', '1h', '2h', '4h', '6h', '20h', 'ctrl']"
   ]
  },
  {
   "cell_type": "code",
   "execution_count": 4,
   "metadata": {},
   "outputs": [],
   "source": [
    "# for sample in sample_list:\n",
    "#     for tile in range(4):\n",
    "#         os.mkdir(os.path.join(fpath, sample, f'tile{tile+1}'))"
   ]
  },
  {
   "cell_type": "code",
   "execution_count": 12,
   "metadata": {},
   "outputs": [],
   "source": [
    "# organize to tile folder\n",
    "# for sample in sample_list:\n",
    "#     for f in os.listdir(os.path.join(fpath, sample)):\n",
    "#         if f.endswith('tif'):\n",
    "#             shutil.move(os.path.join(fpath, sample, f), os.path.join(fpath, sample, f'tile{f[-13]}', f))"
   ]
  },
  {
   "cell_type": "code",
   "execution_count": 4,
   "metadata": {},
   "outputs": [],
   "source": [
    "# project 2D\n",
    "for sample in sample_list:\n",
    "    for tile in os.listdir(os.path.join(fpath, sample)):\n",
    "        for im in os.listdir(os.path.join(fpath, sample, tile)):\n",
    "            # if im.endswith('ch00.tif'):\n",
    "            #     dapi = imread(os.path.join(fpath, sample, tile, im))\n",
    "            #     dapi_2d = np.amax(dapi, axis=0)\n",
    "            #     imwrite(os.path.join(fpath, '2D-projection', f'dapi2D_{sample}_{tile}.tif'), dapi_2d)\n",
    "            if im.endswith('ch02.tif'):\n",
    "                flamingo = imread(os.path.join(fpath, sample, tile, im))\n",
    "                flamingo_2d = np.amax(flamingo, axis=0)\n",
    "                imwrite(os.path.join(fpath, '2D-projection', f'flamingo2D_{sample}_{tile}.tif'), flamingo_2d)"
   ]
  },
  {
   "cell_type": "code",
   "execution_count": null,
   "metadata": {},
   "outputs": [],
   "source": []
  }
 ],
 "metadata": {
  "kernelspec": {
   "display_name": "Python 3 (ipykernel)",
   "language": "python",
   "name": "python3"
  },
  "language_info": {
   "codemirror_mode": {
    "name": "ipython",
    "version": 3
   },
   "file_extension": ".py",
   "mimetype": "text/x-python",
   "name": "python",
   "nbconvert_exporter": "python",
   "pygments_lexer": "ipython3",
   "version": "3.8.12"
  },
  "orig_nbformat": 4,
  "vscode": {
   "interpreter": {
    "hash": "0774c9394a1aea0cca30f13f7f373026b44b800bfe001e3b93c40d9a34a50f91"
   }
  }
 },
 "nbformat": 4,
 "nbformat_minor": 2
}
